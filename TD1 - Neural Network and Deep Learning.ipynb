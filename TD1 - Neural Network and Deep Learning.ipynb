{
 "cells": [
  {
   "cell_type": "markdown",
   "metadata": {
    "id": "657JLvobVUwO"
   },
   "source": [
    "# Regression with DNN"
   ]
  },
  {
   "cell_type": "markdown",
   "metadata": {
    "id": "o5woqp05VuWR"
   },
   "source": [
    "**Objectives :**\n",
    "\n",
    "* Predicts housing prices from a set of house features.\n",
    "* Understanding the principle and the architecture of a regression with a dense neural network with backup and restore of the trained model.\n",
    "\n",
    "The [Boston Housing Prices Dataset](https://www.cs.toronto.edu/~delve/data/boston/bostonDetail.html) consists of price of houses in various places in Boston.\n",
    "Alongside with price, the dataset also provide these information :\n",
    "\n",
    "* CRIM: This is the per capita crime rate by town\n",
    "* ZN: This is the proportion of residential land zoned for lots larger than 25,000 sq.ft\n",
    "* INDUS: This is the proportion of non-retail business acres per town\n",
    "* CHAS: This is the Charles River dummy variable (this is equal to 1 if tract bounds river; 0 otherwise)\n",
    "* NOX: This is the nitric oxides concentration (parts per 10 million)\n",
    "* RM: This is the average number of rooms per dwelling\n",
    "* AGE: This is the proportion of owner-occupied units built prior to 1940\n",
    "* DIS: This is the weighted distances to five Boston employment centers\n",
    "* RAD: This is the index of accessibility to radial highways\n",
    "* TAX: This is the full-value property-tax rate per 10,000 dollars\n",
    "* PTRATIO: This is the pupil-teacher ratio by town\n",
    "* B: This is calculated as 1000(Bk — 0.63)^2, where Bk is the proportion of people of African American descent by town\n",
    "* LSTAT: This is the percentage lower status of the population\n",
    "* MEDV: This is the median value of owner-occupied homes in 1000 dollars\n",
    "\n",
    "**What we're going to do :**\n",
    "\n",
    "* (Retrieve data)\n",
    "* (Preparing the data)\n",
    "* (Build a model)\n",
    "* Train and save the model\n",
    "* Restore saved model\n",
    "* Evaluate the model\n",
    "* Make some predictions\n"
   ]
  },
  {
   "cell_type": "code",
   "execution_count": 90,
   "metadata": {
    "executionInfo": {
     "elapsed": 7826,
     "status": "ok",
     "timestamp": 1705682875124,
     "user": {
      "displayName": "Walid Kheriji",
      "userId": "17231722363260848260"
     },
     "user_tz": -60
    },
    "id": "X_N8j7NlK95Q"
   },
   "outputs": [],
   "source": [
    "# import os\n",
    "# os.environ['TF_CPP_MIN_LOG_LEVEL'] = '2'\n",
    "\n",
    "import tensorflow as tf\n",
    "from tensorflow import keras\n",
    "\n",
    "import numpy as np\n",
    "import matplotlib.pyplot as plt\n",
    "import pandas as pd\n",
    "import os,sys\n",
    "\n",
    "from IPython.display import Markdown\n",
    "from importlib import reload"
   ]
  },
  {
   "cell_type": "code",
   "execution_count": 91,
   "metadata": {
    "id": "_4o6hxT6na34"
   },
   "outputs": [],
   "source": [
    "data = pd.read_csv('BostonHousing.csv', sep=',',header=0)"
   ]
  },
  {
   "cell_type": "markdown",
   "metadata": {
    "id": "6d8HIl4AM1Dx"
   },
   "source": [
    "Load the boston housing dataset"
   ]
  },
  {
   "cell_type": "code",
   "execution_count": 92,
   "metadata": {
    "id": "V_wB6gOtYZg5"
   },
   "outputs": [
    {
     "data": {
      "text/html": [
       "<style type=\"text/css\">\n",
       "</style>\n",
       "<table id=\"T_44e97\">\n",
       "  <thead>\n",
       "    <tr>\n",
       "      <th class=\"blank level0\" >&nbsp;</th>\n",
       "      <th id=\"T_44e97_level0_col0\" class=\"col_heading level0 col0\" >crim</th>\n",
       "      <th id=\"T_44e97_level0_col1\" class=\"col_heading level0 col1\" >zn</th>\n",
       "      <th id=\"T_44e97_level0_col2\" class=\"col_heading level0 col2\" >indus</th>\n",
       "      <th id=\"T_44e97_level0_col3\" class=\"col_heading level0 col3\" >chas</th>\n",
       "      <th id=\"T_44e97_level0_col4\" class=\"col_heading level0 col4\" >nox</th>\n",
       "      <th id=\"T_44e97_level0_col5\" class=\"col_heading level0 col5\" >rm</th>\n",
       "      <th id=\"T_44e97_level0_col6\" class=\"col_heading level0 col6\" >age</th>\n",
       "      <th id=\"T_44e97_level0_col7\" class=\"col_heading level0 col7\" >dis</th>\n",
       "      <th id=\"T_44e97_level0_col8\" class=\"col_heading level0 col8\" >rad</th>\n",
       "      <th id=\"T_44e97_level0_col9\" class=\"col_heading level0 col9\" >tax</th>\n",
       "      <th id=\"T_44e97_level0_col10\" class=\"col_heading level0 col10\" >ptratio</th>\n",
       "      <th id=\"T_44e97_level0_col11\" class=\"col_heading level0 col11\" >b</th>\n",
       "      <th id=\"T_44e97_level0_col12\" class=\"col_heading level0 col12\" >lstat</th>\n",
       "      <th id=\"T_44e97_level0_col13\" class=\"col_heading level0 col13\" >medv</th>\n",
       "    </tr>\n",
       "  </thead>\n",
       "  <tbody>\n",
       "    <tr>\n",
       "      <th id=\"T_44e97_level0_row0\" class=\"row_heading level0 row0\" >0</th>\n",
       "      <td id=\"T_44e97_row0_col0\" class=\"data row0 col0\" >0.01</td>\n",
       "      <td id=\"T_44e97_row0_col1\" class=\"data row0 col1\" >18.00</td>\n",
       "      <td id=\"T_44e97_row0_col2\" class=\"data row0 col2\" >2.31</td>\n",
       "      <td id=\"T_44e97_row0_col3\" class=\"data row0 col3\" >0.00</td>\n",
       "      <td id=\"T_44e97_row0_col4\" class=\"data row0 col4\" >0.54</td>\n",
       "      <td id=\"T_44e97_row0_col5\" class=\"data row0 col5\" >6.58</td>\n",
       "      <td id=\"T_44e97_row0_col6\" class=\"data row0 col6\" >65.20</td>\n",
       "      <td id=\"T_44e97_row0_col7\" class=\"data row0 col7\" >4.09</td>\n",
       "      <td id=\"T_44e97_row0_col8\" class=\"data row0 col8\" >1.00</td>\n",
       "      <td id=\"T_44e97_row0_col9\" class=\"data row0 col9\" >296.00</td>\n",
       "      <td id=\"T_44e97_row0_col10\" class=\"data row0 col10\" >15.30</td>\n",
       "      <td id=\"T_44e97_row0_col11\" class=\"data row0 col11\" >396.90</td>\n",
       "      <td id=\"T_44e97_row0_col12\" class=\"data row0 col12\" >4.98</td>\n",
       "      <td id=\"T_44e97_row0_col13\" class=\"data row0 col13\" >24.00</td>\n",
       "    </tr>\n",
       "    <tr>\n",
       "      <th id=\"T_44e97_level0_row1\" class=\"row_heading level0 row1\" >1</th>\n",
       "      <td id=\"T_44e97_row1_col0\" class=\"data row1 col0\" >0.03</td>\n",
       "      <td id=\"T_44e97_row1_col1\" class=\"data row1 col1\" >0.00</td>\n",
       "      <td id=\"T_44e97_row1_col2\" class=\"data row1 col2\" >7.07</td>\n",
       "      <td id=\"T_44e97_row1_col3\" class=\"data row1 col3\" >0.00</td>\n",
       "      <td id=\"T_44e97_row1_col4\" class=\"data row1 col4\" >0.47</td>\n",
       "      <td id=\"T_44e97_row1_col5\" class=\"data row1 col5\" >6.42</td>\n",
       "      <td id=\"T_44e97_row1_col6\" class=\"data row1 col6\" >78.90</td>\n",
       "      <td id=\"T_44e97_row1_col7\" class=\"data row1 col7\" >4.97</td>\n",
       "      <td id=\"T_44e97_row1_col8\" class=\"data row1 col8\" >2.00</td>\n",
       "      <td id=\"T_44e97_row1_col9\" class=\"data row1 col9\" >242.00</td>\n",
       "      <td id=\"T_44e97_row1_col10\" class=\"data row1 col10\" >17.80</td>\n",
       "      <td id=\"T_44e97_row1_col11\" class=\"data row1 col11\" >396.90</td>\n",
       "      <td id=\"T_44e97_row1_col12\" class=\"data row1 col12\" >9.14</td>\n",
       "      <td id=\"T_44e97_row1_col13\" class=\"data row1 col13\" >21.60</td>\n",
       "    </tr>\n",
       "    <tr>\n",
       "      <th id=\"T_44e97_level0_row2\" class=\"row_heading level0 row2\" >2</th>\n",
       "      <td id=\"T_44e97_row2_col0\" class=\"data row2 col0\" >0.03</td>\n",
       "      <td id=\"T_44e97_row2_col1\" class=\"data row2 col1\" >0.00</td>\n",
       "      <td id=\"T_44e97_row2_col2\" class=\"data row2 col2\" >7.07</td>\n",
       "      <td id=\"T_44e97_row2_col3\" class=\"data row2 col3\" >0.00</td>\n",
       "      <td id=\"T_44e97_row2_col4\" class=\"data row2 col4\" >0.47</td>\n",
       "      <td id=\"T_44e97_row2_col5\" class=\"data row2 col5\" >7.18</td>\n",
       "      <td id=\"T_44e97_row2_col6\" class=\"data row2 col6\" >61.10</td>\n",
       "      <td id=\"T_44e97_row2_col7\" class=\"data row2 col7\" >4.97</td>\n",
       "      <td id=\"T_44e97_row2_col8\" class=\"data row2 col8\" >2.00</td>\n",
       "      <td id=\"T_44e97_row2_col9\" class=\"data row2 col9\" >242.00</td>\n",
       "      <td id=\"T_44e97_row2_col10\" class=\"data row2 col10\" >17.80</td>\n",
       "      <td id=\"T_44e97_row2_col11\" class=\"data row2 col11\" >392.83</td>\n",
       "      <td id=\"T_44e97_row2_col12\" class=\"data row2 col12\" >4.03</td>\n",
       "      <td id=\"T_44e97_row2_col13\" class=\"data row2 col13\" >34.70</td>\n",
       "    </tr>\n",
       "    <tr>\n",
       "      <th id=\"T_44e97_level0_row3\" class=\"row_heading level0 row3\" >3</th>\n",
       "      <td id=\"T_44e97_row3_col0\" class=\"data row3 col0\" >0.03</td>\n",
       "      <td id=\"T_44e97_row3_col1\" class=\"data row3 col1\" >0.00</td>\n",
       "      <td id=\"T_44e97_row3_col2\" class=\"data row3 col2\" >2.18</td>\n",
       "      <td id=\"T_44e97_row3_col3\" class=\"data row3 col3\" >0.00</td>\n",
       "      <td id=\"T_44e97_row3_col4\" class=\"data row3 col4\" >0.46</td>\n",
       "      <td id=\"T_44e97_row3_col5\" class=\"data row3 col5\" >7.00</td>\n",
       "      <td id=\"T_44e97_row3_col6\" class=\"data row3 col6\" >45.80</td>\n",
       "      <td id=\"T_44e97_row3_col7\" class=\"data row3 col7\" >6.06</td>\n",
       "      <td id=\"T_44e97_row3_col8\" class=\"data row3 col8\" >3.00</td>\n",
       "      <td id=\"T_44e97_row3_col9\" class=\"data row3 col9\" >222.00</td>\n",
       "      <td id=\"T_44e97_row3_col10\" class=\"data row3 col10\" >18.70</td>\n",
       "      <td id=\"T_44e97_row3_col11\" class=\"data row3 col11\" >394.63</td>\n",
       "      <td id=\"T_44e97_row3_col12\" class=\"data row3 col12\" >2.94</td>\n",
       "      <td id=\"T_44e97_row3_col13\" class=\"data row3 col13\" >33.40</td>\n",
       "    </tr>\n",
       "    <tr>\n",
       "      <th id=\"T_44e97_level0_row4\" class=\"row_heading level0 row4\" >4</th>\n",
       "      <td id=\"T_44e97_row4_col0\" class=\"data row4 col0\" >0.07</td>\n",
       "      <td id=\"T_44e97_row4_col1\" class=\"data row4 col1\" >0.00</td>\n",
       "      <td id=\"T_44e97_row4_col2\" class=\"data row4 col2\" >2.18</td>\n",
       "      <td id=\"T_44e97_row4_col3\" class=\"data row4 col3\" >0.00</td>\n",
       "      <td id=\"T_44e97_row4_col4\" class=\"data row4 col4\" >0.46</td>\n",
       "      <td id=\"T_44e97_row4_col5\" class=\"data row4 col5\" >7.15</td>\n",
       "      <td id=\"T_44e97_row4_col6\" class=\"data row4 col6\" >54.20</td>\n",
       "      <td id=\"T_44e97_row4_col7\" class=\"data row4 col7\" >6.06</td>\n",
       "      <td id=\"T_44e97_row4_col8\" class=\"data row4 col8\" >3.00</td>\n",
       "      <td id=\"T_44e97_row4_col9\" class=\"data row4 col9\" >222.00</td>\n",
       "      <td id=\"T_44e97_row4_col10\" class=\"data row4 col10\" >18.70</td>\n",
       "      <td id=\"T_44e97_row4_col11\" class=\"data row4 col11\" >396.90</td>\n",
       "      <td id=\"T_44e97_row4_col12\" class=\"data row4 col12\" >5.33</td>\n",
       "      <td id=\"T_44e97_row4_col13\" class=\"data row4 col13\" >36.20</td>\n",
       "    </tr>\n",
       "  </tbody>\n",
       "</table>\n"
      ],
      "text/plain": [
       "<pandas.io.formats.style.Styler at 0x273a58b9040>"
      ]
     },
     "metadata": {},
     "output_type": "display_data"
    },
    {
     "name": "stdout",
     "output_type": "stream",
     "text": [
      "Missing Data :  0   Shape is :  (506, 14)\n"
     ]
    }
   ],
   "source": [
    "display(data.head(5).style.format(\"{0:.2f}\"))\n",
    "print('Missing Data : ',data.isna().sum().sum(), '  Shape is : ', data.shape)"
   ]
  },
  {
   "cell_type": "markdown",
   "metadata": {
    "id": "uSJDYfo5fPHC"
   },
   "source": [
    "## Exe 1: Data Preparation\n",
    "\n",
    "\n",
    "Use 70% of the data for training and 30% for validation.\n",
    "The dataset is shuffled and shared between learning and testing.\n",
    "x will be input data and y the expected output\n",
    "Check the data shape and sizes."
   ]
  },
  {
   "cell_type": "code",
   "execution_count": 93,
   "metadata": {
    "id": "w4qzQudGfPsH"
   },
   "outputs": [
    {
     "name": "stdout",
     "output_type": "stream",
     "text": [
      "Original data shape was :  (506, 14)\n",
      "x_train :  (354, 13) y_train :  (354,)\n",
      "x_test  :  (152, 13) y_test  :  (152,)\n"
     ]
    }
   ],
   "source": [
    "# ---- Shuffle and Split => train, test\n",
    "#\n",
    "data       = data.sample(frac=1., axis=0)\n",
    "data_train = data.sample(frac=0.7, axis=0)\n",
    "data_test  = data.drop(data_train.index)\n",
    "\n",
    "# ---- Split => x,y (medv is price)\n",
    "#\n",
    "x_train = data_train.drop('medv',  axis=1)\n",
    "y_train = data_train['medv']\n",
    "x_test  = data_test.drop('medv',   axis=1)\n",
    "y_test  = data_test['medv']\n",
    "\n",
    "print('Original data shape was : ',data.shape)\n",
    "print('x_train : ',x_train.shape, 'y_train : ',y_train.shape)\n",
    "print('x_test  : ',x_test.shape,  'y_test  : ',y_test.shape)"
   ]
  },
  {
   "cell_type": "markdown",
   "metadata": {
    "id": "kTIW5DG1gH3s"
   },
   "source": [
    "## Exe 2: Data normalization\n",
    "\n",
    "Normalizing data For each feature in the input data (a column in the\n",
    "input data matrix), subtract the mean of the feature and divide by the standard\n",
    "deviation\n",
    "\n",
    "**Note :**\n",
    "\n",
    "* All input data must be normalized, train and test.\n",
    "* To do this we will subtract the mean and divide by the standard deviation.\n",
    "* But test data should not be used in any way, even for normalization.\n",
    "* The mean and the standard deviation will therefore only be calculated with the train data.\n"
   ]
  },
  {
   "cell_type": "code",
   "execution_count": 94,
   "metadata": {
    "id": "irUk5OvCK9qm"
   },
   "outputs": [
    {
     "data": {
      "text/html": [
       "<style type=\"text/css\">\n",
       "</style>\n",
       "<table id=\"T_d0538\">\n",
       "  <caption>Before normalization :</caption>\n",
       "  <thead>\n",
       "    <tr>\n",
       "      <th class=\"blank level0\" >&nbsp;</th>\n",
       "      <th id=\"T_d0538_level0_col0\" class=\"col_heading level0 col0\" >crim</th>\n",
       "      <th id=\"T_d0538_level0_col1\" class=\"col_heading level0 col1\" >zn</th>\n",
       "      <th id=\"T_d0538_level0_col2\" class=\"col_heading level0 col2\" >indus</th>\n",
       "      <th id=\"T_d0538_level0_col3\" class=\"col_heading level0 col3\" >chas</th>\n",
       "      <th id=\"T_d0538_level0_col4\" class=\"col_heading level0 col4\" >nox</th>\n",
       "      <th id=\"T_d0538_level0_col5\" class=\"col_heading level0 col5\" >rm</th>\n",
       "      <th id=\"T_d0538_level0_col6\" class=\"col_heading level0 col6\" >age</th>\n",
       "      <th id=\"T_d0538_level0_col7\" class=\"col_heading level0 col7\" >dis</th>\n",
       "      <th id=\"T_d0538_level0_col8\" class=\"col_heading level0 col8\" >rad</th>\n",
       "      <th id=\"T_d0538_level0_col9\" class=\"col_heading level0 col9\" >tax</th>\n",
       "      <th id=\"T_d0538_level0_col10\" class=\"col_heading level0 col10\" >ptratio</th>\n",
       "      <th id=\"T_d0538_level0_col11\" class=\"col_heading level0 col11\" >b</th>\n",
       "      <th id=\"T_d0538_level0_col12\" class=\"col_heading level0 col12\" >lstat</th>\n",
       "    </tr>\n",
       "  </thead>\n",
       "  <tbody>\n",
       "    <tr>\n",
       "      <th id=\"T_d0538_level0_row0\" class=\"row_heading level0 row0\" >count</th>\n",
       "      <td id=\"T_d0538_row0_col0\" class=\"data row0 col0\" >354.00</td>\n",
       "      <td id=\"T_d0538_row0_col1\" class=\"data row0 col1\" >354.00</td>\n",
       "      <td id=\"T_d0538_row0_col2\" class=\"data row0 col2\" >354.00</td>\n",
       "      <td id=\"T_d0538_row0_col3\" class=\"data row0 col3\" >354.00</td>\n",
       "      <td id=\"T_d0538_row0_col4\" class=\"data row0 col4\" >354.00</td>\n",
       "      <td id=\"T_d0538_row0_col5\" class=\"data row0 col5\" >354.00</td>\n",
       "      <td id=\"T_d0538_row0_col6\" class=\"data row0 col6\" >354.00</td>\n",
       "      <td id=\"T_d0538_row0_col7\" class=\"data row0 col7\" >354.00</td>\n",
       "      <td id=\"T_d0538_row0_col8\" class=\"data row0 col8\" >354.00</td>\n",
       "      <td id=\"T_d0538_row0_col9\" class=\"data row0 col9\" >354.00</td>\n",
       "      <td id=\"T_d0538_row0_col10\" class=\"data row0 col10\" >354.00</td>\n",
       "      <td id=\"T_d0538_row0_col11\" class=\"data row0 col11\" >354.00</td>\n",
       "      <td id=\"T_d0538_row0_col12\" class=\"data row0 col12\" >354.00</td>\n",
       "    </tr>\n",
       "    <tr>\n",
       "      <th id=\"T_d0538_level0_row1\" class=\"row_heading level0 row1\" >mean</th>\n",
       "      <td id=\"T_d0538_row1_col0\" class=\"data row1 col0\" >3.25</td>\n",
       "      <td id=\"T_d0538_row1_col1\" class=\"data row1 col1\" >10.96</td>\n",
       "      <td id=\"T_d0538_row1_col2\" class=\"data row1 col2\" >11.17</td>\n",
       "      <td id=\"T_d0538_row1_col3\" class=\"data row1 col3\" >0.06</td>\n",
       "      <td id=\"T_d0538_row1_col4\" class=\"data row1 col4\" >0.55</td>\n",
       "      <td id=\"T_d0538_row1_col5\" class=\"data row1 col5\" >6.31</td>\n",
       "      <td id=\"T_d0538_row1_col6\" class=\"data row1 col6\" >68.98</td>\n",
       "      <td id=\"T_d0538_row1_col7\" class=\"data row1 col7\" >3.84</td>\n",
       "      <td id=\"T_d0538_row1_col8\" class=\"data row1 col8\" >9.51</td>\n",
       "      <td id=\"T_d0538_row1_col9\" class=\"data row1 col9\" >407.17</td>\n",
       "      <td id=\"T_d0538_row1_col10\" class=\"data row1 col10\" >18.49</td>\n",
       "      <td id=\"T_d0538_row1_col11\" class=\"data row1 col11\" >356.60</td>\n",
       "      <td id=\"T_d0538_row1_col12\" class=\"data row1 col12\" >12.67</td>\n",
       "    </tr>\n",
       "    <tr>\n",
       "      <th id=\"T_d0538_level0_row2\" class=\"row_heading level0 row2\" >std</th>\n",
       "      <td id=\"T_d0538_row2_col0\" class=\"data row2 col0\" >7.12</td>\n",
       "      <td id=\"T_d0538_row2_col1\" class=\"data row2 col1\" >22.92</td>\n",
       "      <td id=\"T_d0538_row2_col2\" class=\"data row2 col2\" >6.95</td>\n",
       "      <td id=\"T_d0538_row2_col3\" class=\"data row2 col3\" >0.25</td>\n",
       "      <td id=\"T_d0538_row2_col4\" class=\"data row2 col4\" >0.11</td>\n",
       "      <td id=\"T_d0538_row2_col5\" class=\"data row2 col5\" >0.70</td>\n",
       "      <td id=\"T_d0538_row2_col6\" class=\"data row2 col6\" >27.89</td>\n",
       "      <td id=\"T_d0538_row2_col7\" class=\"data row2 col7\" >2.09</td>\n",
       "      <td id=\"T_d0538_row2_col8\" class=\"data row2 col8\" >8.71</td>\n",
       "      <td id=\"T_d0538_row2_col9\" class=\"data row2 col9\" >170.36</td>\n",
       "      <td id=\"T_d0538_row2_col10\" class=\"data row2 col10\" >2.15</td>\n",
       "      <td id=\"T_d0538_row2_col11\" class=\"data row2 col11\" >92.53</td>\n",
       "      <td id=\"T_d0538_row2_col12\" class=\"data row2 col12\" >7.12</td>\n",
       "    </tr>\n",
       "    <tr>\n",
       "      <th id=\"T_d0538_level0_row3\" class=\"row_heading level0 row3\" >min</th>\n",
       "      <td id=\"T_d0538_row3_col0\" class=\"data row3 col0\" >0.01</td>\n",
       "      <td id=\"T_d0538_row3_col1\" class=\"data row3 col1\" >0.00</td>\n",
       "      <td id=\"T_d0538_row3_col2\" class=\"data row3 col2\" >0.74</td>\n",
       "      <td id=\"T_d0538_row3_col3\" class=\"data row3 col3\" >0.00</td>\n",
       "      <td id=\"T_d0538_row3_col4\" class=\"data row3 col4\" >0.39</td>\n",
       "      <td id=\"T_d0538_row3_col5\" class=\"data row3 col5\" >3.56</td>\n",
       "      <td id=\"T_d0538_row3_col6\" class=\"data row3 col6\" >6.00</td>\n",
       "      <td id=\"T_d0538_row3_col7\" class=\"data row3 col7\" >1.17</td>\n",
       "      <td id=\"T_d0538_row3_col8\" class=\"data row3 col8\" >1.00</td>\n",
       "      <td id=\"T_d0538_row3_col9\" class=\"data row3 col9\" >187.00</td>\n",
       "      <td id=\"T_d0538_row3_col10\" class=\"data row3 col10\" >12.60</td>\n",
       "      <td id=\"T_d0538_row3_col11\" class=\"data row3 col11\" >0.32</td>\n",
       "      <td id=\"T_d0538_row3_col12\" class=\"data row3 col12\" >1.73</td>\n",
       "    </tr>\n",
       "    <tr>\n",
       "      <th id=\"T_d0538_level0_row4\" class=\"row_heading level0 row4\" >25%</th>\n",
       "      <td id=\"T_d0538_row4_col0\" class=\"data row4 col0\" >0.08</td>\n",
       "      <td id=\"T_d0538_row4_col1\" class=\"data row4 col1\" >0.00</td>\n",
       "      <td id=\"T_d0538_row4_col2\" class=\"data row4 col2\" >5.19</td>\n",
       "      <td id=\"T_d0538_row4_col3\" class=\"data row4 col3\" >0.00</td>\n",
       "      <td id=\"T_d0538_row4_col4\" class=\"data row4 col4\" >0.45</td>\n",
       "      <td id=\"T_d0538_row4_col5\" class=\"data row4 col5\" >5.92</td>\n",
       "      <td id=\"T_d0538_row4_col6\" class=\"data row4 col6\" >45.62</td>\n",
       "      <td id=\"T_d0538_row4_col7\" class=\"data row4 col7\" >2.11</td>\n",
       "      <td id=\"T_d0538_row4_col8\" class=\"data row4 col8\" >4.00</td>\n",
       "      <td id=\"T_d0538_row4_col9\" class=\"data row4 col9\" >277.50</td>\n",
       "      <td id=\"T_d0538_row4_col10\" class=\"data row4 col10\" >17.40</td>\n",
       "      <td id=\"T_d0538_row4_col11\" class=\"data row4 col11\" >376.71</td>\n",
       "      <td id=\"T_d0538_row4_col12\" class=\"data row4 col12\" >6.92</td>\n",
       "    </tr>\n",
       "    <tr>\n",
       "      <th id=\"T_d0538_level0_row5\" class=\"row_heading level0 row5\" >50%</th>\n",
       "      <td id=\"T_d0538_row5_col0\" class=\"data row5 col0\" >0.25</td>\n",
       "      <td id=\"T_d0538_row5_col1\" class=\"data row5 col1\" >0.00</td>\n",
       "      <td id=\"T_d0538_row5_col2\" class=\"data row5 col2\" >8.56</td>\n",
       "      <td id=\"T_d0538_row5_col3\" class=\"data row5 col3\" >0.00</td>\n",
       "      <td id=\"T_d0538_row5_col4\" class=\"data row5 col4\" >0.53</td>\n",
       "      <td id=\"T_d0538_row5_col5\" class=\"data row5 col5\" >6.22</td>\n",
       "      <td id=\"T_d0538_row5_col6\" class=\"data row5 col6\" >77.70</td>\n",
       "      <td id=\"T_d0538_row5_col7\" class=\"data row5 col7\" >3.32</td>\n",
       "      <td id=\"T_d0538_row5_col8\" class=\"data row5 col8\" >5.00</td>\n",
       "      <td id=\"T_d0538_row5_col9\" class=\"data row5 col9\" >329.00</td>\n",
       "      <td id=\"T_d0538_row5_col10\" class=\"data row5 col10\" >19.10</td>\n",
       "      <td id=\"T_d0538_row5_col11\" class=\"data row5 col11\" >391.30</td>\n",
       "      <td id=\"T_d0538_row5_col12\" class=\"data row5 col12\" >11.46</td>\n",
       "    </tr>\n",
       "    <tr>\n",
       "      <th id=\"T_d0538_level0_row6\" class=\"row_heading level0 row6\" >75%</th>\n",
       "      <td id=\"T_d0538_row6_col0\" class=\"data row6 col0\" >3.75</td>\n",
       "      <td id=\"T_d0538_row6_col1\" class=\"data row6 col1\" >12.50</td>\n",
       "      <td id=\"T_d0538_row6_col2\" class=\"data row6 col2\" >18.10</td>\n",
       "      <td id=\"T_d0538_row6_col3\" class=\"data row6 col3\" >0.00</td>\n",
       "      <td id=\"T_d0538_row6_col4\" class=\"data row6 col4\" >0.62</td>\n",
       "      <td id=\"T_d0538_row6_col5\" class=\"data row6 col5\" >6.61</td>\n",
       "      <td id=\"T_d0538_row6_col6\" class=\"data row6 col6\" >93.90</td>\n",
       "      <td id=\"T_d0538_row6_col7\" class=\"data row6 col7\" >5.19</td>\n",
       "      <td id=\"T_d0538_row6_col8\" class=\"data row6 col8\" >24.00</td>\n",
       "      <td id=\"T_d0538_row6_col9\" class=\"data row6 col9\" >666.00</td>\n",
       "      <td id=\"T_d0538_row6_col10\" class=\"data row6 col10\" >20.20</td>\n",
       "      <td id=\"T_d0538_row6_col11\" class=\"data row6 col11\" >396.19</td>\n",
       "      <td id=\"T_d0538_row6_col12\" class=\"data row6 col12\" >17.25</td>\n",
       "    </tr>\n",
       "    <tr>\n",
       "      <th id=\"T_d0538_level0_row7\" class=\"row_heading level0 row7\" >max</th>\n",
       "      <td id=\"T_d0538_row7_col0\" class=\"data row7 col0\" >73.53</td>\n",
       "      <td id=\"T_d0538_row7_col1\" class=\"data row7 col1\" >100.00</td>\n",
       "      <td id=\"T_d0538_row7_col2\" class=\"data row7 col2\" >27.74</td>\n",
       "      <td id=\"T_d0538_row7_col3\" class=\"data row7 col3\" >1.00</td>\n",
       "      <td id=\"T_d0538_row7_col4\" class=\"data row7 col4\" >0.87</td>\n",
       "      <td id=\"T_d0538_row7_col5\" class=\"data row7 col5\" >8.78</td>\n",
       "      <td id=\"T_d0538_row7_col6\" class=\"data row7 col6\" >100.00</td>\n",
       "      <td id=\"T_d0538_row7_col7\" class=\"data row7 col7\" >12.13</td>\n",
       "      <td id=\"T_d0538_row7_col8\" class=\"data row7 col8\" >24.00</td>\n",
       "      <td id=\"T_d0538_row7_col9\" class=\"data row7 col9\" >711.00</td>\n",
       "      <td id=\"T_d0538_row7_col10\" class=\"data row7 col10\" >21.20</td>\n",
       "      <td id=\"T_d0538_row7_col11\" class=\"data row7 col11\" >396.90</td>\n",
       "      <td id=\"T_d0538_row7_col12\" class=\"data row7 col12\" >34.77</td>\n",
       "    </tr>\n",
       "  </tbody>\n",
       "</table>\n"
      ],
      "text/plain": [
       "<pandas.io.formats.style.Styler at 0x273b42ee3f0>"
      ]
     },
     "metadata": {},
     "output_type": "display_data"
    },
    {
     "data": {
      "text/html": [
       "<style type=\"text/css\">\n",
       "</style>\n",
       "<table id=\"T_e098d\">\n",
       "  <caption>After normalization :</caption>\n",
       "  <thead>\n",
       "    <tr>\n",
       "      <th class=\"blank level0\" >&nbsp;</th>\n",
       "      <th id=\"T_e098d_level0_col0\" class=\"col_heading level0 col0\" >crim</th>\n",
       "      <th id=\"T_e098d_level0_col1\" class=\"col_heading level0 col1\" >zn</th>\n",
       "      <th id=\"T_e098d_level0_col2\" class=\"col_heading level0 col2\" >indus</th>\n",
       "      <th id=\"T_e098d_level0_col3\" class=\"col_heading level0 col3\" >chas</th>\n",
       "      <th id=\"T_e098d_level0_col4\" class=\"col_heading level0 col4\" >nox</th>\n",
       "      <th id=\"T_e098d_level0_col5\" class=\"col_heading level0 col5\" >rm</th>\n",
       "      <th id=\"T_e098d_level0_col6\" class=\"col_heading level0 col6\" >age</th>\n",
       "      <th id=\"T_e098d_level0_col7\" class=\"col_heading level0 col7\" >dis</th>\n",
       "      <th id=\"T_e098d_level0_col8\" class=\"col_heading level0 col8\" >rad</th>\n",
       "      <th id=\"T_e098d_level0_col9\" class=\"col_heading level0 col9\" >tax</th>\n",
       "      <th id=\"T_e098d_level0_col10\" class=\"col_heading level0 col10\" >ptratio</th>\n",
       "      <th id=\"T_e098d_level0_col11\" class=\"col_heading level0 col11\" >b</th>\n",
       "      <th id=\"T_e098d_level0_col12\" class=\"col_heading level0 col12\" >lstat</th>\n",
       "    </tr>\n",
       "  </thead>\n",
       "  <tbody>\n",
       "    <tr>\n",
       "      <th id=\"T_e098d_level0_row0\" class=\"row_heading level0 row0\" >count</th>\n",
       "      <td id=\"T_e098d_row0_col0\" class=\"data row0 col0\" >354.00</td>\n",
       "      <td id=\"T_e098d_row0_col1\" class=\"data row0 col1\" >354.00</td>\n",
       "      <td id=\"T_e098d_row0_col2\" class=\"data row0 col2\" >354.00</td>\n",
       "      <td id=\"T_e098d_row0_col3\" class=\"data row0 col3\" >354.00</td>\n",
       "      <td id=\"T_e098d_row0_col4\" class=\"data row0 col4\" >354.00</td>\n",
       "      <td id=\"T_e098d_row0_col5\" class=\"data row0 col5\" >354.00</td>\n",
       "      <td id=\"T_e098d_row0_col6\" class=\"data row0 col6\" >354.00</td>\n",
       "      <td id=\"T_e098d_row0_col7\" class=\"data row0 col7\" >354.00</td>\n",
       "      <td id=\"T_e098d_row0_col8\" class=\"data row0 col8\" >354.00</td>\n",
       "      <td id=\"T_e098d_row0_col9\" class=\"data row0 col9\" >354.00</td>\n",
       "      <td id=\"T_e098d_row0_col10\" class=\"data row0 col10\" >354.00</td>\n",
       "      <td id=\"T_e098d_row0_col11\" class=\"data row0 col11\" >354.00</td>\n",
       "      <td id=\"T_e098d_row0_col12\" class=\"data row0 col12\" >354.00</td>\n",
       "    </tr>\n",
       "    <tr>\n",
       "      <th id=\"T_e098d_level0_row1\" class=\"row_heading level0 row1\" >mean</th>\n",
       "      <td id=\"T_e098d_row1_col0\" class=\"data row1 col0\" >-0.00</td>\n",
       "      <td id=\"T_e098d_row1_col1\" class=\"data row1 col1\" >-0.00</td>\n",
       "      <td id=\"T_e098d_row1_col2\" class=\"data row1 col2\" >0.00</td>\n",
       "      <td id=\"T_e098d_row1_col3\" class=\"data row1 col3\" >0.00</td>\n",
       "      <td id=\"T_e098d_row1_col4\" class=\"data row1 col4\" >0.00</td>\n",
       "      <td id=\"T_e098d_row1_col5\" class=\"data row1 col5\" >0.00</td>\n",
       "      <td id=\"T_e098d_row1_col6\" class=\"data row1 col6\" >0.00</td>\n",
       "      <td id=\"T_e098d_row1_col7\" class=\"data row1 col7\" >-0.00</td>\n",
       "      <td id=\"T_e098d_row1_col8\" class=\"data row1 col8\" >-0.00</td>\n",
       "      <td id=\"T_e098d_row1_col9\" class=\"data row1 col9\" >-0.00</td>\n",
       "      <td id=\"T_e098d_row1_col10\" class=\"data row1 col10\" >0.00</td>\n",
       "      <td id=\"T_e098d_row1_col11\" class=\"data row1 col11\" >0.00</td>\n",
       "      <td id=\"T_e098d_row1_col12\" class=\"data row1 col12\" >0.00</td>\n",
       "    </tr>\n",
       "    <tr>\n",
       "      <th id=\"T_e098d_level0_row2\" class=\"row_heading level0 row2\" >std</th>\n",
       "      <td id=\"T_e098d_row2_col0\" class=\"data row2 col0\" >1.00</td>\n",
       "      <td id=\"T_e098d_row2_col1\" class=\"data row2 col1\" >1.00</td>\n",
       "      <td id=\"T_e098d_row2_col2\" class=\"data row2 col2\" >1.00</td>\n",
       "      <td id=\"T_e098d_row2_col3\" class=\"data row2 col3\" >1.00</td>\n",
       "      <td id=\"T_e098d_row2_col4\" class=\"data row2 col4\" >1.00</td>\n",
       "      <td id=\"T_e098d_row2_col5\" class=\"data row2 col5\" >1.00</td>\n",
       "      <td id=\"T_e098d_row2_col6\" class=\"data row2 col6\" >1.00</td>\n",
       "      <td id=\"T_e098d_row2_col7\" class=\"data row2 col7\" >1.00</td>\n",
       "      <td id=\"T_e098d_row2_col8\" class=\"data row2 col8\" >1.00</td>\n",
       "      <td id=\"T_e098d_row2_col9\" class=\"data row2 col9\" >1.00</td>\n",
       "      <td id=\"T_e098d_row2_col10\" class=\"data row2 col10\" >1.00</td>\n",
       "      <td id=\"T_e098d_row2_col11\" class=\"data row2 col11\" >1.00</td>\n",
       "      <td id=\"T_e098d_row2_col12\" class=\"data row2 col12\" >1.00</td>\n",
       "    </tr>\n",
       "    <tr>\n",
       "      <th id=\"T_e098d_level0_row3\" class=\"row_heading level0 row3\" >min</th>\n",
       "      <td id=\"T_e098d_row3_col0\" class=\"data row3 col0\" >-0.46</td>\n",
       "      <td id=\"T_e098d_row3_col1\" class=\"data row3 col1\" >-0.48</td>\n",
       "      <td id=\"T_e098d_row3_col2\" class=\"data row3 col2\" >-1.50</td>\n",
       "      <td id=\"T_e098d_row3_col3\" class=\"data row3 col3\" >-0.26</td>\n",
       "      <td id=\"T_e098d_row3_col4\" class=\"data row3 col4\" >-1.48</td>\n",
       "      <td id=\"T_e098d_row3_col5\" class=\"data row3 col5\" >-3.91</td>\n",
       "      <td id=\"T_e098d_row3_col6\" class=\"data row3 col6\" >-2.26</td>\n",
       "      <td id=\"T_e098d_row3_col7\" class=\"data row3 col7\" >-1.28</td>\n",
       "      <td id=\"T_e098d_row3_col8\" class=\"data row3 col8\" >-0.98</td>\n",
       "      <td id=\"T_e098d_row3_col9\" class=\"data row3 col9\" >-1.29</td>\n",
       "      <td id=\"T_e098d_row3_col10\" class=\"data row3 col10\" >-2.73</td>\n",
       "      <td id=\"T_e098d_row3_col11\" class=\"data row3 col11\" >-3.85</td>\n",
       "      <td id=\"T_e098d_row3_col12\" class=\"data row3 col12\" >-1.54</td>\n",
       "    </tr>\n",
       "    <tr>\n",
       "      <th id=\"T_e098d_level0_row4\" class=\"row_heading level0 row4\" >25%</th>\n",
       "      <td id=\"T_e098d_row4_col0\" class=\"data row4 col0\" >-0.45</td>\n",
       "      <td id=\"T_e098d_row4_col1\" class=\"data row4 col1\" >-0.48</td>\n",
       "      <td id=\"T_e098d_row4_col2\" class=\"data row4 col2\" >-0.86</td>\n",
       "      <td id=\"T_e098d_row4_col3\" class=\"data row4 col3\" >-0.26</td>\n",
       "      <td id=\"T_e098d_row4_col4\" class=\"data row4 col4\" >-0.92</td>\n",
       "      <td id=\"T_e098d_row4_col5\" class=\"data row4 col5\" >-0.56</td>\n",
       "      <td id=\"T_e098d_row4_col6\" class=\"data row4 col6\" >-0.84</td>\n",
       "      <td id=\"T_e098d_row4_col7\" class=\"data row4 col7\" >-0.83</td>\n",
       "      <td id=\"T_e098d_row4_col8\" class=\"data row4 col8\" >-0.63</td>\n",
       "      <td id=\"T_e098d_row4_col9\" class=\"data row4 col9\" >-0.76</td>\n",
       "      <td id=\"T_e098d_row4_col10\" class=\"data row4 col10\" >-0.51</td>\n",
       "      <td id=\"T_e098d_row4_col11\" class=\"data row4 col11\" >0.22</td>\n",
       "      <td id=\"T_e098d_row4_col12\" class=\"data row4 col12\" >-0.81</td>\n",
       "    </tr>\n",
       "    <tr>\n",
       "      <th id=\"T_e098d_level0_row5\" class=\"row_heading level0 row5\" >50%</th>\n",
       "      <td id=\"T_e098d_row5_col0\" class=\"data row5 col0\" >-0.42</td>\n",
       "      <td id=\"T_e098d_row5_col1\" class=\"data row5 col1\" >-0.48</td>\n",
       "      <td id=\"T_e098d_row5_col2\" class=\"data row5 col2\" >-0.38</td>\n",
       "      <td id=\"T_e098d_row5_col3\" class=\"data row5 col3\" >-0.26</td>\n",
       "      <td id=\"T_e098d_row5_col4\" class=\"data row5 col4\" >-0.17</td>\n",
       "      <td id=\"T_e098d_row5_col5\" class=\"data row5 col5\" >-0.13</td>\n",
       "      <td id=\"T_e098d_row5_col6\" class=\"data row5 col6\" >0.31</td>\n",
       "      <td id=\"T_e098d_row5_col7\" class=\"data row5 col7\" >-0.25</td>\n",
       "      <td id=\"T_e098d_row5_col8\" class=\"data row5 col8\" >-0.52</td>\n",
       "      <td id=\"T_e098d_row5_col9\" class=\"data row5 col9\" >-0.46</td>\n",
       "      <td id=\"T_e098d_row5_col10\" class=\"data row5 col10\" >0.28</td>\n",
       "      <td id=\"T_e098d_row5_col11\" class=\"data row5 col11\" >0.38</td>\n",
       "      <td id=\"T_e098d_row5_col12\" class=\"data row5 col12\" >-0.17</td>\n",
       "    </tr>\n",
       "    <tr>\n",
       "      <th id=\"T_e098d_level0_row6\" class=\"row_heading level0 row6\" >75%</th>\n",
       "      <td id=\"T_e098d_row6_col0\" class=\"data row6 col0\" >0.07</td>\n",
       "      <td id=\"T_e098d_row6_col1\" class=\"data row6 col1\" >0.07</td>\n",
       "      <td id=\"T_e098d_row6_col2\" class=\"data row6 col2\" >1.00</td>\n",
       "      <td id=\"T_e098d_row6_col3\" class=\"data row6 col3\" >-0.26</td>\n",
       "      <td id=\"T_e098d_row6_col4\" class=\"data row6 col4\" >0.65</td>\n",
       "      <td id=\"T_e098d_row6_col5\" class=\"data row6 col5\" >0.42</td>\n",
       "      <td id=\"T_e098d_row6_col6\" class=\"data row6 col6\" >0.89</td>\n",
       "      <td id=\"T_e098d_row6_col7\" class=\"data row6 col7\" >0.65</td>\n",
       "      <td id=\"T_e098d_row6_col8\" class=\"data row6 col8\" >1.66</td>\n",
       "      <td id=\"T_e098d_row6_col9\" class=\"data row6 col9\" >1.52</td>\n",
       "      <td id=\"T_e098d_row6_col10\" class=\"data row6 col10\" >0.79</td>\n",
       "      <td id=\"T_e098d_row6_col11\" class=\"data row6 col11\" >0.43</td>\n",
       "      <td id=\"T_e098d_row6_col12\" class=\"data row6 col12\" >0.64</td>\n",
       "    </tr>\n",
       "    <tr>\n",
       "      <th id=\"T_e098d_level0_row7\" class=\"row_heading level0 row7\" >max</th>\n",
       "      <td id=\"T_e098d_row7_col0\" class=\"data row7 col0\" >9.88</td>\n",
       "      <td id=\"T_e098d_row7_col1\" class=\"data row7 col1\" >3.89</td>\n",
       "      <td id=\"T_e098d_row7_col2\" class=\"data row7 col2\" >2.38</td>\n",
       "      <td id=\"T_e098d_row7_col3\" class=\"data row7 col3\" >3.79</td>\n",
       "      <td id=\"T_e098d_row7_col4\" class=\"data row7 col4\" >2.86</td>\n",
       "      <td id=\"T_e098d_row7_col5\" class=\"data row7 col5\" >3.52</td>\n",
       "      <td id=\"T_e098d_row7_col6\" class=\"data row7 col6\" >1.11</td>\n",
       "      <td id=\"T_e098d_row7_col7\" class=\"data row7 col7\" >3.97</td>\n",
       "      <td id=\"T_e098d_row7_col8\" class=\"data row7 col8\" >1.66</td>\n",
       "      <td id=\"T_e098d_row7_col9\" class=\"data row7 col9\" >1.78</td>\n",
       "      <td id=\"T_e098d_row7_col10\" class=\"data row7 col10\" >1.26</td>\n",
       "      <td id=\"T_e098d_row7_col11\" class=\"data row7 col11\" >0.44</td>\n",
       "      <td id=\"T_e098d_row7_col12\" class=\"data row7 col12\" >3.10</td>\n",
       "    </tr>\n",
       "  </tbody>\n",
       "</table>\n"
      ],
      "text/plain": [
       "<pandas.io.formats.style.Styler at 0x273b6e4fcb0>"
      ]
     },
     "metadata": {},
     "output_type": "display_data"
    },
    {
     "data": {
      "text/html": [
       "<style type=\"text/css\">\n",
       "</style>\n",
       "<table id=\"T_ef088\">\n",
       "  <caption>Few lines of the dataset :</caption>\n",
       "  <thead>\n",
       "    <tr>\n",
       "      <th class=\"blank level0\" >&nbsp;</th>\n",
       "      <th id=\"T_ef088_level0_col0\" class=\"col_heading level0 col0\" >crim</th>\n",
       "      <th id=\"T_ef088_level0_col1\" class=\"col_heading level0 col1\" >zn</th>\n",
       "      <th id=\"T_ef088_level0_col2\" class=\"col_heading level0 col2\" >indus</th>\n",
       "      <th id=\"T_ef088_level0_col3\" class=\"col_heading level0 col3\" >chas</th>\n",
       "      <th id=\"T_ef088_level0_col4\" class=\"col_heading level0 col4\" >nox</th>\n",
       "      <th id=\"T_ef088_level0_col5\" class=\"col_heading level0 col5\" >rm</th>\n",
       "      <th id=\"T_ef088_level0_col6\" class=\"col_heading level0 col6\" >age</th>\n",
       "      <th id=\"T_ef088_level0_col7\" class=\"col_heading level0 col7\" >dis</th>\n",
       "      <th id=\"T_ef088_level0_col8\" class=\"col_heading level0 col8\" >rad</th>\n",
       "      <th id=\"T_ef088_level0_col9\" class=\"col_heading level0 col9\" >tax</th>\n",
       "      <th id=\"T_ef088_level0_col10\" class=\"col_heading level0 col10\" >ptratio</th>\n",
       "      <th id=\"T_ef088_level0_col11\" class=\"col_heading level0 col11\" >b</th>\n",
       "      <th id=\"T_ef088_level0_col12\" class=\"col_heading level0 col12\" >lstat</th>\n",
       "    </tr>\n",
       "  </thead>\n",
       "  <tbody>\n",
       "    <tr>\n",
       "      <th id=\"T_ef088_level0_row0\" class=\"row_heading level0 row0\" >179</th>\n",
       "      <td id=\"T_ef088_row0_col0\" class=\"data row0 col0\" >-0.45</td>\n",
       "      <td id=\"T_ef088_row0_col1\" class=\"data row0 col1\" >-0.48</td>\n",
       "      <td id=\"T_ef088_row0_col2\" class=\"data row0 col2\" >-1.25</td>\n",
       "      <td id=\"T_ef088_row0_col3\" class=\"data row0 col3\" >-0.26</td>\n",
       "      <td id=\"T_ef088_row0_col4\" class=\"data row0 col4\" >-0.56</td>\n",
       "      <td id=\"T_ef088_row0_col5\" class=\"data row0 col5\" >0.96</td>\n",
       "      <td id=\"T_ef088_row0_col6\" class=\"data row0 col6\" >-0.38</td>\n",
       "      <td id=\"T_ef088_row0_col7\" class=\"data row0 col7\" >-0.48</td>\n",
       "      <td id=\"T_ef088_row0_col8\" class=\"data row0 col8\" >-0.75</td>\n",
       "      <td id=\"T_ef088_row0_col9\" class=\"data row0 col9\" >-1.26</td>\n",
       "      <td id=\"T_ef088_row0_col10\" class=\"data row0 col10\" >-0.32</td>\n",
       "      <td id=\"T_ef088_row0_col11\" class=\"data row0 col11\" >0.44</td>\n",
       "      <td id=\"T_ef088_row0_col12\" class=\"data row0 col12\" >-1.07</td>\n",
       "    </tr>\n",
       "    <tr>\n",
       "      <th id=\"T_ef088_level0_row1\" class=\"row_heading level0 row1\" >367</th>\n",
       "      <td id=\"T_ef088_row1_col0\" class=\"data row1 col0\" >1.44</td>\n",
       "      <td id=\"T_ef088_row1_col1\" class=\"data row1 col1\" >-0.48</td>\n",
       "      <td id=\"T_ef088_row1_col2\" class=\"data row1 col2\" >1.00</td>\n",
       "      <td id=\"T_ef088_row1_col3\" class=\"data row1 col3\" >-0.26</td>\n",
       "      <td id=\"T_ef088_row1_col4\" class=\"data row1 col4\" >0.71</td>\n",
       "      <td id=\"T_ef088_row1_col5\" class=\"data row1 col5\" >-3.48</td>\n",
       "      <td id=\"T_ef088_row1_col6\" class=\"data row1 col6\" >1.11</td>\n",
       "      <td id=\"T_ef088_row1_col7\" class=\"data row1 col7\" >-1.11</td>\n",
       "      <td id=\"T_ef088_row1_col8\" class=\"data row1 col8\" >1.66</td>\n",
       "      <td id=\"T_ef088_row1_col9\" class=\"data row1 col9\" >1.52</td>\n",
       "      <td id=\"T_ef088_row1_col10\" class=\"data row1 col10\" >0.79</td>\n",
       "      <td id=\"T_ef088_row1_col11\" class=\"data row1 col11\" >-2.43</td>\n",
       "      <td id=\"T_ef088_row1_col12\" class=\"data row1 col12\" >0.09</td>\n",
       "    </tr>\n",
       "    <tr>\n",
       "      <th id=\"T_ef088_level0_row2\" class=\"row_heading level0 row2\" >304</th>\n",
       "      <td id=\"T_ef088_row2_col0\" class=\"data row2 col0\" >-0.45</td>\n",
       "      <td id=\"T_ef088_row2_col1\" class=\"data row2 col1\" >0.96</td>\n",
       "      <td id=\"T_ef088_row2_col2\" class=\"data row2 col2\" >-1.29</td>\n",
       "      <td id=\"T_ef088_row2_col3\" class=\"data row2 col3\" >-0.26</td>\n",
       "      <td id=\"T_ef088_row2_col4\" class=\"data row2 col4\" >-0.71</td>\n",
       "      <td id=\"T_ef088_row2_col5\" class=\"data row2 col5\" >1.32</td>\n",
       "      <td id=\"T_ef088_row2_col6\" class=\"data row2 col6\" >-1.00</td>\n",
       "      <td id=\"T_ef088_row2_col7\" class=\"data row2 col7\" >0.09</td>\n",
       "      <td id=\"T_ef088_row2_col8\" class=\"data row2 col8\" >-0.29</td>\n",
       "      <td id=\"T_ef088_row2_col9\" class=\"data row2 col9\" >-1.09</td>\n",
       "      <td id=\"T_ef088_row2_col10\" class=\"data row2 col10\" >-0.04</td>\n",
       "      <td id=\"T_ef088_row2_col11\" class=\"data row2 col11\" >0.40</td>\n",
       "      <td id=\"T_ef088_row2_col12\" class=\"data row2 col12\" >-0.81</td>\n",
       "    </tr>\n",
       "    <tr>\n",
       "      <th id=\"T_ef088_level0_row3\" class=\"row_heading level0 row3\" >226</th>\n",
       "      <td id=\"T_ef088_row3_col0\" class=\"data row3 col0\" >-0.40</td>\n",
       "      <td id=\"T_ef088_row3_col1\" class=\"data row3 col1\" >-0.48</td>\n",
       "      <td id=\"T_ef088_row3_col2\" class=\"data row3 col2\" >-0.72</td>\n",
       "      <td id=\"T_ef088_row3_col3\" class=\"data row3 col3\" >-0.26</td>\n",
       "      <td id=\"T_ef088_row3_col4\" class=\"data row3 col4\" >-0.42</td>\n",
       "      <td id=\"T_ef088_row3_col5\" class=\"data row3 col5\" >2.47</td>\n",
       "      <td id=\"T_ef088_row3_col6\" class=\"data row3 col6\" >0.63</td>\n",
       "      <td id=\"T_ef088_row3_col7\" class=\"data row3 col7\" >-0.30</td>\n",
       "      <td id=\"T_ef088_row3_col8\" class=\"data row3 col8\" >-0.17</td>\n",
       "      <td id=\"T_ef088_row3_col9\" class=\"data row3 col9\" >-0.59</td>\n",
       "      <td id=\"T_ef088_row3_col10\" class=\"data row3 col10\" >-0.51</td>\n",
       "      <td id=\"T_ef088_row3_col11\" class=\"data row3 col11\" >0.33</td>\n",
       "      <td id=\"T_ef088_row3_col12\" class=\"data row3 col12\" >-1.34</td>\n",
       "    </tr>\n",
       "    <tr>\n",
       "      <th id=\"T_ef088_level0_row4\" class=\"row_heading level0 row4\" >499</th>\n",
       "      <td id=\"T_ef088_row4_col0\" class=\"data row4 col0\" >-0.43</td>\n",
       "      <td id=\"T_ef088_row4_col1\" class=\"data row4 col1\" >-0.48</td>\n",
       "      <td id=\"T_ef088_row4_col2\" class=\"data row4 col2\" >-0.21</td>\n",
       "      <td id=\"T_ef088_row4_col3\" class=\"data row4 col3\" >-0.26</td>\n",
       "      <td id=\"T_ef088_row4_col4\" class=\"data row4 col4\" >0.30</td>\n",
       "      <td id=\"T_ef088_row4_col5\" class=\"data row4 col5\" >-1.05</td>\n",
       "      <td id=\"T_ef088_row4_col6\" class=\"data row4 col6\" >0.16</td>\n",
       "      <td id=\"T_ef088_row4_col7\" class=\"data row4 col7\" >-0.69</td>\n",
       "      <td id=\"T_ef088_row4_col8\" class=\"data row4 col8\" >-0.40</td>\n",
       "      <td id=\"T_ef088_row4_col9\" class=\"data row4 col9\" >-0.09</td>\n",
       "      <td id=\"T_ef088_row4_col10\" class=\"data row4 col10\" >0.33</td>\n",
       "      <td id=\"T_ef088_row4_col11\" class=\"data row4 col11\" >0.42</td>\n",
       "      <td id=\"T_ef088_row4_col12\" class=\"data row4 col12\" >0.34</td>\n",
       "    </tr>\n",
       "  </tbody>\n",
       "</table>\n"
      ],
      "text/plain": [
       "<pandas.io.formats.style.Styler at 0x273b6e4fcb0>"
      ]
     },
     "metadata": {},
     "output_type": "display_data"
    }
   ],
   "source": [
    "display(x_train.describe().style.format(\"{0:.2f}\").set_caption(\"Before normalization :\"))\n",
    "\n",
    "mean = x_train.mean()\n",
    "std  = x_train.std()\n",
    "x_train = (x_train - mean) / std\n",
    "x_test  = (x_test  - mean) / std\n",
    "\n",
    "display(x_train.describe().style.format(\"{0:.2f}\").set_caption(\"After normalization :\"))\n",
    "display(x_train.head(5).style.format(\"{0:.2f}\").set_caption(\"Few lines of the dataset :\"))\n",
    "\n",
    "x_train, y_train = np.array(x_train), np.array(y_train)\n",
    "x_test,  y_test  = np.array(x_test),  np.array(y_test)"
   ]
  },
  {
   "cell_type": "markdown",
   "metadata": {
    "id": "tk5PT-GONvp0"
   },
   "source": [
    "## Exo4:  Model Design"
   ]
  },
  {
   "cell_type": "markdown",
   "metadata": {
    "id": "J_kotgwULVcH"
   },
   "source": [
    "Design a neural network architecture with two hidden layers, each consisting of 64 units and utilizing the ReLU activation function. To obtain a linear output layer, include a final layer with a single unit and no activation function. Compile the network using the mean squared error (MSE) loss function. Additionally, monitor a new metric, mean absolute error (MAE), during training. Finally, define the optimizer as 'rmsprop' in the model compilation.\n",
    "\n",
    "Define the model within a function named build_model(shape)\n",
    "\n",
    "\n",
    "More informations about :\n",
    "\n",
    "\n",
    "* [Optimizer](https://www.tensorflow.org/api_docs/python/tf/keras/optimizers)\n",
    "* [Activation](https://www.tensorflow.org/api_docs/python/tf/keras/activations)\n",
    "* [Loss](https://www.tensorflow.org/api_docs/python/tf/keras/losses)\n",
    "* [Metrics](https://www.tensorflow.org/api_docs/python/tf/keras/metrics)\n",
    "\n",
    "\n"
   ]
  },
  {
   "cell_type": "code",
   "execution_count": 95,
   "metadata": {
    "id": "wA391yVKNX3n"
   },
   "outputs": [],
   "source": [
    "from keras import models\n",
    "from keras import layers\n",
    "def build_model (shape):\n",
    "  model = keras.models.Sequential()\n",
    "  model.add(keras.layers.Input(shape, name=\"InputLayer\"))\n",
    "  model.add(keras.layers.Dense(64, activation='relu', name='Dense1'))\n",
    "  model.add(keras.layers.Dense(64, activation='relu', name='Dense2'))\n",
    "  model.add(keras.layers.Dense(1, activation='relu', name='Output'))\n",
    "\n",
    "  model.compile(optimizer='rmsprop', loss='mse', metrics=['mae'])\n",
    "\n",
    "  return model\n",
    "# complete the model here\n",
    "# model = build_model(x_train.shape[1])"
   ]
  },
  {
   "cell_type": "markdown",
   "metadata": {
    "id": "4iv88RDcQP7s"
   },
   "source": [
    "## Exe 5 : Model Building\n",
    "\n",
    " Use the build_model function to create a model with a shape equal to the number of features. Display its summary."
   ]
  },
  {
   "cell_type": "code",
   "execution_count": 96,
   "metadata": {
    "id": "Djh2Efl8aDDH"
   },
   "outputs": [
    {
     "data": {
      "text/html": [
       "<pre style=\"white-space:pre;overflow-x:auto;line-height:normal;font-family:Menlo,'DejaVu Sans Mono',consolas,'Courier New',monospace\"><span style=\"font-weight: bold\">Model: \"sequential_7\"</span>\n",
       "</pre>\n"
      ],
      "text/plain": [
       "\u001b[1mModel: \"sequential_7\"\u001b[0m\n"
      ]
     },
     "metadata": {},
     "output_type": "display_data"
    },
    {
     "data": {
      "text/html": [
       "<pre style=\"white-space:pre;overflow-x:auto;line-height:normal;font-family:Menlo,'DejaVu Sans Mono',consolas,'Courier New',monospace\">┏━━━━━━━━━━━━━━━━━━━━━━━━━━━━━━━━━┳━━━━━━━━━━━━━━━━━━━━━━━━┳━━━━━━━━━━━━━━━┓\n",
       "┃<span style=\"font-weight: bold\"> Layer (type)                    </span>┃<span style=\"font-weight: bold\"> Output Shape           </span>┃<span style=\"font-weight: bold\">       Param # </span>┃\n",
       "┡━━━━━━━━━━━━━━━━━━━━━━━━━━━━━━━━━╇━━━━━━━━━━━━━━━━━━━━━━━━╇━━━━━━━━━━━━━━━┩\n",
       "│ Dense1 (<span style=\"color: #0087ff; text-decoration-color: #0087ff\">Dense</span>)                  │ (<span style=\"color: #00d7ff; text-decoration-color: #00d7ff\">None</span>, <span style=\"color: #00af00; text-decoration-color: #00af00\">64</span>)             │           <span style=\"color: #00af00; text-decoration-color: #00af00\">896</span> │\n",
       "├─────────────────────────────────┼────────────────────────┼───────────────┤\n",
       "│ Dense2 (<span style=\"color: #0087ff; text-decoration-color: #0087ff\">Dense</span>)                  │ (<span style=\"color: #00d7ff; text-decoration-color: #00d7ff\">None</span>, <span style=\"color: #00af00; text-decoration-color: #00af00\">64</span>)             │         <span style=\"color: #00af00; text-decoration-color: #00af00\">4,160</span> │\n",
       "├─────────────────────────────────┼────────────────────────┼───────────────┤\n",
       "│ Output (<span style=\"color: #0087ff; text-decoration-color: #0087ff\">Dense</span>)                  │ (<span style=\"color: #00d7ff; text-decoration-color: #00d7ff\">None</span>, <span style=\"color: #00af00; text-decoration-color: #00af00\">1</span>)              │            <span style=\"color: #00af00; text-decoration-color: #00af00\">65</span> │\n",
       "└─────────────────────────────────┴────────────────────────┴───────────────┘\n",
       "</pre>\n"
      ],
      "text/plain": [
       "┏━━━━━━━━━━━━━━━━━━━━━━━━━━━━━━━━━┳━━━━━━━━━━━━━━━━━━━━━━━━┳━━━━━━━━━━━━━━━┓\n",
       "┃\u001b[1m \u001b[0m\u001b[1mLayer (type)                   \u001b[0m\u001b[1m \u001b[0m┃\u001b[1m \u001b[0m\u001b[1mOutput Shape          \u001b[0m\u001b[1m \u001b[0m┃\u001b[1m \u001b[0m\u001b[1m      Param #\u001b[0m\u001b[1m \u001b[0m┃\n",
       "┡━━━━━━━━━━━━━━━━━━━━━━━━━━━━━━━━━╇━━━━━━━━━━━━━━━━━━━━━━━━╇━━━━━━━━━━━━━━━┩\n",
       "│ Dense1 (\u001b[38;5;33mDense\u001b[0m)                  │ (\u001b[38;5;45mNone\u001b[0m, \u001b[38;5;34m64\u001b[0m)             │           \u001b[38;5;34m896\u001b[0m │\n",
       "├─────────────────────────────────┼────────────────────────┼───────────────┤\n",
       "│ Dense2 (\u001b[38;5;33mDense\u001b[0m)                  │ (\u001b[38;5;45mNone\u001b[0m, \u001b[38;5;34m64\u001b[0m)             │         \u001b[38;5;34m4,160\u001b[0m │\n",
       "├─────────────────────────────────┼────────────────────────┼───────────────┤\n",
       "│ Output (\u001b[38;5;33mDense\u001b[0m)                  │ (\u001b[38;5;45mNone\u001b[0m, \u001b[38;5;34m1\u001b[0m)              │            \u001b[38;5;34m65\u001b[0m │\n",
       "└─────────────────────────────────┴────────────────────────┴───────────────┘\n"
      ]
     },
     "metadata": {},
     "output_type": "display_data"
    },
    {
     "data": {
      "text/html": [
       "<pre style=\"white-space:pre;overflow-x:auto;line-height:normal;font-family:Menlo,'DejaVu Sans Mono',consolas,'Courier New',monospace\"><span style=\"font-weight: bold\"> Total params: </span><span style=\"color: #00af00; text-decoration-color: #00af00\">5,121</span> (20.00 KB)\n",
       "</pre>\n"
      ],
      "text/plain": [
       "\u001b[1m Total params: \u001b[0m\u001b[38;5;34m5,121\u001b[0m (20.00 KB)\n"
      ]
     },
     "metadata": {},
     "output_type": "display_data"
    },
    {
     "data": {
      "text/html": [
       "<pre style=\"white-space:pre;overflow-x:auto;line-height:normal;font-family:Menlo,'DejaVu Sans Mono',consolas,'Courier New',monospace\"><span style=\"font-weight: bold\"> Trainable params: </span><span style=\"color: #00af00; text-decoration-color: #00af00\">5,121</span> (20.00 KB)\n",
       "</pre>\n"
      ],
      "text/plain": [
       "\u001b[1m Trainable params: \u001b[0m\u001b[38;5;34m5,121\u001b[0m (20.00 KB)\n"
      ]
     },
     "metadata": {},
     "output_type": "display_data"
    },
    {
     "data": {
      "text/html": [
       "<pre style=\"white-space:pre;overflow-x:auto;line-height:normal;font-family:Menlo,'DejaVu Sans Mono',consolas,'Courier New',monospace\"><span style=\"font-weight: bold\"> Non-trainable params: </span><span style=\"color: #00af00; text-decoration-color: #00af00\">0</span> (0.00 B)\n",
       "</pre>\n"
      ],
      "text/plain": [
       "\u001b[1m Non-trainable params: \u001b[0m\u001b[38;5;34m0\u001b[0m (0.00 B)\n"
      ]
     },
     "metadata": {},
     "output_type": "display_data"
    }
   ],
   "source": [
    "model=build_model( (13,) )\n",
    "\n",
    "model.summary()"
   ]
  },
  {
   "cell_type": "markdown",
   "metadata": {
    "id": "x6Px4Da0b1mx"
   },
   "source": [
    "\n",
    "\n",
    "## Exe 6 : Model Fitting\n",
    "\n",
    "Fit the model on the train set with the test set as the\n",
    "validation set, 60 epochs and save it in history.\n",
    "\n"
   ]
  },
  {
   "cell_type": "code",
   "execution_count": 97,
   "metadata": {
    "id": "_HcO_9Y5b2jP"
   },
   "outputs": [
    {
     "name": "stdout",
     "output_type": "stream",
     "text": [
      "Epoch 1/60\n"
     ]
    },
    {
     "name": "stdout",
     "output_type": "stream",
     "text": [
      "\u001b[1m23/23\u001b[0m \u001b[32m━━━━━━━━━━━━━━━━━━━━\u001b[0m\u001b[37m\u001b[0m \u001b[1m1s\u001b[0m 10ms/step - loss: 553.6978 - mae: 21.6465 - val_loss: 443.8219 - val_mae: 19.1430\n",
      "Epoch 2/60\n",
      "\u001b[1m23/23\u001b[0m \u001b[32m━━━━━━━━━━━━━━━━━━━━\u001b[0m\u001b[37m\u001b[0m \u001b[1m0s\u001b[0m 4ms/step - loss: 387.7306 - mae: 17.9773 - val_loss: 283.7403 - val_mae: 14.7660\n",
      "Epoch 3/60\n",
      "\u001b[1m23/23\u001b[0m \u001b[32m━━━━━━━━━━━━━━━━━━━━\u001b[0m\u001b[37m\u001b[0m \u001b[1m0s\u001b[0m 4ms/step - loss: 231.8064 - mae: 12.9489 - val_loss: 138.2112 - val_mae: 9.4059\n",
      "Epoch 4/60\n",
      "\u001b[1m23/23\u001b[0m \u001b[32m━━━━━━━━━━━━━━━━━━━━\u001b[0m\u001b[37m\u001b[0m \u001b[1m0s\u001b[0m 4ms/step - loss: 107.8896 - mae: 8.3624 - val_loss: 81.9348 - val_mae: 6.7808\n",
      "Epoch 5/60\n",
      "\u001b[1m23/23\u001b[0m \u001b[32m━━━━━━━━━━━━━━━━━━━━\u001b[0m\u001b[37m\u001b[0m \u001b[1m0s\u001b[0m 4ms/step - loss: 51.8134 - mae: 5.5105 - val_loss: 54.9936 - val_mae: 5.3204\n",
      "Epoch 6/60\n",
      "\u001b[1m23/23\u001b[0m \u001b[32m━━━━━━━━━━━━━━━━━━━━\u001b[0m\u001b[37m\u001b[0m \u001b[1m0s\u001b[0m 4ms/step - loss: 29.1752 - mae: 4.1831 - val_loss: 42.4196 - val_mae: 4.4072\n",
      "Epoch 7/60\n",
      "\u001b[1m23/23\u001b[0m \u001b[32m━━━━━━━━━━━━━━━━━━━━\u001b[0m\u001b[37m\u001b[0m \u001b[1m0s\u001b[0m 4ms/step - loss: 24.2329 - mae: 3.8500 - val_loss: 38.2154 - val_mae: 3.8910\n",
      "Epoch 8/60\n",
      "\u001b[1m23/23\u001b[0m \u001b[32m━━━━━━━━━━━━━━━━━━━━\u001b[0m\u001b[37m\u001b[0m \u001b[1m0s\u001b[0m 4ms/step - loss: 17.9247 - mae: 3.2326 - val_loss: 34.7384 - val_mae: 3.7025\n",
      "Epoch 9/60\n",
      "\u001b[1m23/23\u001b[0m \u001b[32m━━━━━━━━━━━━━━━━━━━━\u001b[0m\u001b[37m\u001b[0m \u001b[1m0s\u001b[0m 4ms/step - loss: 15.4308 - mae: 3.0307 - val_loss: 35.7885 - val_mae: 3.9820\n",
      "Epoch 10/60\n",
      "\u001b[1m23/23\u001b[0m \u001b[32m━━━━━━━━━━━━━━━━━━━━\u001b[0m\u001b[37m\u001b[0m \u001b[1m0s\u001b[0m 4ms/step - loss: 15.6471 - mae: 2.9943 - val_loss: 31.5109 - val_mae: 3.4485\n",
      "Epoch 11/60\n",
      "\u001b[1m23/23\u001b[0m \u001b[32m━━━━━━━━━━━━━━━━━━━━\u001b[0m\u001b[37m\u001b[0m \u001b[1m0s\u001b[0m 4ms/step - loss: 13.2227 - mae: 2.7654 - val_loss: 29.7245 - val_mae: 3.3940\n",
      "Epoch 12/60\n",
      "\u001b[1m23/23\u001b[0m \u001b[32m━━━━━━━━━━━━━━━━━━━━\u001b[0m\u001b[37m\u001b[0m \u001b[1m0s\u001b[0m 4ms/step - loss: 14.1844 - mae: 2.7287 - val_loss: 28.2517 - val_mae: 3.3265\n",
      "Epoch 13/60\n",
      "\u001b[1m23/23\u001b[0m \u001b[32m━━━━━━━━━━━━━━━━━━━━\u001b[0m\u001b[37m\u001b[0m \u001b[1m0s\u001b[0m 4ms/step - loss: 15.4029 - mae: 2.8450 - val_loss: 28.4370 - val_mae: 3.1811\n",
      "Epoch 14/60\n",
      "\u001b[1m23/23\u001b[0m \u001b[32m━━━━━━━━━━━━━━━━━━━━\u001b[0m\u001b[37m\u001b[0m \u001b[1m0s\u001b[0m 4ms/step - loss: 12.0050 - mae: 2.4825 - val_loss: 26.7460 - val_mae: 3.1568\n",
      "Epoch 15/60\n",
      "\u001b[1m23/23\u001b[0m \u001b[32m━━━━━━━━━━━━━━━━━━━━\u001b[0m\u001b[37m\u001b[0m \u001b[1m0s\u001b[0m 4ms/step - loss: 9.9449 - mae: 2.3873 - val_loss: 25.7285 - val_mae: 3.1730\n",
      "Epoch 16/60\n",
      "\u001b[1m23/23\u001b[0m \u001b[32m━━━━━━━━━━━━━━━━━━━━\u001b[0m\u001b[37m\u001b[0m \u001b[1m0s\u001b[0m 4ms/step - loss: 10.9193 - mae: 2.4620 - val_loss: 25.0139 - val_mae: 3.1430\n",
      "Epoch 17/60\n",
      "\u001b[1m23/23\u001b[0m \u001b[32m━━━━━━━━━━━━━━━━━━━━\u001b[0m\u001b[37m\u001b[0m \u001b[1m0s\u001b[0m 4ms/step - loss: 11.2184 - mae: 2.4325 - val_loss: 25.9909 - val_mae: 2.9617\n",
      "Epoch 18/60\n",
      "\u001b[1m23/23\u001b[0m \u001b[32m━━━━━━━━━━━━━━━━━━━━\u001b[0m\u001b[37m\u001b[0m \u001b[1m0s\u001b[0m 4ms/step - loss: 9.4087 - mae: 2.2288 - val_loss: 24.8455 - val_mae: 2.9866\n",
      "Epoch 19/60\n",
      "\u001b[1m23/23\u001b[0m \u001b[32m━━━━━━━━━━━━━━━━━━━━\u001b[0m\u001b[37m\u001b[0m \u001b[1m0s\u001b[0m 4ms/step - loss: 8.6243 - mae: 2.1603 - val_loss: 26.4038 - val_mae: 2.9746\n",
      "Epoch 20/60\n",
      "\u001b[1m23/23\u001b[0m \u001b[32m━━━━━━━━━━━━━━━━━━━━\u001b[0m\u001b[37m\u001b[0m \u001b[1m0s\u001b[0m 4ms/step - loss: 9.1019 - mae: 2.1378 - val_loss: 24.8743 - val_mae: 2.9417\n",
      "Epoch 21/60\n",
      "\u001b[1m23/23\u001b[0m \u001b[32m━━━━━━━━━━━━━━━━━━━━\u001b[0m\u001b[37m\u001b[0m \u001b[1m0s\u001b[0m 4ms/step - loss: 11.2128 - mae: 2.2958 - val_loss: 24.9756 - val_mae: 2.9493\n",
      "Epoch 22/60\n",
      "\u001b[1m23/23\u001b[0m \u001b[32m━━━━━━━━━━━━━━━━━━━━\u001b[0m\u001b[37m\u001b[0m \u001b[1m0s\u001b[0m 4ms/step - loss: 9.8240 - mae: 2.2739 - val_loss: 24.6307 - val_mae: 2.9447\n",
      "Epoch 23/60\n",
      "\u001b[1m23/23\u001b[0m \u001b[32m━━━━━━━━━━━━━━━━━━━━\u001b[0m\u001b[37m\u001b[0m \u001b[1m0s\u001b[0m 4ms/step - loss: 9.1093 - mae: 2.1931 - val_loss: 23.4933 - val_mae: 3.0106\n",
      "Epoch 24/60\n",
      "\u001b[1m23/23\u001b[0m \u001b[32m━━━━━━━━━━━━━━━━━━━━\u001b[0m\u001b[37m\u001b[0m \u001b[1m0s\u001b[0m 4ms/step - loss: 9.8291 - mae: 2.2118 - val_loss: 23.5824 - val_mae: 2.9123\n",
      "Epoch 25/60\n",
      "\u001b[1m23/23\u001b[0m \u001b[32m━━━━━━━━━━━━━━━━━━━━\u001b[0m\u001b[37m\u001b[0m \u001b[1m0s\u001b[0m 5ms/step - loss: 8.5781 - mae: 2.1530 - val_loss: 24.6725 - val_mae: 2.8388\n",
      "Epoch 26/60\n",
      "\u001b[1m23/23\u001b[0m \u001b[32m━━━━━━━━━━━━━━━━━━━━\u001b[0m\u001b[37m\u001b[0m \u001b[1m0s\u001b[0m 4ms/step - loss: 10.7340 - mae: 2.1782 - val_loss: 23.6055 - val_mae: 2.9095\n",
      "Epoch 27/60\n",
      "\u001b[1m23/23\u001b[0m \u001b[32m━━━━━━━━━━━━━━━━━━━━\u001b[0m\u001b[37m\u001b[0m \u001b[1m0s\u001b[0m 3ms/step - loss: 8.8386 - mae: 2.2028 - val_loss: 23.3298 - val_mae: 2.8647\n",
      "Epoch 28/60\n",
      "\u001b[1m23/23\u001b[0m \u001b[32m━━━━━━━━━━━━━━━━━━━━\u001b[0m\u001b[37m\u001b[0m \u001b[1m0s\u001b[0m 4ms/step - loss: 7.5887 - mae: 1.9780 - val_loss: 24.4303 - val_mae: 3.0667\n",
      "Epoch 29/60\n",
      "\u001b[1m23/23\u001b[0m \u001b[32m━━━━━━━━━━━━━━━━━━━━\u001b[0m\u001b[37m\u001b[0m \u001b[1m0s\u001b[0m 4ms/step - loss: 10.3065 - mae: 2.2316 - val_loss: 23.5088 - val_mae: 3.0416\n",
      "Epoch 30/60\n",
      "\u001b[1m23/23\u001b[0m \u001b[32m━━━━━━━━━━━━━━━━━━━━\u001b[0m\u001b[37m\u001b[0m \u001b[1m0s\u001b[0m 4ms/step - loss: 6.8669 - mae: 1.9184 - val_loss: 22.8919 - val_mae: 2.9269\n",
      "Epoch 31/60\n",
      "\u001b[1m23/23\u001b[0m \u001b[32m━━━━━━━━━━━━━━━━━━━━\u001b[0m\u001b[37m\u001b[0m \u001b[1m0s\u001b[0m 4ms/step - loss: 8.5866 - mae: 2.0773 - val_loss: 23.9816 - val_mae: 2.7581\n",
      "Epoch 32/60\n",
      "\u001b[1m23/23\u001b[0m \u001b[32m━━━━━━━━━━━━━━━━━━━━\u001b[0m\u001b[37m\u001b[0m \u001b[1m0s\u001b[0m 4ms/step - loss: 8.4676 - mae: 2.0297 - val_loss: 23.3706 - val_mae: 2.8834\n",
      "Epoch 33/60\n",
      "\u001b[1m23/23\u001b[0m \u001b[32m━━━━━━━━━━━━━━━━━━━━\u001b[0m\u001b[37m\u001b[0m \u001b[1m0s\u001b[0m 4ms/step - loss: 6.7503 - mae: 1.9420 - val_loss: 23.1646 - val_mae: 2.8050\n",
      "Epoch 34/60\n",
      "\u001b[1m23/23\u001b[0m \u001b[32m━━━━━━━━━━━━━━━━━━━━\u001b[0m\u001b[37m\u001b[0m \u001b[1m0s\u001b[0m 4ms/step - loss: 7.5460 - mae: 1.8985 - val_loss: 23.9282 - val_mae: 2.8888\n",
      "Epoch 35/60\n",
      "\u001b[1m23/23\u001b[0m \u001b[32m━━━━━━━━━━━━━━━━━━━━\u001b[0m\u001b[37m\u001b[0m \u001b[1m0s\u001b[0m 3ms/step - loss: 7.3777 - mae: 1.9232 - val_loss: 22.8131 - val_mae: 2.8394\n",
      "Epoch 36/60\n",
      "\u001b[1m23/23\u001b[0m \u001b[32m━━━━━━━━━━━━━━━━━━━━\u001b[0m\u001b[37m\u001b[0m \u001b[1m0s\u001b[0m 4ms/step - loss: 8.9796 - mae: 2.1208 - val_loss: 22.2955 - val_mae: 2.9069\n",
      "Epoch 37/60\n",
      "\u001b[1m23/23\u001b[0m \u001b[32m━━━━━━━━━━━━━━━━━━━━\u001b[0m\u001b[37m\u001b[0m \u001b[1m0s\u001b[0m 4ms/step - loss: 9.4453 - mae: 2.1637 - val_loss: 23.8068 - val_mae: 2.8262\n",
      "Epoch 38/60\n",
      "\u001b[1m23/23\u001b[0m \u001b[32m━━━━━━━━━━━━━━━━━━━━\u001b[0m\u001b[37m\u001b[0m \u001b[1m0s\u001b[0m 3ms/step - loss: 8.6165 - mae: 2.0761 - val_loss: 22.6894 - val_mae: 2.8280\n",
      "Epoch 39/60\n",
      "\u001b[1m23/23\u001b[0m \u001b[32m━━━━━━━━━━━━━━━━━━━━\u001b[0m\u001b[37m\u001b[0m \u001b[1m0s\u001b[0m 4ms/step - loss: 7.5423 - mae: 2.0277 - val_loss: 22.6284 - val_mae: 3.0101\n",
      "Epoch 40/60\n",
      "\u001b[1m23/23\u001b[0m \u001b[32m━━━━━━━━━━━━━━━━━━━━\u001b[0m\u001b[37m\u001b[0m \u001b[1m0s\u001b[0m 4ms/step - loss: 7.2323 - mae: 1.9965 - val_loss: 23.4279 - val_mae: 3.0666\n",
      "Epoch 41/60\n",
      "\u001b[1m23/23\u001b[0m \u001b[32m━━━━━━━━━━━━━━━━━━━━\u001b[0m\u001b[37m\u001b[0m \u001b[1m0s\u001b[0m 4ms/step - loss: 8.9068 - mae: 2.1277 - val_loss: 21.7679 - val_mae: 2.8049\n",
      "Epoch 42/60\n",
      "\u001b[1m23/23\u001b[0m \u001b[32m━━━━━━━━━━━━━━━━━━━━\u001b[0m\u001b[37m\u001b[0m \u001b[1m0s\u001b[0m 4ms/step - loss: 7.8500 - mae: 1.9476 - val_loss: 21.8041 - val_mae: 2.7659\n",
      "Epoch 43/60\n",
      "\u001b[1m23/23\u001b[0m \u001b[32m━━━━━━━━━━━━━━━━━━━━\u001b[0m\u001b[37m\u001b[0m \u001b[1m0s\u001b[0m 4ms/step - loss: 8.6310 - mae: 2.0274 - val_loss: 23.2234 - val_mae: 2.7419\n",
      "Epoch 44/60\n",
      "\u001b[1m23/23\u001b[0m \u001b[32m━━━━━━━━━━━━━━━━━━━━\u001b[0m\u001b[37m\u001b[0m \u001b[1m0s\u001b[0m 4ms/step - loss: 7.2060 - mae: 1.8671 - val_loss: 21.7280 - val_mae: 2.8104\n",
      "Epoch 45/60\n",
      "\u001b[1m23/23\u001b[0m \u001b[32m━━━━━━━━━━━━━━━━━━━━\u001b[0m\u001b[37m\u001b[0m \u001b[1m0s\u001b[0m 4ms/step - loss: 7.1713 - mae: 1.9696 - val_loss: 23.6868 - val_mae: 2.7591\n",
      "Epoch 46/60\n",
      "\u001b[1m23/23\u001b[0m \u001b[32m━━━━━━━━━━━━━━━━━━━━\u001b[0m\u001b[37m\u001b[0m \u001b[1m0s\u001b[0m 4ms/step - loss: 6.6036 - mae: 1.8326 - val_loss: 23.0041 - val_mae: 2.7289\n",
      "Epoch 47/60\n",
      "\u001b[1m23/23\u001b[0m \u001b[32m━━━━━━━━━━━━━━━━━━━━\u001b[0m\u001b[37m\u001b[0m \u001b[1m0s\u001b[0m 4ms/step - loss: 7.7118 - mae: 1.9451 - val_loss: 23.1101 - val_mae: 2.9625\n",
      "Epoch 48/60\n",
      "\u001b[1m23/23\u001b[0m \u001b[32m━━━━━━━━━━━━━━━━━━━━\u001b[0m\u001b[37m\u001b[0m \u001b[1m0s\u001b[0m 4ms/step - loss: 7.0550 - mae: 1.8833 - val_loss: 23.3360 - val_mae: 3.0591\n",
      "Epoch 49/60\n",
      "\u001b[1m23/23\u001b[0m \u001b[32m━━━━━━━━━━━━━━━━━━━━\u001b[0m\u001b[37m\u001b[0m \u001b[1m0s\u001b[0m 4ms/step - loss: 5.5899 - mae: 1.7719 - val_loss: 23.4489 - val_mae: 2.9973\n",
      "Epoch 50/60\n",
      "\u001b[1m23/23\u001b[0m \u001b[32m━━━━━━━━━━━━━━━━━━━━\u001b[0m\u001b[37m\u001b[0m \u001b[1m0s\u001b[0m 4ms/step - loss: 6.6174 - mae: 1.9326 - val_loss: 21.1504 - val_mae: 2.7911\n",
      "Epoch 51/60\n",
      "\u001b[1m23/23\u001b[0m \u001b[32m━━━━━━━━━━━━━━━━━━━━\u001b[0m\u001b[37m\u001b[0m \u001b[1m0s\u001b[0m 4ms/step - loss: 6.0760 - mae: 1.6817 - val_loss: 21.6123 - val_mae: 2.7111\n",
      "Epoch 52/60\n",
      "\u001b[1m23/23\u001b[0m \u001b[32m━━━━━━━━━━━━━━━━━━━━\u001b[0m\u001b[37m\u001b[0m \u001b[1m0s\u001b[0m 4ms/step - loss: 5.8694 - mae: 1.7477 - val_loss: 22.2681 - val_mae: 2.7528\n",
      "Epoch 53/60\n",
      "\u001b[1m23/23\u001b[0m \u001b[32m━━━━━━━━━━━━━━━━━━━━\u001b[0m\u001b[37m\u001b[0m \u001b[1m0s\u001b[0m 4ms/step - loss: 6.0065 - mae: 1.8070 - val_loss: 20.7511 - val_mae: 2.7764\n",
      "Epoch 54/60\n",
      "\u001b[1m23/23\u001b[0m \u001b[32m━━━━━━━━━━━━━━━━━━━━\u001b[0m\u001b[37m\u001b[0m \u001b[1m0s\u001b[0m 4ms/step - loss: 5.9619 - mae: 1.7517 - val_loss: 21.8329 - val_mae: 2.7939\n",
      "Epoch 55/60\n",
      "\u001b[1m23/23\u001b[0m \u001b[32m━━━━━━━━━━━━━━━━━━━━\u001b[0m\u001b[37m\u001b[0m \u001b[1m0s\u001b[0m 4ms/step - loss: 5.2120 - mae: 1.6385 - val_loss: 21.3818 - val_mae: 2.7389\n",
      "Epoch 56/60\n",
      "\u001b[1m23/23\u001b[0m \u001b[32m━━━━━━━━━━━━━━━━━━━━\u001b[0m\u001b[37m\u001b[0m \u001b[1m0s\u001b[0m 4ms/step - loss: 5.8137 - mae: 1.7334 - val_loss: 22.6101 - val_mae: 2.8096\n",
      "Epoch 57/60\n",
      "\u001b[1m23/23\u001b[0m \u001b[32m━━━━━━━━━━━━━━━━━━━━\u001b[0m\u001b[37m\u001b[0m \u001b[1m0s\u001b[0m 4ms/step - loss: 6.2946 - mae: 1.7268 - val_loss: 21.3047 - val_mae: 2.7178\n",
      "Epoch 58/60\n",
      "\u001b[1m23/23\u001b[0m \u001b[32m━━━━━━━━━━━━━━━━━━━━\u001b[0m\u001b[37m\u001b[0m \u001b[1m0s\u001b[0m 4ms/step - loss: 6.2759 - mae: 1.7923 - val_loss: 22.1240 - val_mae: 2.7129\n",
      "Epoch 59/60\n",
      "\u001b[1m23/23\u001b[0m \u001b[32m━━━━━━━━━━━━━━━━━━━━\u001b[0m\u001b[37m\u001b[0m \u001b[1m0s\u001b[0m 4ms/step - loss: 6.3306 - mae: 1.7769 - val_loss: 21.1870 - val_mae: 2.7685\n",
      "Epoch 60/60\n",
      "\u001b[1m23/23\u001b[0m \u001b[32m━━━━━━━━━━━━━━━━━━━━\u001b[0m\u001b[37m\u001b[0m \u001b[1m0s\u001b[0m 3ms/step - loss: 5.7478 - mae: 1.7162 - val_loss: 21.7512 - val_mae: 2.7165\n"
     ]
    }
   ],
   "source": [
    "history = model.fit(x_train, y_train, epochs=60, batch_size=16, verbose=1, validation_data=(x_test, y_test))"
   ]
  },
  {
   "cell_type": "markdown",
   "metadata": {
    "id": "YpxzW-1p2EXJ"
   },
   "source": [
    "## Exe 7 : Model evaluation\n",
    "\n",
    "It is the moment for checking the model performance on the test dataset.\n",
    "\n",
    "Check the test loss and mae of the model.\n",
    "\n",
    "* MAE = Mean Absolute Error (between the labels and predictions)\n",
    "\n",
    "=> A mae equal to 3 represents an average error in prediction of $3k."
   ]
  },
  {
   "cell_type": "code",
   "execution_count": 98,
   "metadata": {
    "id": "eBXglsV82RKG"
   },
   "outputs": [
    {
     "name": "stdout",
     "output_type": "stream",
     "text": [
      "\u001b[1m5/5\u001b[0m \u001b[32m━━━━━━━━━━━━━━━━━━━━\u001b[0m\u001b[37m\u001b[0m \u001b[1m0s\u001b[0m 6ms/step - loss: 27.4333 - mae: 2.9623 \n",
      "x_test / loss      : 21.7512\n",
      "x_test / mae       : 2.7165\n"
     ]
    }
   ],
   "source": [
    "score = model.evaluate(x_test, y_test, verbose=1)\n",
    "\n",
    "print('x_test / loss      : {:5.4f}'.format(score[0]))\n",
    "print('x_test / mae       : {:5.4f}'.format(score[1]))"
   ]
  },
  {
   "cell_type": "markdown",
   "metadata": {
    "id": "33BEc6MW4ojs"
   },
   "source": [
    "## Exe 8 : Training histroy\n",
    "\n",
    "What was the best result during our training ?"
   ]
  },
  {
   "cell_type": "code",
   "execution_count": 99,
   "metadata": {
    "id": "k66U8rtf6GnC"
   },
   "outputs": [
    {
     "data": {
      "text/html": [
       "<div>\n",
       "<style scoped>\n",
       "    .dataframe tbody tr th:only-of-type {\n",
       "        vertical-align: middle;\n",
       "    }\n",
       "\n",
       "    .dataframe tbody tr th {\n",
       "        vertical-align: top;\n",
       "    }\n",
       "\n",
       "    .dataframe thead th {\n",
       "        text-align: right;\n",
       "    }\n",
       "</style>\n",
       "<table border=\"1\" class=\"dataframe\">\n",
       "  <thead>\n",
       "    <tr style=\"text-align: right;\">\n",
       "      <th></th>\n",
       "      <th>loss</th>\n",
       "      <th>mae</th>\n",
       "      <th>val_loss</th>\n",
       "      <th>val_mae</th>\n",
       "    </tr>\n",
       "  </thead>\n",
       "  <tbody>\n",
       "    <tr>\n",
       "      <th>0</th>\n",
       "      <td>517.775146</td>\n",
       "      <td>20.955172</td>\n",
       "      <td>443.821869</td>\n",
       "      <td>19.142984</td>\n",
       "    </tr>\n",
       "    <tr>\n",
       "      <th>1</th>\n",
       "      <td>365.443726</td>\n",
       "      <td>17.200079</td>\n",
       "      <td>283.740265</td>\n",
       "      <td>14.766036</td>\n",
       "    </tr>\n",
       "    <tr>\n",
       "      <th>2</th>\n",
       "      <td>201.674484</td>\n",
       "      <td>12.062908</td>\n",
       "      <td>138.211151</td>\n",
       "      <td>9.405902</td>\n",
       "    </tr>\n",
       "    <tr>\n",
       "      <th>3</th>\n",
       "      <td>92.509048</td>\n",
       "      <td>7.524196</td>\n",
       "      <td>81.934792</td>\n",
       "      <td>6.780847</td>\n",
       "    </tr>\n",
       "    <tr>\n",
       "      <th>4</th>\n",
       "      <td>51.361301</td>\n",
       "      <td>5.463787</td>\n",
       "      <td>54.993614</td>\n",
       "      <td>5.320387</td>\n",
       "    </tr>\n",
       "    <tr>\n",
       "      <th>5</th>\n",
       "      <td>31.799026</td>\n",
       "      <td>4.301662</td>\n",
       "      <td>42.419605</td>\n",
       "      <td>4.407154</td>\n",
       "    </tr>\n",
       "    <tr>\n",
       "      <th>6</th>\n",
       "      <td>22.063725</td>\n",
       "      <td>3.654078</td>\n",
       "      <td>38.215446</td>\n",
       "      <td>3.891037</td>\n",
       "    </tr>\n",
       "    <tr>\n",
       "      <th>7</th>\n",
       "      <td>18.219002</td>\n",
       "      <td>3.247424</td>\n",
       "      <td>34.738415</td>\n",
       "      <td>3.702514</td>\n",
       "    </tr>\n",
       "    <tr>\n",
       "      <th>8</th>\n",
       "      <td>15.920843</td>\n",
       "      <td>3.025551</td>\n",
       "      <td>35.788506</td>\n",
       "      <td>3.982003</td>\n",
       "    </tr>\n",
       "    <tr>\n",
       "      <th>9</th>\n",
       "      <td>15.212751</td>\n",
       "      <td>2.919430</td>\n",
       "      <td>31.510939</td>\n",
       "      <td>3.448478</td>\n",
       "    </tr>\n",
       "    <tr>\n",
       "      <th>10</th>\n",
       "      <td>14.198319</td>\n",
       "      <td>2.769615</td>\n",
       "      <td>29.724493</td>\n",
       "      <td>3.393972</td>\n",
       "    </tr>\n",
       "    <tr>\n",
       "      <th>11</th>\n",
       "      <td>13.311072</td>\n",
       "      <td>2.691010</td>\n",
       "      <td>28.251677</td>\n",
       "      <td>3.326510</td>\n",
       "    </tr>\n",
       "    <tr>\n",
       "      <th>12</th>\n",
       "      <td>12.500590</td>\n",
       "      <td>2.584213</td>\n",
       "      <td>28.437021</td>\n",
       "      <td>3.181054</td>\n",
       "    </tr>\n",
       "    <tr>\n",
       "      <th>13</th>\n",
       "      <td>11.736943</td>\n",
       "      <td>2.517200</td>\n",
       "      <td>26.745987</td>\n",
       "      <td>3.156844</td>\n",
       "    </tr>\n",
       "    <tr>\n",
       "      <th>14</th>\n",
       "      <td>11.651985</td>\n",
       "      <td>2.457982</td>\n",
       "      <td>25.728481</td>\n",
       "      <td>3.172972</td>\n",
       "    </tr>\n",
       "    <tr>\n",
       "      <th>15</th>\n",
       "      <td>11.060150</td>\n",
       "      <td>2.449530</td>\n",
       "      <td>25.013889</td>\n",
       "      <td>3.143029</td>\n",
       "    </tr>\n",
       "    <tr>\n",
       "      <th>16</th>\n",
       "      <td>10.778810</td>\n",
       "      <td>2.393198</td>\n",
       "      <td>25.990931</td>\n",
       "      <td>2.961656</td>\n",
       "    </tr>\n",
       "    <tr>\n",
       "      <th>17</th>\n",
       "      <td>10.637341</td>\n",
       "      <td>2.345957</td>\n",
       "      <td>24.845545</td>\n",
       "      <td>2.986626</td>\n",
       "    </tr>\n",
       "    <tr>\n",
       "      <th>18</th>\n",
       "      <td>10.057297</td>\n",
       "      <td>2.295679</td>\n",
       "      <td>26.403824</td>\n",
       "      <td>2.974631</td>\n",
       "    </tr>\n",
       "    <tr>\n",
       "      <th>19</th>\n",
       "      <td>9.754073</td>\n",
       "      <td>2.287407</td>\n",
       "      <td>24.874281</td>\n",
       "      <td>2.941714</td>\n",
       "    </tr>\n",
       "    <tr>\n",
       "      <th>20</th>\n",
       "      <td>9.573976</td>\n",
       "      <td>2.232022</td>\n",
       "      <td>24.975601</td>\n",
       "      <td>2.949323</td>\n",
       "    </tr>\n",
       "    <tr>\n",
       "      <th>21</th>\n",
       "      <td>9.541050</td>\n",
       "      <td>2.233003</td>\n",
       "      <td>24.630676</td>\n",
       "      <td>2.944742</td>\n",
       "    </tr>\n",
       "    <tr>\n",
       "      <th>22</th>\n",
       "      <td>9.161428</td>\n",
       "      <td>2.198513</td>\n",
       "      <td>23.493311</td>\n",
       "      <td>3.010611</td>\n",
       "    </tr>\n",
       "    <tr>\n",
       "      <th>23</th>\n",
       "      <td>8.965395</td>\n",
       "      <td>2.134260</td>\n",
       "      <td>23.582445</td>\n",
       "      <td>2.912321</td>\n",
       "    </tr>\n",
       "    <tr>\n",
       "      <th>24</th>\n",
       "      <td>8.959113</td>\n",
       "      <td>2.158606</td>\n",
       "      <td>24.672480</td>\n",
       "      <td>2.838844</td>\n",
       "    </tr>\n",
       "    <tr>\n",
       "      <th>25</th>\n",
       "      <td>8.904907</td>\n",
       "      <td>2.144795</td>\n",
       "      <td>23.605494</td>\n",
       "      <td>2.909516</td>\n",
       "    </tr>\n",
       "    <tr>\n",
       "      <th>26</th>\n",
       "      <td>8.774404</td>\n",
       "      <td>2.146235</td>\n",
       "      <td>23.329838</td>\n",
       "      <td>2.864692</td>\n",
       "    </tr>\n",
       "    <tr>\n",
       "      <th>27</th>\n",
       "      <td>8.457058</td>\n",
       "      <td>2.078710</td>\n",
       "      <td>24.430250</td>\n",
       "      <td>3.066702</td>\n",
       "    </tr>\n",
       "    <tr>\n",
       "      <th>28</th>\n",
       "      <td>8.417490</td>\n",
       "      <td>2.077750</td>\n",
       "      <td>23.508814</td>\n",
       "      <td>3.041618</td>\n",
       "    </tr>\n",
       "    <tr>\n",
       "      <th>29</th>\n",
       "      <td>8.387328</td>\n",
       "      <td>2.053823</td>\n",
       "      <td>22.891882</td>\n",
       "      <td>2.926883</td>\n",
       "    </tr>\n",
       "    <tr>\n",
       "      <th>30</th>\n",
       "      <td>8.099154</td>\n",
       "      <td>2.029830</td>\n",
       "      <td>23.981556</td>\n",
       "      <td>2.758072</td>\n",
       "    </tr>\n",
       "    <tr>\n",
       "      <th>31</th>\n",
       "      <td>8.176218</td>\n",
       "      <td>2.047374</td>\n",
       "      <td>23.370605</td>\n",
       "      <td>2.883408</td>\n",
       "    </tr>\n",
       "    <tr>\n",
       "      <th>32</th>\n",
       "      <td>7.993176</td>\n",
       "      <td>2.027817</td>\n",
       "      <td>23.164593</td>\n",
       "      <td>2.804964</td>\n",
       "    </tr>\n",
       "    <tr>\n",
       "      <th>33</th>\n",
       "      <td>7.760231</td>\n",
       "      <td>1.969124</td>\n",
       "      <td>23.928160</td>\n",
       "      <td>2.888808</td>\n",
       "    </tr>\n",
       "    <tr>\n",
       "      <th>34</th>\n",
       "      <td>7.651454</td>\n",
       "      <td>1.970624</td>\n",
       "      <td>22.813089</td>\n",
       "      <td>2.839374</td>\n",
       "    </tr>\n",
       "    <tr>\n",
       "      <th>35</th>\n",
       "      <td>7.722083</td>\n",
       "      <td>1.992353</td>\n",
       "      <td>22.295542</td>\n",
       "      <td>2.906872</td>\n",
       "    </tr>\n",
       "    <tr>\n",
       "      <th>36</th>\n",
       "      <td>7.563841</td>\n",
       "      <td>1.988113</td>\n",
       "      <td>23.806759</td>\n",
       "      <td>2.826183</td>\n",
       "    </tr>\n",
       "    <tr>\n",
       "      <th>37</th>\n",
       "      <td>7.476969</td>\n",
       "      <td>1.942639</td>\n",
       "      <td>22.689407</td>\n",
       "      <td>2.827957</td>\n",
       "    </tr>\n",
       "    <tr>\n",
       "      <th>38</th>\n",
       "      <td>7.392763</td>\n",
       "      <td>1.942121</td>\n",
       "      <td>22.628407</td>\n",
       "      <td>3.010065</td>\n",
       "    </tr>\n",
       "    <tr>\n",
       "      <th>39</th>\n",
       "      <td>7.229447</td>\n",
       "      <td>1.917472</td>\n",
       "      <td>23.427872</td>\n",
       "      <td>3.066552</td>\n",
       "    </tr>\n",
       "    <tr>\n",
       "      <th>40</th>\n",
       "      <td>7.241512</td>\n",
       "      <td>1.978418</td>\n",
       "      <td>21.767937</td>\n",
       "      <td>2.804861</td>\n",
       "    </tr>\n",
       "    <tr>\n",
       "      <th>41</th>\n",
       "      <td>7.252990</td>\n",
       "      <td>1.889715</td>\n",
       "      <td>21.804132</td>\n",
       "      <td>2.765924</td>\n",
       "    </tr>\n",
       "    <tr>\n",
       "      <th>42</th>\n",
       "      <td>7.113719</td>\n",
       "      <td>1.937232</td>\n",
       "      <td>23.223404</td>\n",
       "      <td>2.741944</td>\n",
       "    </tr>\n",
       "    <tr>\n",
       "      <th>43</th>\n",
       "      <td>6.930782</td>\n",
       "      <td>1.866017</td>\n",
       "      <td>21.727985</td>\n",
       "      <td>2.810417</td>\n",
       "    </tr>\n",
       "    <tr>\n",
       "      <th>44</th>\n",
       "      <td>6.842009</td>\n",
       "      <td>1.902795</td>\n",
       "      <td>23.686825</td>\n",
       "      <td>2.759067</td>\n",
       "    </tr>\n",
       "    <tr>\n",
       "      <th>45</th>\n",
       "      <td>6.858947</td>\n",
       "      <td>1.870190</td>\n",
       "      <td>23.004097</td>\n",
       "      <td>2.728855</td>\n",
       "    </tr>\n",
       "    <tr>\n",
       "      <th>46</th>\n",
       "      <td>6.853128</td>\n",
       "      <td>1.822143</td>\n",
       "      <td>23.110056</td>\n",
       "      <td>2.962528</td>\n",
       "    </tr>\n",
       "    <tr>\n",
       "      <th>47</th>\n",
       "      <td>6.718393</td>\n",
       "      <td>1.831484</td>\n",
       "      <td>23.336021</td>\n",
       "      <td>3.059136</td>\n",
       "    </tr>\n",
       "    <tr>\n",
       "      <th>48</th>\n",
       "      <td>6.746778</td>\n",
       "      <td>1.843575</td>\n",
       "      <td>23.448896</td>\n",
       "      <td>2.997277</td>\n",
       "    </tr>\n",
       "    <tr>\n",
       "      <th>49</th>\n",
       "      <td>6.724904</td>\n",
       "      <td>1.863422</td>\n",
       "      <td>21.150379</td>\n",
       "      <td>2.791098</td>\n",
       "    </tr>\n",
       "    <tr>\n",
       "      <th>50</th>\n",
       "      <td>6.621196</td>\n",
       "      <td>1.788383</td>\n",
       "      <td>21.612259</td>\n",
       "      <td>2.711067</td>\n",
       "    </tr>\n",
       "    <tr>\n",
       "      <th>51</th>\n",
       "      <td>6.396761</td>\n",
       "      <td>1.776794</td>\n",
       "      <td>22.268055</td>\n",
       "      <td>2.752765</td>\n",
       "    </tr>\n",
       "    <tr>\n",
       "      <th>52</th>\n",
       "      <td>6.454932</td>\n",
       "      <td>1.778506</td>\n",
       "      <td>20.751146</td>\n",
       "      <td>2.776426</td>\n",
       "    </tr>\n",
       "    <tr>\n",
       "      <th>53</th>\n",
       "      <td>6.281009</td>\n",
       "      <td>1.774637</td>\n",
       "      <td>21.832859</td>\n",
       "      <td>2.793859</td>\n",
       "    </tr>\n",
       "    <tr>\n",
       "      <th>54</th>\n",
       "      <td>6.246307</td>\n",
       "      <td>1.762994</td>\n",
       "      <td>21.381800</td>\n",
       "      <td>2.738943</td>\n",
       "    </tr>\n",
       "    <tr>\n",
       "      <th>55</th>\n",
       "      <td>6.196702</td>\n",
       "      <td>1.765163</td>\n",
       "      <td>22.610109</td>\n",
       "      <td>2.809601</td>\n",
       "    </tr>\n",
       "    <tr>\n",
       "      <th>56</th>\n",
       "      <td>6.201239</td>\n",
       "      <td>1.734853</td>\n",
       "      <td>21.304737</td>\n",
       "      <td>2.717752</td>\n",
       "    </tr>\n",
       "    <tr>\n",
       "      <th>57</th>\n",
       "      <td>6.169561</td>\n",
       "      <td>1.753029</td>\n",
       "      <td>22.124048</td>\n",
       "      <td>2.712877</td>\n",
       "    </tr>\n",
       "    <tr>\n",
       "      <th>58</th>\n",
       "      <td>6.312545</td>\n",
       "      <td>1.773814</td>\n",
       "      <td>21.186996</td>\n",
       "      <td>2.768536</td>\n",
       "    </tr>\n",
       "    <tr>\n",
       "      <th>59</th>\n",
       "      <td>6.125232</td>\n",
       "      <td>1.773806</td>\n",
       "      <td>21.751175</td>\n",
       "      <td>2.716462</td>\n",
       "    </tr>\n",
       "  </tbody>\n",
       "</table>\n",
       "</div>"
      ],
      "text/plain": [
       "          loss        mae    val_loss    val_mae\n",
       "0   517.775146  20.955172  443.821869  19.142984\n",
       "1   365.443726  17.200079  283.740265  14.766036\n",
       "2   201.674484  12.062908  138.211151   9.405902\n",
       "3    92.509048   7.524196   81.934792   6.780847\n",
       "4    51.361301   5.463787   54.993614   5.320387\n",
       "5    31.799026   4.301662   42.419605   4.407154\n",
       "6    22.063725   3.654078   38.215446   3.891037\n",
       "7    18.219002   3.247424   34.738415   3.702514\n",
       "8    15.920843   3.025551   35.788506   3.982003\n",
       "9    15.212751   2.919430   31.510939   3.448478\n",
       "10   14.198319   2.769615   29.724493   3.393972\n",
       "11   13.311072   2.691010   28.251677   3.326510\n",
       "12   12.500590   2.584213   28.437021   3.181054\n",
       "13   11.736943   2.517200   26.745987   3.156844\n",
       "14   11.651985   2.457982   25.728481   3.172972\n",
       "15   11.060150   2.449530   25.013889   3.143029\n",
       "16   10.778810   2.393198   25.990931   2.961656\n",
       "17   10.637341   2.345957   24.845545   2.986626\n",
       "18   10.057297   2.295679   26.403824   2.974631\n",
       "19    9.754073   2.287407   24.874281   2.941714\n",
       "20    9.573976   2.232022   24.975601   2.949323\n",
       "21    9.541050   2.233003   24.630676   2.944742\n",
       "22    9.161428   2.198513   23.493311   3.010611\n",
       "23    8.965395   2.134260   23.582445   2.912321\n",
       "24    8.959113   2.158606   24.672480   2.838844\n",
       "25    8.904907   2.144795   23.605494   2.909516\n",
       "26    8.774404   2.146235   23.329838   2.864692\n",
       "27    8.457058   2.078710   24.430250   3.066702\n",
       "28    8.417490   2.077750   23.508814   3.041618\n",
       "29    8.387328   2.053823   22.891882   2.926883\n",
       "30    8.099154   2.029830   23.981556   2.758072\n",
       "31    8.176218   2.047374   23.370605   2.883408\n",
       "32    7.993176   2.027817   23.164593   2.804964\n",
       "33    7.760231   1.969124   23.928160   2.888808\n",
       "34    7.651454   1.970624   22.813089   2.839374\n",
       "35    7.722083   1.992353   22.295542   2.906872\n",
       "36    7.563841   1.988113   23.806759   2.826183\n",
       "37    7.476969   1.942639   22.689407   2.827957\n",
       "38    7.392763   1.942121   22.628407   3.010065\n",
       "39    7.229447   1.917472   23.427872   3.066552\n",
       "40    7.241512   1.978418   21.767937   2.804861\n",
       "41    7.252990   1.889715   21.804132   2.765924\n",
       "42    7.113719   1.937232   23.223404   2.741944\n",
       "43    6.930782   1.866017   21.727985   2.810417\n",
       "44    6.842009   1.902795   23.686825   2.759067\n",
       "45    6.858947   1.870190   23.004097   2.728855\n",
       "46    6.853128   1.822143   23.110056   2.962528\n",
       "47    6.718393   1.831484   23.336021   3.059136\n",
       "48    6.746778   1.843575   23.448896   2.997277\n",
       "49    6.724904   1.863422   21.150379   2.791098\n",
       "50    6.621196   1.788383   21.612259   2.711067\n",
       "51    6.396761   1.776794   22.268055   2.752765\n",
       "52    6.454932   1.778506   20.751146   2.776426\n",
       "53    6.281009   1.774637   21.832859   2.793859\n",
       "54    6.246307   1.762994   21.381800   2.738943\n",
       "55    6.196702   1.765163   22.610109   2.809601\n",
       "56    6.201239   1.734853   21.304737   2.717752\n",
       "57    6.169561   1.753029   22.124048   2.712877\n",
       "58    6.312545   1.773814   21.186996   2.768536\n",
       "59    6.125232   1.773806   21.751175   2.716462"
      ]
     },
     "metadata": {},
     "output_type": "display_data"
    }
   ],
   "source": [
    "df=pd.DataFrame(data=history.history)\n",
    "display(df)"
   ]
  },
  {
   "cell_type": "code",
   "execution_count": 100,
   "metadata": {
    "colab": {
     "base_uri": "https://localhost:8080/"
    },
    "executionInfo": {
     "elapsed": 404,
     "status": "ok",
     "timestamp": 1687200731976,
     "user": {
      "displayName": "Walid Kheriji",
      "userId": "17231722363260848260"
     },
     "user_tz": -120
    },
    "id": "q3CC28B16UHT",
    "outputId": "828a3a7f-520a-4bea-8dbc-6bb544a81c26"
   },
   "outputs": [
    {
     "name": "stdout",
     "output_type": "stream",
     "text": [
      "min( val_mae ) : 2.7111\n"
     ]
    }
   ],
   "source": [
    "print(\"min( val_mae ) : {:.4f}\".format( min(history.history[\"val_mae\"]) ) )"
   ]
  },
  {
   "cell_type": "code",
   "execution_count": 101,
   "metadata": {
    "colab": {
     "base_uri": "https://localhost:8080/"
    },
    "executionInfo": {
     "elapsed": 575,
     "status": "ok",
     "timestamp": 1687200734865,
     "user": {
      "displayName": "Walid Kheriji",
      "userId": "17231722363260848260"
     },
     "user_tz": -120
    },
    "id": "2Ps1brPN6xEh",
    "outputId": "2c6bf989-0887-4bc4-9374-f18ce9fae8b0"
   },
   "outputs": [
    {
     "data": {
      "text/plain": [
       "dict_keys(['loss', 'mae', 'val_loss', 'val_mae'])"
      ]
     },
     "execution_count": 101,
     "metadata": {},
     "output_type": "execute_result"
    }
   ],
   "source": [
    "history.history.keys()"
   ]
  },
  {
   "cell_type": "code",
   "execution_count": 102,
   "metadata": {
    "id": "2V_QxA_-6XQ2"
   },
   "outputs": [
    {
     "data": {
      "text/plain": [
       "<matplotlib.legend.Legend at 0x273a589bcb0>"
      ]
     },
     "execution_count": 102,
     "metadata": {},
     "output_type": "execute_result"
    },
    {
     "data": {
      "image/png": "[encoded data removed]",
      "text/plain": [
       "<Figure size 640x480 with 1 Axes>"
      ]
     },
     "metadata": {},
     "output_type": "display_data"
    }
   ],
   "source": [
    "plt.plot(history.history['loss'],linestyle='--', marker='+', label='train' )\n",
    "plt.plot(history.history['val_loss'],linestyle='--', marker='o', label='test')\n",
    "plt.title('LOSS', pad=-50)\n",
    "plt.legend()\n",
    "#plt.title('lrate='+str(lrate), pad=-50)"
   ]
  },
  {
   "cell_type": "code",
   "execution_count": 103,
   "metadata": {
    "id": "DPlUFKOy77Cr"
   },
   "outputs": [
    {
     "data": {
      "text/plain": [
       "<matplotlib.legend.Legend at 0x273a5898b30>"
      ]
     },
     "execution_count": 103,
     "metadata": {},
     "output_type": "execute_result"
    },
    {
     "data": {
      "image/png": "[encoded data removed]",
      "text/plain": [
       "<Figure size 640x480 with 1 Axes>"
      ]
     },
     "metadata": {},
     "output_type": "display_data"
    }
   ],
   "source": [
    "plt.plot(history.history['mae'],linestyle='--', marker='+', label='train' )\n",
    "plt.plot(history.history['val_mae'],linestyle='--', marker='o', label='test')\n",
    "plt.title('MAE', pad=-50)\n",
    "plt.legend()"
   ]
  },
  {
   "cell_type": "markdown",
   "metadata": {
    "id": "4tuYScCT8Rah"
   },
   "source": [
    "## Exe 9: Model Prediction\n",
    "\n",
    "Use the trained neural network model, to predict the price of a given house and compare the result with the ground truth"
   ]
  },
  {
   "cell_type": "code",
   "execution_count": 104,
   "metadata": {
    "id": "fiRxcz2m8Ybg"
   },
   "outputs": [
    {
     "name": "stdout",
     "output_type": "stream",
     "text": [
      "\u001b[1m1/1\u001b[0m \u001b[32m━━━━━━━━━━━━━━━━━━━━\u001b[0m\u001b[37m\u001b[0m \u001b[1m0s\u001b[0m 46ms/step\n",
      "Predicted price :  9.948538\n"
     ]
    }
   ],
   "source": [
    "my_house = [ 1.26425925, -0.48522739,  1.0436489 , -0.23112788,  1.37120745,\n",
    "       -2.14308942,  1.13489104, -1.06802005,  1.71189006,  1.57042287,\n",
    "        0.77859951,  0.14769795,  2.7585581 ]\n",
    "real_price = 10.4\n",
    "\n",
    "my_house = np.array([my_house])\n",
    "prediction = model.predict(my_house)\n",
    "print('Predicted price : ',prediction[0][0])"
   ]
  },
  {
   "cell_type": "code",
   "execution_count": 105,
   "metadata": {
    "id": "5REqbpBf8cF_"
   },
   "outputs": [
    {
     "name": "stdout",
     "output_type": "stream",
     "text": [
      "\u001b[1m1/1\u001b[0m \u001b[32m━━━━━━━━━━━━━━━━━━━━\u001b[0m\u001b[37m\u001b[0m \u001b[1m0s\u001b[0m 31ms/step\n",
      "Prediction : 9.95 K$\n",
      "Reality    : 10.40 K$\n"
     ]
    }
   ],
   "source": [
    "predictions = model.predict(my_house)\n",
    "print(\"Prediction : {:.2f} K$\".format(predictions[0][0]))\n",
    "print(\"Reality    : {:.2f} K$\".format(real_price))"
   ]
  },
  {
   "cell_type": "markdown",
   "metadata": {
    "id": "Al8LGaguGbFw"
   },
   "source": [
    "## Exe 10 Early stoping\n",
    "\n",
    "Create a neural network with the following specifications:\n",
    "\n",
    "* Number of hidden layers: 2\n",
    "* Number of units in each hidden layer: 64\n",
    "* Activation function for the hidden layers: ReLU\n",
    "* Output layer: Single unit with no activation function (for linear output)\n",
    "* Loss function: Mean Squared Error (MSE)\n",
    "* Additional metric to monitor during training: Mean Absolute Error (MAE)\n",
    "* Optimizer: 'rmsprop'\n",
    "* Apply dropout after each hidden layer with a dropout rate of 0.5 (50% of nodes dropped randomly for the following layer)\n",
    "* Minibatch size: 100\n",
    "* Use early stopping for fitting the model with patience=20 and epochs = 300\n",
    "* Save the best model as 'model_best'\n",
    "* Evaluate the saved model on the test data"
   ]
  },
  {
   "cell_type": "code",
   "execution_count": 106,
   "metadata": {},
   "outputs": [],
   "source": [
    "from keras.callbacks import ModelCheckpoint\n",
    "from keras.callbacks import EarlyStopping\n",
    "from keras.models import load_model\n",
    "from tensorflow.keras.layers import Dense, Dropout"
   ]
  },
  {
   "cell_type": "code",
   "execution_count": 107,
   "metadata": {
    "id": "VHeSqPpOHleE"
   },
   "outputs": [],
   "source": [
    "def build_model2 (shape):\n",
    "  model = keras.models.Sequential()  \n",
    "  model.add(keras.layers.Input(shape, name=\"InputLayer\"))\n",
    "  model.add(keras.layers.Dense(64, activation='relu'))\n",
    "  model.add(Dropout(0.5))\n",
    "  model.add(keras.layers.Dense(64, activation='relu'))\n",
    "  model.add(Dropout(0.5))\n",
    "  model.add(keras.layers.Dense(1))\n",
    "  model.compile(optimizer='rmsprop', loss='mse', metrics=['mae'])\n",
    "  \n",
    "  return model\n",
    "\n",
    "model2=build_model2((13, ))"
   ]
  },
  {
   "cell_type": "code",
   "execution_count": 108,
   "metadata": {
    "id": "t4cpGLcuHN_y"
   },
   "outputs": [],
   "source": [
    "es = EarlyStopping(monitor='val_loss', mode='min', verbose=1, patience=20)\n",
    "mc = ModelCheckpoint('best_model.h5', monitor='val_loss', mode='min', verbose=0, save_best_only=True)\n",
    "model2.compile(optimizer='rmsprop', loss='mean_squared_error', metrics=['mae'])"
   ]
  },
  {
   "cell_type": "code",
   "execution_count": 109,
   "metadata": {
    "id": "Lh0TNO83Hdzi"
   },
   "outputs": [
    {
     "name": "stderr",
     "output_type": "stream",
     "text": [
      "WARNING:absl:You are saving your model as an HDF5 file via `model.save()` or `keras.saving.save_model(model)`. This file format is considered legacy. We recommend using instead the native Keras format, e.g. `model.save('my_model.keras')` or `keras.saving.save_model(model, 'my_model.keras')`. \n",
      "WARNING:absl:You are saving your model as an HDF5 file via `model.save()` or `keras.saving.save_model(model)`. This file format is considered legacy. We recommend using instead the native Keras format, e.g. `model.save('my_model.keras')` or `keras.saving.save_model(model, 'my_model.keras')`. \n",
      "WARNING:absl:You are saving your model as an HDF5 file via `model.save()` or `keras.saving.save_model(model)`. This file format is considered legacy. We recommend using instead the native Keras format, e.g. `model.save('my_model.keras')` or `keras.saving.save_model(model, 'my_model.keras')`. \n",
      "WARNING:absl:You are saving your model as an HDF5 file via `model.save()` or `keras.saving.save_model(model)`. This file format is considered legacy. We recommend using instead the native Keras format, e.g. `model.save('my_model.keras')` or `keras.saving.save_model(model, 'my_model.keras')`. \n",
      "WARNING:absl:You are saving your model as an HDF5 file via `model.save()` or `keras.saving.save_model(model)`. This file format is considered legacy. We recommend using instead the native Keras format, e.g. `model.save('my_model.keras')` or `keras.saving.save_model(model, 'my_model.keras')`. \n",
      "WARNING:absl:You are saving your model as an HDF5 file via `model.save()` or `keras.saving.save_model(model)`. This file format is considered legacy. We recommend using instead the native Keras format, e.g. `model.save('my_model.keras')` or `keras.saving.save_model(model, 'my_model.keras')`. \n",
      "WARNING:absl:You are saving your model as an HDF5 file via `model.save()` or `keras.saving.save_model(model)`. This file format is considered legacy. We recommend using instead the native Keras format, e.g. `model.save('my_model.keras')` or `keras.saving.save_model(model, 'my_model.keras')`. \n",
      "WARNING:absl:You are saving your model as an HDF5 file via `model.save()` or `keras.saving.save_model(model)`. This file format is considered legacy. We recommend using instead the native Keras format, e.g. `model.save('my_model.keras')` or `keras.saving.save_model(model, 'my_model.keras')`. \n",
      "WARNING:absl:You are saving your model as an HDF5 file via `model.save()` or `keras.saving.save_model(model)`. This file format is considered legacy. We recommend using instead the native Keras format, e.g. `model.save('my_model.keras')` or `keras.saving.save_model(model, 'my_model.keras')`. \n",
      "WARNING:absl:You are saving your model as an HDF5 file via `model.save()` or `keras.saving.save_model(model)`. This file format is considered legacy. We recommend using instead the native Keras format, e.g. `model.save('my_model.keras')` or `keras.saving.save_model(model, 'my_model.keras')`. \n",
      "WARNING:absl:You are saving your model as an HDF5 file via `model.save()` or `keras.saving.save_model(model)`. This file format is considered legacy. We recommend using instead the native Keras format, e.g. `model.save('my_model.keras')` or `keras.saving.save_model(model, 'my_model.keras')`. \n",
      "WARNING:absl:You are saving your model as an HDF5 file via `model.save()` or `keras.saving.save_model(model)`. This file format is considered legacy. We recommend using instead the native Keras format, e.g. `model.save('my_model.keras')` or `keras.saving.save_model(model, 'my_model.keras')`. \n",
      "WARNING:absl:You are saving your model as an HDF5 file via `model.save()` or `keras.saving.save_model(model)`. This file format is considered legacy. We recommend using instead the native Keras format, e.g. `model.save('my_model.keras')` or `keras.saving.save_model(model, 'my_model.keras')`. \n",
      "WARNING:absl:You are saving your model as an HDF5 file via `model.save()` or `keras.saving.save_model(model)`. This file format is considered legacy. We recommend using instead the native Keras format, e.g. `model.save('my_model.keras')` or `keras.saving.save_model(model, 'my_model.keras')`. \n",
      "WARNING:absl:You are saving your model as an HDF5 file via `model.save()` or `keras.saving.save_model(model)`. This file format is considered legacy. We recommend using instead the native Keras format, e.g. `model.save('my_model.keras')` or `keras.saving.save_model(model, 'my_model.keras')`. \n",
      "WARNING:absl:You are saving your model as an HDF5 file via `model.save()` or `keras.saving.save_model(model)`. This file format is considered legacy. We recommend using instead the native Keras format, e.g. `model.save('my_model.keras')` or `keras.saving.save_model(model, 'my_model.keras')`. \n",
      "WARNING:absl:You are saving your model as an HDF5 file via `model.save()` or `keras.saving.save_model(model)`. This file format is considered legacy. We recommend using instead the native Keras format, e.g. `model.save('my_model.keras')` or `keras.saving.save_model(model, 'my_model.keras')`. \n",
      "WARNING:absl:You are saving your model as an HDF5 file via `model.save()` or `keras.saving.save_model(model)`. This file format is considered legacy. We recommend using instead the native Keras format, e.g. `model.save('my_model.keras')` or `keras.saving.save_model(model, 'my_model.keras')`. \n",
      "WARNING:absl:You are saving your model as an HDF5 file via `model.save()` or `keras.saving.save_model(model)`. This file format is considered legacy. We recommend using instead the native Keras format, e.g. `model.save('my_model.keras')` or `keras.saving.save_model(model, 'my_model.keras')`. \n",
      "WARNING:absl:You are saving your model as an HDF5 file via `model.save()` or `keras.saving.save_model(model)`. This file format is considered legacy. We recommend using instead the native Keras format, e.g. `model.save('my_model.keras')` or `keras.saving.save_model(model, 'my_model.keras')`. \n",
      "WARNING:absl:You are saving your model as an HDF5 file via `model.save()` or `keras.saving.save_model(model)`. This file format is considered legacy. We recommend using instead the native Keras format, e.g. `model.save('my_model.keras')` or `keras.saving.save_model(model, 'my_model.keras')`. \n",
      "WARNING:absl:You are saving your model as an HDF5 file via `model.save()` or `keras.saving.save_model(model)`. This file format is considered legacy. We recommend using instead the native Keras format, e.g. `model.save('my_model.keras')` or `keras.saving.save_model(model, 'my_model.keras')`. \n",
      "WARNING:absl:You are saving your model as an HDF5 file via `model.save()` or `keras.saving.save_model(model)`. This file format is considered legacy. We recommend using instead the native Keras format, e.g. `model.save('my_model.keras')` or `keras.saving.save_model(model, 'my_model.keras')`. \n",
      "WARNING:absl:You are saving your model as an HDF5 file via `model.save()` or `keras.saving.save_model(model)`. This file format is considered legacy. We recommend using instead the native Keras format, e.g. `model.save('my_model.keras')` or `keras.saving.save_model(model, 'my_model.keras')`. \n",
      "WARNING:absl:You are saving your model as an HDF5 file via `model.save()` or `keras.saving.save_model(model)`. This file format is considered legacy. We recommend using instead the native Keras format, e.g. `model.save('my_model.keras')` or `keras.saving.save_model(model, 'my_model.keras')`. \n",
      "WARNING:absl:You are saving your model as an HDF5 file via `model.save()` or `keras.saving.save_model(model)`. This file format is considered legacy. We recommend using instead the native Keras format, e.g. `model.save('my_model.keras')` or `keras.saving.save_model(model, 'my_model.keras')`. \n",
      "WARNING:absl:You are saving your model as an HDF5 file via `model.save()` or `keras.saving.save_model(model)`. This file format is considered legacy. We recommend using instead the native Keras format, e.g. `model.save('my_model.keras')` or `keras.saving.save_model(model, 'my_model.keras')`. \n",
      "WARNING:absl:You are saving your model as an HDF5 file via `model.save()` or `keras.saving.save_model(model)`. This file format is considered legacy. We recommend using instead the native Keras format, e.g. `model.save('my_model.keras')` or `keras.saving.save_model(model, 'my_model.keras')`. \n",
      "WARNING:absl:You are saving your model as an HDF5 file via `model.save()` or `keras.saving.save_model(model)`. This file format is considered legacy. We recommend using instead the native Keras format, e.g. `model.save('my_model.keras')` or `keras.saving.save_model(model, 'my_model.keras')`. \n",
      "WARNING:absl:You are saving your model as an HDF5 file via `model.save()` or `keras.saving.save_model(model)`. This file format is considered legacy. We recommend using instead the native Keras format, e.g. `model.save('my_model.keras')` or `keras.saving.save_model(model, 'my_model.keras')`. \n",
      "WARNING:absl:You are saving your model as an HDF5 file via `model.save()` or `keras.saving.save_model(model)`. This file format is considered legacy. We recommend using instead the native Keras format, e.g. `model.save('my_model.keras')` or `keras.saving.save_model(model, 'my_model.keras')`. \n",
      "WARNING:absl:You are saving your model as an HDF5 file via `model.save()` or `keras.saving.save_model(model)`. This file format is considered legacy. We recommend using instead the native Keras format, e.g. `model.save('my_model.keras')` or `keras.saving.save_model(model, 'my_model.keras')`. \n",
      "WARNING:absl:You are saving your model as an HDF5 file via `model.save()` or `keras.saving.save_model(model)`. This file format is considered legacy. We recommend using instead the native Keras format, e.g. `model.save('my_model.keras')` or `keras.saving.save_model(model, 'my_model.keras')`. \n",
      "WARNING:absl:You are saving your model as an HDF5 file via `model.save()` or `keras.saving.save_model(model)`. This file format is considered legacy. We recommend using instead the native Keras format, e.g. `model.save('my_model.keras')` or `keras.saving.save_model(model, 'my_model.keras')`. \n",
      "WARNING:absl:You are saving your model as an HDF5 file via `model.save()` or `keras.saving.save_model(model)`. This file format is considered legacy. We recommend using instead the native Keras format, e.g. `model.save('my_model.keras')` or `keras.saving.save_model(model, 'my_model.keras')`. \n",
      "WARNING:absl:You are saving your model as an HDF5 file via `model.save()` or `keras.saving.save_model(model)`. This file format is considered legacy. We recommend using instead the native Keras format, e.g. `model.save('my_model.keras')` or `keras.saving.save_model(model, 'my_model.keras')`. \n",
      "WARNING:absl:You are saving your model as an HDF5 file via `model.save()` or `keras.saving.save_model(model)`. This file format is considered legacy. We recommend using instead the native Keras format, e.g. `model.save('my_model.keras')` or `keras.saving.save_model(model, 'my_model.keras')`. \n",
      "WARNING:absl:You are saving your model as an HDF5 file via `model.save()` or `keras.saving.save_model(model)`. This file format is considered legacy. We recommend using instead the native Keras format, e.g. `model.save('my_model.keras')` or `keras.saving.save_model(model, 'my_model.keras')`. \n",
      "WARNING:absl:You are saving your model as an HDF5 file via `model.save()` or `keras.saving.save_model(model)`. This file format is considered legacy. We recommend using instead the native Keras format, e.g. `model.save('my_model.keras')` or `keras.saving.save_model(model, 'my_model.keras')`. \n",
      "WARNING:absl:You are saving your model as an HDF5 file via `model.save()` or `keras.saving.save_model(model)`. This file format is considered legacy. We recommend using instead the native Keras format, e.g. `model.save('my_model.keras')` or `keras.saving.save_model(model, 'my_model.keras')`. \n",
      "WARNING:absl:You are saving your model as an HDF5 file via `model.save()` or `keras.saving.save_model(model)`. This file format is considered legacy. We recommend using instead the native Keras format, e.g. `model.save('my_model.keras')` or `keras.saving.save_model(model, 'my_model.keras')`. \n",
      "WARNING:absl:You are saving your model as an HDF5 file via `model.save()` or `keras.saving.save_model(model)`. This file format is considered legacy. We recommend using instead the native Keras format, e.g. `model.save('my_model.keras')` or `keras.saving.save_model(model, 'my_model.keras')`. \n",
      "WARNING:absl:You are saving your model as an HDF5 file via `model.save()` or `keras.saving.save_model(model)`. This file format is considered legacy. We recommend using instead the native Keras format, e.g. `model.save('my_model.keras')` or `keras.saving.save_model(model, 'my_model.keras')`. \n",
      "WARNING:absl:You are saving your model as an HDF5 file via `model.save()` or `keras.saving.save_model(model)`. This file format is considered legacy. We recommend using instead the native Keras format, e.g. `model.save('my_model.keras')` or `keras.saving.save_model(model, 'my_model.keras')`. \n",
      "WARNING:absl:You are saving your model as an HDF5 file via `model.save()` or `keras.saving.save_model(model)`. This file format is considered legacy. We recommend using instead the native Keras format, e.g. `model.save('my_model.keras')` or `keras.saving.save_model(model, 'my_model.keras')`. \n",
      "WARNING:absl:You are saving your model as an HDF5 file via `model.save()` or `keras.saving.save_model(model)`. This file format is considered legacy. We recommend using instead the native Keras format, e.g. `model.save('my_model.keras')` or `keras.saving.save_model(model, 'my_model.keras')`. \n",
      "WARNING:absl:You are saving your model as an HDF5 file via `model.save()` or `keras.saving.save_model(model)`. This file format is considered legacy. We recommend using instead the native Keras format, e.g. `model.save('my_model.keras')` or `keras.saving.save_model(model, 'my_model.keras')`. \n",
      "WARNING:absl:You are saving your model as an HDF5 file via `model.save()` or `keras.saving.save_model(model)`. This file format is considered legacy. We recommend using instead the native Keras format, e.g. `model.save('my_model.keras')` or `keras.saving.save_model(model, 'my_model.keras')`. \n",
      "WARNING:absl:You are saving your model as an HDF5 file via `model.save()` or `keras.saving.save_model(model)`. This file format is considered legacy. We recommend using instead the native Keras format, e.g. `model.save('my_model.keras')` or `keras.saving.save_model(model, 'my_model.keras')`. \n",
      "WARNING:absl:You are saving your model as an HDF5 file via `model.save()` or `keras.saving.save_model(model)`. This file format is considered legacy. We recommend using instead the native Keras format, e.g. `model.save('my_model.keras')` or `keras.saving.save_model(model, 'my_model.keras')`. \n",
      "WARNING:absl:You are saving your model as an HDF5 file via `model.save()` or `keras.saving.save_model(model)`. This file format is considered legacy. We recommend using instead the native Keras format, e.g. `model.save('my_model.keras')` or `keras.saving.save_model(model, 'my_model.keras')`. \n",
      "WARNING:absl:You are saving your model as an HDF5 file via `model.save()` or `keras.saving.save_model(model)`. This file format is considered legacy. We recommend using instead the native Keras format, e.g. `model.save('my_model.keras')` or `keras.saving.save_model(model, 'my_model.keras')`. \n",
      "WARNING:absl:You are saving your model as an HDF5 file via `model.save()` or `keras.saving.save_model(model)`. This file format is considered legacy. We recommend using instead the native Keras format, e.g. `model.save('my_model.keras')` or `keras.saving.save_model(model, 'my_model.keras')`. \n",
      "WARNING:absl:You are saving your model as an HDF5 file via `model.save()` or `keras.saving.save_model(model)`. This file format is considered legacy. We recommend using instead the native Keras format, e.g. `model.save('my_model.keras')` or `keras.saving.save_model(model, 'my_model.keras')`. \n",
      "WARNING:absl:You are saving your model as an HDF5 file via `model.save()` or `keras.saving.save_model(model)`. This file format is considered legacy. We recommend using instead the native Keras format, e.g. `model.save('my_model.keras')` or `keras.saving.save_model(model, 'my_model.keras')`. \n",
      "WARNING:absl:You are saving your model as an HDF5 file via `model.save()` or `keras.saving.save_model(model)`. This file format is considered legacy. We recommend using instead the native Keras format, e.g. `model.save('my_model.keras')` or `keras.saving.save_model(model, 'my_model.keras')`. \n",
      "WARNING:absl:You are saving your model as an HDF5 file via `model.save()` or `keras.saving.save_model(model)`. This file format is considered legacy. We recommend using instead the native Keras format, e.g. `model.save('my_model.keras')` or `keras.saving.save_model(model, 'my_model.keras')`. \n",
      "WARNING:absl:You are saving your model as an HDF5 file via `model.save()` or `keras.saving.save_model(model)`. This file format is considered legacy. We recommend using instead the native Keras format, e.g. `model.save('my_model.keras')` or `keras.saving.save_model(model, 'my_model.keras')`. \n",
      "WARNING:absl:You are saving your model as an HDF5 file via `model.save()` or `keras.saving.save_model(model)`. This file format is considered legacy. We recommend using instead the native Keras format, e.g. `model.save('my_model.keras')` or `keras.saving.save_model(model, 'my_model.keras')`. \n",
      "WARNING:absl:You are saving your model as an HDF5 file via `model.save()` or `keras.saving.save_model(model)`. This file format is considered legacy. We recommend using instead the native Keras format, e.g. `model.save('my_model.keras')` or `keras.saving.save_model(model, 'my_model.keras')`. \n",
      "WARNING:absl:You are saving your model as an HDF5 file via `model.save()` or `keras.saving.save_model(model)`. This file format is considered legacy. We recommend using instead the native Keras format, e.g. `model.save('my_model.keras')` or `keras.saving.save_model(model, 'my_model.keras')`. \n",
      "WARNING:absl:You are saving your model as an HDF5 file via `model.save()` or `keras.saving.save_model(model)`. This file format is considered legacy. We recommend using instead the native Keras format, e.g. `model.save('my_model.keras')` or `keras.saving.save_model(model, 'my_model.keras')`. \n",
      "WARNING:absl:You are saving your model as an HDF5 file via `model.save()` or `keras.saving.save_model(model)`. This file format is considered legacy. We recommend using instead the native Keras format, e.g. `model.save('my_model.keras')` or `keras.saving.save_model(model, 'my_model.keras')`. \n",
      "WARNING:absl:You are saving your model as an HDF5 file via `model.save()` or `keras.saving.save_model(model)`. This file format is considered legacy. We recommend using instead the native Keras format, e.g. `model.save('my_model.keras')` or `keras.saving.save_model(model, 'my_model.keras')`. \n",
      "WARNING:absl:You are saving your model as an HDF5 file via `model.save()` or `keras.saving.save_model(model)`. This file format is considered legacy. We recommend using instead the native Keras format, e.g. `model.save('my_model.keras')` or `keras.saving.save_model(model, 'my_model.keras')`. \n",
      "WARNING:absl:You are saving your model as an HDF5 file via `model.save()` or `keras.saving.save_model(model)`. This file format is considered legacy. We recommend using instead the native Keras format, e.g. `model.save('my_model.keras')` or `keras.saving.save_model(model, 'my_model.keras')`. \n",
      "WARNING:absl:You are saving your model as an HDF5 file via `model.save()` or `keras.saving.save_model(model)`. This file format is considered legacy. We recommend using instead the native Keras format, e.g. `model.save('my_model.keras')` or `keras.saving.save_model(model, 'my_model.keras')`. \n",
      "WARNING:absl:You are saving your model as an HDF5 file via `model.save()` or `keras.saving.save_model(model)`. This file format is considered legacy. We recommend using instead the native Keras format, e.g. `model.save('my_model.keras')` or `keras.saving.save_model(model, 'my_model.keras')`. \n",
      "WARNING:absl:You are saving your model as an HDF5 file via `model.save()` or `keras.saving.save_model(model)`. This file format is considered legacy. We recommend using instead the native Keras format, e.g. `model.save('my_model.keras')` or `keras.saving.save_model(model, 'my_model.keras')`. \n",
      "WARNING:absl:You are saving your model as an HDF5 file via `model.save()` or `keras.saving.save_model(model)`. This file format is considered legacy. We recommend using instead the native Keras format, e.g. `model.save('my_model.keras')` or `keras.saving.save_model(model, 'my_model.keras')`. \n"
     ]
    },
    {
     "name": "stdout",
     "output_type": "stream",
     "text": [
      "Epoch 235: early stopping\n"
     ]
    },
    {
     "name": "stderr",
     "output_type": "stream",
     "text": [
      "WARNING:absl:Compiled the loaded model, but the compiled metrics have yet to be built. `model.compile_metrics` will be empty until you train or evaluate the model.\n"
     ]
    }
   ],
   "source": [
    "history = model2.fit(x_train, y_train, epochs=300, batch_size=100, verbose=0, validation_data=(x_test, y_test), callbacks=[es, mc])\n",
    "saved_model = load_model('best_model.h5')"
   ]
  },
  {
   "cell_type": "code",
   "execution_count": 110,
   "metadata": {
    "id": "k4Yn5vSPHjsK"
   },
   "outputs": [
    {
     "name": "stdout",
     "output_type": "stream",
     "text": [
      "\u001b[1m5/5\u001b[0m \u001b[32m━━━━━━━━━━━━━━━━━━━━\u001b[0m\u001b[37m\u001b[0m \u001b[1m0s\u001b[0m 6ms/step - loss: 32.6562 - mean_absolute_error: 3.1033  \n",
      "26.263368606567383 2.9606730937957764\n"
     ]
    }
   ],
   "source": [
    "test_loss, test_acc = saved_model.evaluate(x_test, y_test)\n",
    "print(test_loss, test_acc)"
   ]
  },
  {
   "cell_type": "markdown",
   "metadata": {
    "id": "9ukmkExmVf2Y"
   },
   "source": [
    "# Classification with DNN"
   ]
  },
  {
   "cell_type": "markdown",
   "metadata": {
    "id": "ki33nGO6PBw4"
   },
   "source": [
    "## Exe 1:  Import data\n",
    "\n",
    "Import the cifra10 data set. The CIFAR-10 dataset consists of 60000\n",
    "32 x 32 colour images in 10 classes, with 6000 images per class. There are\n",
    "50000 training images and 10000 test images: https://www.tensorflow.org/datasets/catalog/cifar10"
   ]
  },
  {
   "cell_type": "code",
   "execution_count": 111,
   "metadata": {
    "colab": {
     "base_uri": "https://localhost:8080/"
    },
    "executionInfo": {
     "elapsed": 5350,
     "status": "ok",
     "timestamp": 1687276312056,
     "user": {
      "displayName": "Walid Kheriji",
      "userId": "17231722363260848260"
     },
     "user_tz": -120
    },
    "id": "TVAGkI_1PlxE",
    "outputId": "939fe88b-4432-4bd4-882a-55cfcac02e07"
   },
   "outputs": [],
   "source": [
    "data = keras . datasets . cifar10\n",
    "cifar10_data = data . load_data ()"
   ]
  },
  {
   "cell_type": "markdown",
   "metadata": {
    "id": "2Fs6Kfq3PpAF"
   },
   "source": [
    "## Exe 2 :\n",
    "\n",
    "Before using a dataset, the datatype should be checked. Test *type(cifar10_data)*\n",
    "for verifying the variable type. *len(cifar10_data)* is another command for\n",
    "checking the data size."
   ]
  },
  {
   "cell_type": "code",
   "execution_count": 112,
   "metadata": {
    "colab": {
     "base_uri": "https://localhost:8080/"
    },
    "executionInfo": {
     "elapsed": 227,
     "status": "ok",
     "timestamp": 1687276316039,
     "user": {
      "displayName": "Walid Kheriji",
      "userId": "17231722363260848260"
     },
     "user_tz": -120
    },
    "id": "zU7mG6kZQ__a",
    "outputId": "94c8701c-49b0-478c-b8a3-a1d02160e8f1"
   },
   "outputs": [
    {
     "data": {
      "text/plain": [
       "tuple"
      ]
     },
     "execution_count": 112,
     "metadata": {},
     "output_type": "execute_result"
    }
   ],
   "source": [
    "type(cifar10_data)"
   ]
  },
  {
   "cell_type": "code",
   "execution_count": 113,
   "metadata": {
    "colab": {
     "base_uri": "https://localhost:8080/"
    },
    "executionInfo": {
     "elapsed": 229,
     "status": "ok",
     "timestamp": 1687276317310,
     "user": {
      "displayName": "Walid Kheriji",
      "userId": "17231722363260848260"
     },
     "user_tz": -120
    },
    "id": "rojeY8rwP82_",
    "outputId": "3d5e459e-9a08-4dcc-a683-b7d3fb9e19a0"
   },
   "outputs": [
    {
     "data": {
      "text/plain": [
       "2"
      ]
     },
     "execution_count": 113,
     "metadata": {},
     "output_type": "execute_result"
    }
   ],
   "source": [
    "len(cifar10_data)"
   ]
  },
  {
   "cell_type": "markdown",
   "metadata": {
    "id": "t5nwGMbpP9rF"
   },
   "source": [
    "## Exe 3: Train and Test\n",
    "\n",
    "Load train and test images and labels with:"
   ]
  },
  {
   "cell_type": "code",
   "execution_count": 114,
   "metadata": {
    "id": "aHu03ewPTlHP"
   },
   "outputs": [],
   "source": [
    "(train_images, train_labels),(test_images, test_labels) = cifar10_data"
   ]
  },
  {
   "cell_type": "markdown",
   "metadata": {
    "id": "Bs_zxmn8Tmml"
   },
   "source": [
    "## Exe 4:\n",
    "\n",
    "The images are 32 x 32 NumPy arrays, with pixel values ranging from 0\n",
    "to 255. You can check an example with:"
   ]
  },
  {
   "cell_type": "code",
   "execution_count": 115,
   "metadata": {
    "colab": {
     "base_uri": "https://localhost:8080/"
    },
    "executionInfo": {
     "elapsed": 230,
     "status": "ok",
     "timestamp": 1687276322474,
     "user": {
      "displayName": "Walid Kheriji",
      "userId": "17231722363260848260"
     },
     "user_tz": -120
    },
    "id": "EF2nXJGYTqlE",
    "outputId": "9adf1294-bf1c-4a9a-bd4c-d4e7d3987d7c"
   },
   "outputs": [
    {
     "name": "stdout",
     "output_type": "stream",
     "text": [
      "[[[ 59  62  63]\n",
      "  [ 43  46  45]\n",
      "  [ 50  48  43]\n",
      "  ...\n",
      "  [158 132 108]\n",
      "  [152 125 102]\n",
      "  [148 124 103]]\n",
      "\n",
      " [[ 16  20  20]\n",
      "  [  0   0   0]\n",
      "  [ 18   8   0]\n",
      "  ...\n",
      "  [123  88  55]\n",
      "  [119  83  50]\n",
      "  [122  87  57]]\n",
      "\n",
      " [[ 25  24  21]\n",
      "  [ 16   7   0]\n",
      "  [ 49  27   8]\n",
      "  ...\n",
      "  [118  84  50]\n",
      "  [120  84  50]\n",
      "  [109  73  42]]\n",
      "\n",
      " ...\n",
      "\n",
      " [[208 170  96]\n",
      "  [201 153  34]\n",
      "  [198 161  26]\n",
      "  ...\n",
      "  [160 133  70]\n",
      "  [ 56  31   7]\n",
      "  [ 53  34  20]]\n",
      "\n",
      " [[180 139  96]\n",
      "  [173 123  42]\n",
      "  [186 144  30]\n",
      "  ...\n",
      "  [184 148  94]\n",
      "  [ 97  62  34]\n",
      "  [ 83  53  34]]\n",
      "\n",
      " [[177 144 116]\n",
      "  [168 129  94]\n",
      "  [179 142  87]\n",
      "  ...\n",
      "  [216 184 140]\n",
      "  [151 118  84]\n",
      "  [123  92  72]]]\n",
      "(32, 32, 3)\n"
     ]
    }
   ],
   "source": [
    "print ( train_images[0])\n",
    "print ( train_images[0].shape )"
   ]
  },
  {
   "cell_type": "code",
   "execution_count": 116,
   "metadata": {
    "colab": {
     "base_uri": "https://localhost:8080/"
    },
    "executionInfo": {
     "elapsed": 214,
     "status": "ok",
     "timestamp": 1687276383846,
     "user": {
      "displayName": "Walid Kheriji",
      "userId": "17231722363260848260"
     },
     "user_tz": -120
    },
    "id": "tdJasNPVTv8G",
    "outputId": "84d3e119-f1c9-4cbf-fec1-76e9d2586361"
   },
   "outputs": [
    {
     "data": {
      "text/plain": [
       "array([0, 1, 2, 3, 4, 5, 6, 7, 8, 9], dtype=uint8)"
      ]
     },
     "execution_count": 116,
     "metadata": {},
     "output_type": "execute_result"
    }
   ],
   "source": [
    "np.unique(train_labels)"
   ]
  },
  {
   "cell_type": "markdown",
   "metadata": {
    "id": "Es46ai0xT26Q"
   },
   "source": [
    "## Exe 5: Chek\n",
    "\n",
    "Check the dataset using the following commands:"
   ]
  },
  {
   "cell_type": "code",
   "execution_count": 117,
   "metadata": {
    "colab": {
     "base_uri": "https://localhost:8080/"
    },
    "executionInfo": {
     "elapsed": 274,
     "status": "ok",
     "timestamp": 1687276411683,
     "user": {
      "displayName": "Walid Kheriji",
      "userId": "17231722363260848260"
     },
     "user_tz": -120
    },
    "id": "MWaAn4KBT2C4",
    "outputId": "1ff416d6-ba2a-4014-e97a-830c32afce78"
   },
   "outputs": [
    {
     "name": "stdout",
     "output_type": "stream",
     "text": [
      "train_images shape :  (50000, 32, 32, 3)\n",
      "train_labels size 50000\n",
      "train_labels [[6]\n",
      " [9]\n",
      " [9]\n",
      " ...\n",
      " [9]\n",
      " [1]\n",
      " [1]]\n",
      "test_images shape :  (10000, 32, 32, 3)\n",
      "test_labels [[3]\n",
      " [8]\n",
      " [8]\n",
      " ...\n",
      " [5]\n",
      " [1]\n",
      " [7]]\n"
     ]
    }
   ],
   "source": [
    "print(\"train_images shape : \",train_images.shape)\n",
    "\n",
    "print(\"train_labels size\", len(train_labels))\n",
    "\n",
    "print(\"train_labels\",train_labels)\n",
    "\n",
    "print(\"test_images shape : \",test_images.shape)\n",
    "\n",
    "print(\"test_labels\",test_labels)"
   ]
  },
  {
   "cell_type": "markdown",
   "metadata": {
    "id": "Q3rD-pstT_mN"
   },
   "source": [
    "## Exe 6: Image Visualization\n",
    "\n",
    "An interesting fact about the image is that it can be plotted. To visualize an image, you can use the following code:"
   ]
  },
  {
   "cell_type": "code",
   "execution_count": 118,
   "metadata": {
    "colab": {
     "base_uri": "https://localhost:8080/",
     "height": 448
    },
    "executionInfo": {
     "elapsed": 1747,
     "status": "ok",
     "timestamp": 1687276503672,
     "user": {
      "displayName": "Walid Kheriji",
      "userId": "17231722363260848260"
     },
     "user_tz": -120
    },
    "id": "jAyspozuUD-I",
    "outputId": "91c8be22-fd02-4c96-ab9d-5d7a39bf3fd0"
   },
   "outputs": [
    {
     "data": {
      "image/png": "[encoded data removed]",
      "text/plain": [
       "<Figure size 640x480 with 2 Axes>"
      ]
     },
     "metadata": {},
     "output_type": "display_data"
    },
    {
     "data": {
      "text/plain": [
       "array([9], dtype=uint8)"
      ]
     },
     "execution_count": 118,
     "metadata": {},
     "output_type": "execute_result"
    }
   ],
   "source": [
    "index = 50\n",
    "plt.figure()\n",
    "plt.imshow(train_images[10])\n",
    "plt.colorbar()\n",
    "plt.show()\n",
    "\n",
    "train_labels[index]"
   ]
  },
  {
   "cell_type": "markdown",
   "metadata": {
    "id": "Hiaui9iOUJHi"
   },
   "source": [
    "## Exe 7 : Display images and class name\n",
    "\n",
    "To verify that the data is in the correct format and that you're ready to\n",
    "build and train the network, let's display the first 25 images from the training\n",
    "set and display the class name below each image."
   ]
  },
  {
   "cell_type": "code",
   "execution_count": 119,
   "metadata": {
    "id": "8HJTPi3vULkD"
   },
   "outputs": [],
   "source": [
    "class_names = [ 'airplane' , 'automobile' , 'bird' , 'cat' , 'deer' , 'dog' , 'frog' , 'horse' , 'ship' , 'truck']"
   ]
  },
  {
   "cell_type": "code",
   "execution_count": 120,
   "metadata": {
    "colab": {
     "base_uri": "https://localhost:8080/",
     "height": 1000
    },
    "executionInfo": {
     "elapsed": 1874,
     "status": "ok",
     "timestamp": 1687276595843,
     "user": {
      "displayName": "Walid Kheriji",
      "userId": "17231722363260848260"
     },
     "user_tz": -120
    },
    "id": "05yOlft8UWBa",
    "outputId": "729b89e5-1cd3-497d-90f9-a4796e35cf82"
   },
   "outputs": [
    {
     "data": {
      "image/png": "[encoded data removed]",
      "text/plain": [
       "<Figure size 2000x2000 with 25 Axes>"
      ]
     },
     "metadata": {},
     "output_type": "display_data"
    }
   ],
   "source": [
    "plt.figure(figsize=(20,20))\n",
    "for i in range(25):\n",
    "    plt.subplot(5,5,i+1)\n",
    "    plt.xticks([])\n",
    "    plt.yticks([])\n",
    "   # plt.grid(False)\n",
    "    plt.imshow(train_images[i])\n",
    "    plt.xlabel(class_names[train_labels[i][0]])\n",
    "plt.show()"
   ]
  },
  {
   "cell_type": "markdown",
   "metadata": {
    "id": "5TMDlNttUTu5"
   },
   "source": [
    "## Exe 8: Dataset Normalization\n",
    "\n",
    "Normalize the train and test sets using the following code"
   ]
  },
  {
   "cell_type": "code",
   "execution_count": 121,
   "metadata": {
    "id": "fPI6ND4eUesV"
   },
   "outputs": [],
   "source": [
    "train_images_before = train_images\n",
    "test_images_before = test_images"
   ]
  },
  {
   "cell_type": "code",
   "execution_count": 122,
   "metadata": {
    "id": "H88JwUjfUg9S"
   },
   "outputs": [],
   "source": [
    "train_images = train_images / 255.0\n",
    "test_images = test_images / 255.0"
   ]
  },
  {
   "cell_type": "code",
   "execution_count": 123,
   "metadata": {
    "colab": {
     "base_uri": "https://localhost:8080/"
    },
    "executionInfo": {
     "elapsed": 269,
     "status": "ok",
     "timestamp": 1687276786481,
     "user": {
      "displayName": "Walid Kheriji",
      "userId": "17231722363260848260"
     },
     "user_tz": -120
    },
    "id": "v7JiMXwfUkES",
    "outputId": "88332ea6-5ecb-44f6-a50c-15754d3ec9d3"
   },
   "outputs": [
    {
     "data": {
      "text/plain": [
       "array([[[[0.23137255, 0.24313725, 0.24705882],\n",
       "         [0.16862745, 0.18039216, 0.17647059],\n",
       "         [0.19607843, 0.18823529, 0.16862745],\n",
       "         ...,\n",
       "         [0.61960784, 0.51764706, 0.42352941],\n",
       "         [0.59607843, 0.49019608, 0.4       ],\n",
       "         [0.58039216, 0.48627451, 0.40392157]],\n",
       "\n",
       "        [[0.0627451 , 0.07843137, 0.07843137],\n",
       "         [0.        , 0.        , 0.        ],\n",
       "         [0.07058824, 0.03137255, 0.        ],\n",
       "         ...,\n",
       "         [0.48235294, 0.34509804, 0.21568627],\n",
       "         [0.46666667, 0.3254902 , 0.19607843],\n",
       "         [0.47843137, 0.34117647, 0.22352941]],\n",
       "\n",
       "        [[0.09803922, 0.09411765, 0.08235294],\n",
       "         [0.0627451 , 0.02745098, 0.        ],\n",
       "         [0.19215686, 0.10588235, 0.03137255],\n",
       "         ...,\n",
       "         [0.4627451 , 0.32941176, 0.19607843],\n",
       "         [0.47058824, 0.32941176, 0.19607843],\n",
       "         [0.42745098, 0.28627451, 0.16470588]],\n",
       "\n",
       "        ...,\n",
       "\n",
       "        [[0.81568627, 0.66666667, 0.37647059],\n",
       "         [0.78823529, 0.6       , 0.13333333],\n",
       "         [0.77647059, 0.63137255, 0.10196078],\n",
       "         ...,\n",
       "         [0.62745098, 0.52156863, 0.2745098 ],\n",
       "         [0.21960784, 0.12156863, 0.02745098],\n",
       "         [0.20784314, 0.13333333, 0.07843137]],\n",
       "\n",
       "        [[0.70588235, 0.54509804, 0.37647059],\n",
       "         [0.67843137, 0.48235294, 0.16470588],\n",
       "         [0.72941176, 0.56470588, 0.11764706],\n",
       "         ...,\n",
       "         [0.72156863, 0.58039216, 0.36862745],\n",
       "         [0.38039216, 0.24313725, 0.13333333],\n",
       "         [0.3254902 , 0.20784314, 0.13333333]],\n",
       "\n",
       "        [[0.69411765, 0.56470588, 0.45490196],\n",
       "         [0.65882353, 0.50588235, 0.36862745],\n",
       "         [0.70196078, 0.55686275, 0.34117647],\n",
       "         ...,\n",
       "         [0.84705882, 0.72156863, 0.54901961],\n",
       "         [0.59215686, 0.4627451 , 0.32941176],\n",
       "         [0.48235294, 0.36078431, 0.28235294]]],\n",
       "\n",
       "\n",
       "       [[[0.60392157, 0.69411765, 0.73333333],\n",
       "         [0.49411765, 0.5372549 , 0.53333333],\n",
       "         [0.41176471, 0.40784314, 0.37254902],\n",
       "         ...,\n",
       "         [0.35686275, 0.37254902, 0.27843137],\n",
       "         [0.34117647, 0.35294118, 0.27843137],\n",
       "         [0.30980392, 0.31764706, 0.2745098 ]],\n",
       "\n",
       "        [[0.54901961, 0.62745098, 0.6627451 ],\n",
       "         [0.56862745, 0.6       , 0.60392157],\n",
       "         [0.49019608, 0.49019608, 0.4627451 ],\n",
       "         ...,\n",
       "         [0.37647059, 0.38823529, 0.30588235],\n",
       "         [0.30196078, 0.31372549, 0.24313725],\n",
       "         [0.27843137, 0.28627451, 0.23921569]],\n",
       "\n",
       "        [[0.54901961, 0.60784314, 0.64313725],\n",
       "         [0.54509804, 0.57254902, 0.58431373],\n",
       "         [0.45098039, 0.45098039, 0.43921569],\n",
       "         ...,\n",
       "         [0.30980392, 0.32156863, 0.25098039],\n",
       "         [0.26666667, 0.2745098 , 0.21568627],\n",
       "         [0.2627451 , 0.27058824, 0.21568627]],\n",
       "\n",
       "        ...,\n",
       "\n",
       "        [[0.68627451, 0.65490196, 0.65098039],\n",
       "         [0.61176471, 0.60392157, 0.62745098],\n",
       "         [0.60392157, 0.62745098, 0.66666667],\n",
       "         ...,\n",
       "         [0.16470588, 0.13333333, 0.14117647],\n",
       "         [0.23921569, 0.20784314, 0.22352941],\n",
       "         [0.36470588, 0.3254902 , 0.35686275]],\n",
       "\n",
       "        [[0.64705882, 0.60392157, 0.50196078],\n",
       "         [0.61176471, 0.59607843, 0.50980392],\n",
       "         [0.62352941, 0.63137255, 0.55686275],\n",
       "         ...,\n",
       "         [0.40392157, 0.36470588, 0.37647059],\n",
       "         [0.48235294, 0.44705882, 0.47058824],\n",
       "         [0.51372549, 0.4745098 , 0.51372549]],\n",
       "\n",
       "        [[0.63921569, 0.58039216, 0.47058824],\n",
       "         [0.61960784, 0.58039216, 0.47843137],\n",
       "         [0.63921569, 0.61176471, 0.52156863],\n",
       "         ...,\n",
       "         [0.56078431, 0.52156863, 0.54509804],\n",
       "         [0.56078431, 0.5254902 , 0.55686275],\n",
       "         [0.56078431, 0.52156863, 0.56470588]]],\n",
       "\n",
       "\n",
       "       [[[1.        , 1.        , 1.        ],\n",
       "         [0.99215686, 0.99215686, 0.99215686],\n",
       "         [0.99215686, 0.99215686, 0.99215686],\n",
       "         ...,\n",
       "         [0.99215686, 0.99215686, 0.99215686],\n",
       "         [0.99215686, 0.99215686, 0.99215686],\n",
       "         [0.99215686, 0.99215686, 0.99215686]],\n",
       "\n",
       "        [[1.        , 1.        , 1.        ],\n",
       "         [1.        , 1.        , 1.        ],\n",
       "         [1.        , 1.        , 1.        ],\n",
       "         ...,\n",
       "         [1.        , 1.        , 1.        ],\n",
       "         [1.        , 1.        , 1.        ],\n",
       "         [1.        , 1.        , 1.        ]],\n",
       "\n",
       "        [[1.        , 1.        , 1.        ],\n",
       "         [0.99607843, 0.99607843, 0.99607843],\n",
       "         [0.99607843, 0.99607843, 0.99607843],\n",
       "         ...,\n",
       "         [0.99607843, 0.99607843, 0.99607843],\n",
       "         [0.99607843, 0.99607843, 0.99607843],\n",
       "         [0.99607843, 0.99607843, 0.99607843]],\n",
       "\n",
       "        ...,\n",
       "\n",
       "        [[0.44313725, 0.47058824, 0.43921569],\n",
       "         [0.43529412, 0.4627451 , 0.43529412],\n",
       "         [0.41176471, 0.43921569, 0.41568627],\n",
       "         ...,\n",
       "         [0.28235294, 0.31764706, 0.31372549],\n",
       "         [0.28235294, 0.31372549, 0.30980392],\n",
       "         [0.28235294, 0.31372549, 0.30980392]],\n",
       "\n",
       "        [[0.43529412, 0.4627451 , 0.43137255],\n",
       "         [0.40784314, 0.43529412, 0.40784314],\n",
       "         [0.38823529, 0.41568627, 0.38431373],\n",
       "         ...,\n",
       "         [0.26666667, 0.29411765, 0.28627451],\n",
       "         [0.2745098 , 0.29803922, 0.29411765],\n",
       "         [0.30588235, 0.32941176, 0.32156863]],\n",
       "\n",
       "        [[0.41568627, 0.44313725, 0.41176471],\n",
       "         [0.38823529, 0.41568627, 0.38431373],\n",
       "         [0.37254902, 0.4       , 0.36862745],\n",
       "         ...,\n",
       "         [0.30588235, 0.33333333, 0.3254902 ],\n",
       "         [0.30980392, 0.33333333, 0.3254902 ],\n",
       "         [0.31372549, 0.3372549 , 0.32941176]]],\n",
       "\n",
       "\n",
       "       ...,\n",
       "\n",
       "\n",
       "       [[[0.1372549 , 0.69803922, 0.92156863],\n",
       "         [0.15686275, 0.69019608, 0.9372549 ],\n",
       "         [0.16470588, 0.69019608, 0.94509804],\n",
       "         ...,\n",
       "         [0.38823529, 0.69411765, 0.85882353],\n",
       "         [0.30980392, 0.57647059, 0.77254902],\n",
       "         [0.34901961, 0.58039216, 0.74117647]],\n",
       "\n",
       "        [[0.22352941, 0.71372549, 0.91764706],\n",
       "         [0.17254902, 0.72156863, 0.98039216],\n",
       "         [0.19607843, 0.71764706, 0.94117647],\n",
       "         ...,\n",
       "         [0.61176471, 0.71372549, 0.78431373],\n",
       "         [0.55294118, 0.69411765, 0.80784314],\n",
       "         [0.45490196, 0.58431373, 0.68627451]],\n",
       "\n",
       "        [[0.38431373, 0.77254902, 0.92941176],\n",
       "         [0.25098039, 0.74117647, 0.98823529],\n",
       "         [0.27058824, 0.75294118, 0.96078431],\n",
       "         ...,\n",
       "         [0.7372549 , 0.76470588, 0.80784314],\n",
       "         [0.46666667, 0.52941176, 0.57647059],\n",
       "         [0.23921569, 0.30980392, 0.35294118]],\n",
       "\n",
       "        ...,\n",
       "\n",
       "        [[0.28627451, 0.30980392, 0.30196078],\n",
       "         [0.20784314, 0.24705882, 0.26666667],\n",
       "         [0.21176471, 0.26666667, 0.31372549],\n",
       "         ...,\n",
       "         [0.06666667, 0.15686275, 0.25098039],\n",
       "         [0.08235294, 0.14117647, 0.2       ],\n",
       "         [0.12941176, 0.18823529, 0.19215686]],\n",
       "\n",
       "        [[0.23921569, 0.26666667, 0.29411765],\n",
       "         [0.21568627, 0.2745098 , 0.3372549 ],\n",
       "         [0.22352941, 0.30980392, 0.40392157],\n",
       "         ...,\n",
       "         [0.09411765, 0.18823529, 0.28235294],\n",
       "         [0.06666667, 0.1372549 , 0.20784314],\n",
       "         [0.02745098, 0.09019608, 0.1254902 ]],\n",
       "\n",
       "        [[0.17254902, 0.21960784, 0.28627451],\n",
       "         [0.18039216, 0.25882353, 0.34509804],\n",
       "         [0.19215686, 0.30196078, 0.41176471],\n",
       "         ...,\n",
       "         [0.10588235, 0.20392157, 0.30196078],\n",
       "         [0.08235294, 0.16862745, 0.25882353],\n",
       "         [0.04705882, 0.12156863, 0.19607843]]],\n",
       "\n",
       "\n",
       "       [[[0.74117647, 0.82745098, 0.94117647],\n",
       "         [0.72941176, 0.81568627, 0.9254902 ],\n",
       "         [0.7254902 , 0.81176471, 0.92156863],\n",
       "         ...,\n",
       "         [0.68627451, 0.76470588, 0.87843137],\n",
       "         [0.6745098 , 0.76078431, 0.87058824],\n",
       "         [0.6627451 , 0.76078431, 0.8627451 ]],\n",
       "\n",
       "        [[0.76078431, 0.82352941, 0.9372549 ],\n",
       "         [0.74901961, 0.81176471, 0.9254902 ],\n",
       "         [0.74509804, 0.80784314, 0.92156863],\n",
       "         ...,\n",
       "         [0.67843137, 0.75294118, 0.8627451 ],\n",
       "         [0.67058824, 0.74901961, 0.85490196],\n",
       "         [0.65490196, 0.74509804, 0.84705882]],\n",
       "\n",
       "        [[0.81568627, 0.85882353, 0.95686275],\n",
       "         [0.80392157, 0.84705882, 0.94117647],\n",
       "         [0.8       , 0.84313725, 0.9372549 ],\n",
       "         ...,\n",
       "         [0.68627451, 0.74901961, 0.85098039],\n",
       "         [0.6745098 , 0.74509804, 0.84705882],\n",
       "         [0.6627451 , 0.74901961, 0.84313725]],\n",
       "\n",
       "        ...,\n",
       "\n",
       "        [[0.81176471, 0.78039216, 0.70980392],\n",
       "         [0.79607843, 0.76470588, 0.68627451],\n",
       "         [0.79607843, 0.76862745, 0.67843137],\n",
       "         ...,\n",
       "         [0.52941176, 0.51764706, 0.49803922],\n",
       "         [0.63529412, 0.61960784, 0.58823529],\n",
       "         [0.65882353, 0.63921569, 0.59215686]],\n",
       "\n",
       "        [[0.77647059, 0.74509804, 0.66666667],\n",
       "         [0.74117647, 0.70980392, 0.62352941],\n",
       "         [0.70588235, 0.6745098 , 0.57647059],\n",
       "         ...,\n",
       "         [0.69803922, 0.67058824, 0.62745098],\n",
       "         [0.68627451, 0.6627451 , 0.61176471],\n",
       "         [0.68627451, 0.6627451 , 0.60392157]],\n",
       "\n",
       "        [[0.77647059, 0.74117647, 0.67843137],\n",
       "         [0.74117647, 0.70980392, 0.63529412],\n",
       "         [0.69803922, 0.66666667, 0.58431373],\n",
       "         ...,\n",
       "         [0.76470588, 0.72156863, 0.6627451 ],\n",
       "         [0.76862745, 0.74117647, 0.67058824],\n",
       "         [0.76470588, 0.74509804, 0.67058824]]],\n",
       "\n",
       "\n",
       "       [[[0.89803922, 0.89803922, 0.9372549 ],\n",
       "         [0.9254902 , 0.92941176, 0.96862745],\n",
       "         [0.91764706, 0.9254902 , 0.96862745],\n",
       "         ...,\n",
       "         [0.85098039, 0.85882353, 0.91372549],\n",
       "         [0.86666667, 0.8745098 , 0.91764706],\n",
       "         [0.87058824, 0.8745098 , 0.91372549]],\n",
       "\n",
       "        [[0.87058824, 0.86666667, 0.89803922],\n",
       "         [0.9372549 , 0.9372549 , 0.97647059],\n",
       "         [0.91372549, 0.91764706, 0.96470588],\n",
       "         ...,\n",
       "         [0.8745098 , 0.8745098 , 0.9254902 ],\n",
       "         [0.89019608, 0.89411765, 0.93333333],\n",
       "         [0.82352941, 0.82745098, 0.8627451 ]],\n",
       "\n",
       "        [[0.83529412, 0.80784314, 0.82745098],\n",
       "         [0.91764706, 0.90980392, 0.9372549 ],\n",
       "         [0.90588235, 0.91372549, 0.95686275],\n",
       "         ...,\n",
       "         [0.8627451 , 0.8627451 , 0.90980392],\n",
       "         [0.8627451 , 0.85882353, 0.90980392],\n",
       "         [0.79215686, 0.79607843, 0.84313725]],\n",
       "\n",
       "        ...,\n",
       "\n",
       "        [[0.58823529, 0.56078431, 0.52941176],\n",
       "         [0.54901961, 0.52941176, 0.49803922],\n",
       "         [0.51764706, 0.49803922, 0.47058824],\n",
       "         ...,\n",
       "         [0.87843137, 0.87058824, 0.85490196],\n",
       "         [0.90196078, 0.89411765, 0.88235294],\n",
       "         [0.94509804, 0.94509804, 0.93333333]],\n",
       "\n",
       "        [[0.5372549 , 0.51764706, 0.49411765],\n",
       "         [0.50980392, 0.49803922, 0.47058824],\n",
       "         [0.49019608, 0.4745098 , 0.45098039],\n",
       "         ...,\n",
       "         [0.70980392, 0.70588235, 0.69803922],\n",
       "         [0.79215686, 0.78823529, 0.77647059],\n",
       "         [0.83137255, 0.82745098, 0.81176471]],\n",
       "\n",
       "        [[0.47843137, 0.46666667, 0.44705882],\n",
       "         [0.4627451 , 0.45490196, 0.43137255],\n",
       "         [0.47058824, 0.45490196, 0.43529412],\n",
       "         ...,\n",
       "         [0.70196078, 0.69411765, 0.67843137],\n",
       "         [0.64313725, 0.64313725, 0.63529412],\n",
       "         [0.63921569, 0.63921569, 0.63137255]]]])"
      ]
     },
     "execution_count": 123,
     "metadata": {},
     "output_type": "execute_result"
    }
   ],
   "source": [
    "train_images"
   ]
  },
  {
   "cell_type": "markdown",
   "metadata": {
    "id": "n3byMSmNUos5"
   },
   "source": [
    "## Exo 9: Model\n",
    "\n",
    "Build a neural network with the following structure:\n",
    "\n",
    "\n",
    "1.   The first layer should be a **Flatten** layer that transforms the format of the images from a two-dimensional array (32 by 32 pixels) to a one-dimensional array (1024 pixels). This layer simply unstacks the rows of pixels in the image and lines them up. It has no parameters to learn and only reformats the data.\n",
    "\n",
    "2.   After the pixels are flattened, the network should consist of two **Dense** layers. The first **Dense** layer should have 128 neurons.\n",
    "\n",
    "3.   The second (and last) layer should be a **softmax** layer with 10 neurons, which returns an array of 10 probability scores that sum to 1. Each neuron contains a score indicating the probability that the current image belongs to one of the 10 classes."
   ]
  },
  {
   "cell_type": "code",
   "execution_count": 124,
   "metadata": {
    "id": "4QuOBz6vUsvH"
   },
   "outputs": [
    {
     "name": "stderr",
     "output_type": "stream",
     "text": [
      "c:\\Users\\auria\\AppData\\Local\\Programs\\Python\\Python312\\Lib\\site-packages\\keras\\src\\layers\\reshaping\\flatten.py:37: UserWarning: Do not pass an `input_shape`/`input_dim` argument to a layer. When using Sequential models, prefer using an `Input(shape)` object as the first layer in the model instead.\n",
      "  super().__init__(**kwargs)\n"
     ]
    }
   ],
   "source": [
    "model = keras.Sequential([\n",
    "    keras.layers.Flatten(input_shape=(32, 32, 3)),\n",
    "    keras.layers.Dense(128, activation='relu'),\n",
    "    keras.layers.Dense(10, activation='softmax')\n",
    "])"
   ]
  },
  {
   "cell_type": "markdown",
   "metadata": {
    "id": "I6nx9weiU4Zp"
   },
   "source": [
    "## Exe 10: Train the model\n",
    "\n",
    "Compile the model using the appropriate optimizer, loss function, and metrics. Set the optimizer to 'adam', the loss function to 'sparse_categorical_crossentropy', and the metric to 'accuracy'.\n",
    "\n",
    "Train the model, using the fit method on the model object. Pass in the train_images as the training data and train_labels as the corresponding labels."
   ]
  },
  {
   "cell_type": "code",
   "execution_count": 125,
   "metadata": {
    "id": "qU6jh_NpU5T_"
   },
   "outputs": [],
   "source": [
    "model.compile(optimizer='adam',\n",
    "              loss='sparse_categorical_crossentropy',\n",
    "              metrics=['accuracy'])"
   ]
  },
  {
   "cell_type": "code",
   "execution_count": 126,
   "metadata": {
    "colab": {
     "base_uri": "https://localhost:8080/"
    },
    "executionInfo": {
     "elapsed": 145025,
     "status": "ok",
     "timestamp": 1687277271470,
     "user": {
      "displayName": "Walid Kheriji",
      "userId": "17231722363260848260"
     },
     "user_tz": -120
    },
    "id": "f9jDzezRVCVv",
    "outputId": "9fa461b9-bc13-4d71-f117-bdae679ec84d"
   },
   "outputs": [
    {
     "name": "stdout",
     "output_type": "stream",
     "text": [
      "Epoch 1/10\n",
      "\u001b[1m1563/1563\u001b[0m \u001b[32m━━━━━━━━━━━━━━━━━━━━\u001b[0m\u001b[37m\u001b[0m \u001b[1m4s\u001b[0m 2ms/step - accuracy: 0.2799 - loss: 2.0076\n",
      "Epoch 2/10\n",
      "\u001b[1m1563/1563\u001b[0m \u001b[32m━━━━━━━━━━━━━━━━━━━━\u001b[0m\u001b[37m\u001b[0m \u001b[1m4s\u001b[0m 2ms/step - accuracy: 0.3734 - loss: 1.7452\n",
      "Epoch 3/10\n",
      "\u001b[1m1563/1563\u001b[0m \u001b[32m━━━━━━━━━━━━━━━━━━━━\u001b[0m\u001b[37m\u001b[0m \u001b[1m4s\u001b[0m 2ms/step - accuracy: 0.3933 - loss: 1.6915\n",
      "Epoch 4/10\n",
      "\u001b[1m1563/1563\u001b[0m \u001b[32m━━━━━━━━━━━━━━━━━━━━\u001b[0m\u001b[37m\u001b[0m \u001b[1m4s\u001b[0m 2ms/step - accuracy: 0.4047 - loss: 1.6599\n",
      "Epoch 5/10\n",
      "\u001b[1m1563/1563\u001b[0m \u001b[32m━━━━━━━━━━━━━━━━━━━━\u001b[0m\u001b[37m\u001b[0m \u001b[1m4s\u001b[0m 2ms/step - accuracy: 0.4138 - loss: 1.6395\n",
      "Epoch 6/10\n",
      "\u001b[1m1563/1563\u001b[0m \u001b[32m━━━━━━━━━━━━━━━━━━━━\u001b[0m\u001b[37m\u001b[0m \u001b[1m4s\u001b[0m 2ms/step - accuracy: 0.4251 - loss: 1.6102\n",
      "Epoch 7/10\n",
      "\u001b[1m1563/1563\u001b[0m \u001b[32m━━━━━━━━━━━━━━━━━━━━\u001b[0m\u001b[37m\u001b[0m \u001b[1m4s\u001b[0m 2ms/step - accuracy: 0.4218 - loss: 1.6125\n",
      "Epoch 8/10\n",
      "\u001b[1m1563/1563\u001b[0m \u001b[32m━━━━━━━━━━━━━━━━━━━━\u001b[0m\u001b[37m\u001b[0m \u001b[1m4s\u001b[0m 2ms/step - accuracy: 0.4331 - loss: 1.5924\n",
      "Epoch 9/10\n",
      "\u001b[1m1563/1563\u001b[0m \u001b[32m━━━━━━━━━━━━━━━━━━━━\u001b[0m\u001b[37m\u001b[0m \u001b[1m4s\u001b[0m 2ms/step - accuracy: 0.4356 - loss: 1.5774\n",
      "Epoch 10/10\n",
      "\u001b[1m1563/1563\u001b[0m \u001b[32m━━━━━━━━━━━━━━━━━━━━\u001b[0m\u001b[37m\u001b[0m \u001b[1m4s\u001b[0m 2ms/step - accuracy: 0.4390 - loss: 1.5729\n"
     ]
    },
    {
     "data": {
      "text/plain": [
       "<keras.src.callbacks.history.History at 0x273b932e960>"
      ]
     },
     "execution_count": 126,
     "metadata": {},
     "output_type": "execute_result"
    }
   ],
   "source": [
    "model.fit(train_images, train_labels, epochs=10)"
   ]
  },
  {
   "cell_type": "markdown",
   "metadata": {
    "id": "IHZX17lKVTg6"
   },
   "source": [
    "## Exe 11: Evaluate the model\n",
    "\n",
    "Chek the model performance on the test dataset."
   ]
  },
  {
   "cell_type": "code",
   "execution_count": 127,
   "metadata": {
    "colab": {
     "base_uri": "https://localhost:8080/"
    },
    "executionInfo": {
     "elapsed": 1548,
     "status": "ok",
     "timestamp": 1687277295884,
     "user": {
      "displayName": "Walid Kheriji",
      "userId": "17231722363260848260"
     },
     "user_tz": -120
    },
    "id": "NJelBNIzVY1o",
    "outputId": "dacb8137-25fc-4d78-facb-fb2517f127b1"
   },
   "outputs": [
    {
     "name": "stdout",
     "output_type": "stream",
     "text": [
      "313/313 - 0s - 1ms/step - accuracy: 0.4255 - loss: 1.5947\n",
      "\n",
      "Test accuracy: 0.4255000054836273\n"
     ]
    }
   ],
   "source": [
    "test_loss, test_acc = model.evaluate(test_images,  test_labels, verbose=2)\n",
    "\n",
    "print('\\nTest accuracy:', test_acc)"
   ]
  },
  {
   "cell_type": "markdown",
   "metadata": {
    "id": "LbTek6WTVaNg"
   },
   "source": [
    "## Exo12\n",
    "\n",
    "Now that the model has been trained, we can use it to make predictions on some images.\n",
    "\n",
    "1.  Use the trained model to make predictions on the test_images dataset by calling model.predict(test_images). This will generate predictions for each image in the testing set.\n",
    "\n",
    "2. Print the first, second, and third element of the predicted test set. Each element contains 10 values representing the probability of each label.\n",
    "\n",
    "3. After printing the predicted test set, use the np.argmax() function to choose the label with the highest probability for each element.\n",
    "\n",
    "4. Compare the predicted label for the first three elements with their actual labels. How many of them are correct?"
   ]
  },
  {
   "cell_type": "code",
   "execution_count": 128,
   "metadata": {
    "colab": {
     "base_uri": "https://localhost:8080/"
    },
    "executionInfo": {
     "elapsed": 1778,
     "status": "ok",
     "timestamp": 1687277432566,
     "user": {
      "displayName": "Walid Kheriji",
      "userId": "17231722363260848260"
     },
     "user_tz": -120
    },
    "id": "o-ycSqmMVnci",
    "outputId": "9ad7fb36-5f38-4fa4-d906-988282b112f8"
   },
   "outputs": [
    {
     "name": "stdout",
     "output_type": "stream",
     "text": [
      "\u001b[1m313/313\u001b[0m \u001b[32m━━━━━━━━━━━━━━━━━━━━\u001b[0m\u001b[37m\u001b[0m \u001b[1m0s\u001b[0m 834us/step\n"
     ]
    }
   ],
   "source": [
    "predictions = model.predict(test_images)"
   ]
  },
  {
   "cell_type": "code",
   "execution_count": 129,
   "metadata": {
    "colab": {
     "base_uri": "https://localhost:8080/"
    },
    "executionInfo": {
     "elapsed": 6,
     "status": "ok",
     "timestamp": 1687277433546,
     "user": {
      "displayName": "Walid Kheriji",
      "userId": "17231722363260848260"
     },
     "user_tz": -120
    },
    "id": "bott6dprVqsL",
    "outputId": "d5d9c2f3-6029-41ee-939d-cc1f09d7684d"
   },
   "outputs": [
    {
     "data": {
      "text/plain": [
       "array([0.32452133, 0.00747876, 0.06379138, 0.01299613, 0.03339465,\n",
       "       0.00634923, 0.0057251 , 0.00107499, 0.5371914 , 0.00747699],\n",
       "      dtype=float32)"
      ]
     },
     "execution_count": 129,
     "metadata": {},
     "output_type": "execute_result"
    }
   ],
   "source": [
    "predictions[10]"
   ]
  },
  {
   "cell_type": "code",
   "execution_count": 130,
   "metadata": {
    "colab": {
     "base_uri": "https://localhost:8080/"
    },
    "executionInfo": {
     "elapsed": 256,
     "status": "ok",
     "timestamp": 1687277506386,
     "user": {
      "displayName": "Walid Kheriji",
      "userId": "17231722363260848260"
     },
     "user_tz": -120
    },
    "id": "8KZ6ieyMVyyb",
    "outputId": "84ba70db-a6d6-4973-867e-d1e79fb6df41"
   },
   "outputs": [
    {
     "data": {
      "text/plain": [
       "np.int64(8)"
      ]
     },
     "execution_count": 130,
     "metadata": {},
     "output_type": "execute_result"
    }
   ],
   "source": [
    "np.argmax(predictions[10])"
   ]
  },
  {
   "cell_type": "code",
   "execution_count": 131,
   "metadata": {
    "colab": {
     "base_uri": "https://localhost:8080/"
    },
    "executionInfo": {
     "elapsed": 211,
     "status": "ok",
     "timestamp": 1687277538683,
     "user": {
      "displayName": "Walid Kheriji",
      "userId": "17231722363260848260"
     },
     "user_tz": -120
    },
    "id": "mQPxi44EV1Ps",
    "outputId": "8e61dfab-681e-40dc-a185-807f212dbe4e"
   },
   "outputs": [
    {
     "data": {
      "text/plain": [
       "array([0], dtype=uint8)"
      ]
     },
     "execution_count": 131,
     "metadata": {},
     "output_type": "execute_result"
    }
   ],
   "source": [
    "test_labels[10]"
   ]
  },
  {
   "cell_type": "markdown",
   "metadata": {
    "id": "pGA_52v_V4ZL"
   },
   "source": [
    "## Exe13 :  Checking Predicted Labels\n",
    "\n",
    "Now, let's write a function to check the predicted labels and visualize the results. The function should display the predicted labels similar to the above Figure, indicating the probability of the predicted label. If the prediction is correct, the label should be displayed in blue, otherwise in red."
   ]
  },
  {
   "cell_type": "code",
   "execution_count": 132,
   "metadata": {
    "id": "BAb9tMhjV6IJ"
   },
   "outputs": [],
   "source": [
    "def plot_image(i, predictions_array, true_label, img):\n",
    "\n",
    "  true_label = true_label[0]\n",
    "  plt.xticks([])\n",
    "  plt.yticks([])\n",
    "  plt.imshow(img)\n",
    "  predicted_label = np.argmax(predictions_array)\n",
    "  if predicted_label == true_label:\n",
    "    color = 'blue'\n",
    "  else:\n",
    "    color = 'red'\n",
    "\n",
    "  plt.xlabel(\"{} {:2.0f}% ({})\".format(class_names[predicted_label],\n",
    "                                100*np.max(predictions_array),\n",
    "                                class_names[true_label]),\n",
    "                                color=color)"
   ]
  },
  {
   "cell_type": "code",
   "execution_count": 133,
   "metadata": {
    "id": "mno_VQAoV-N7"
   },
   "outputs": [],
   "source": [
    "class_names = [ 'airplane' , 'automobile' , 'bird' , 'cat' , 'deer' , 'dog' , 'frog' , 'horse' , 'ship' , 'truck']"
   ]
  },
  {
   "cell_type": "code",
   "execution_count": 134,
   "metadata": {
    "colab": {
     "base_uri": "https://localhost:8080/",
     "height": 342
    },
    "executionInfo": {
     "elapsed": 454,
     "status": "ok",
     "timestamp": 1687277751734,
     "user": {
      "displayName": "Walid Kheriji",
      "userId": "17231722363260848260"
     },
     "user_tz": -120
    },
    "id": "33p62VQEWAf2",
    "outputId": "e36f092d-70c6-4f6c-c6fc-2db2b101c41b"
   },
   "outputs": [
    {
     "data": {
      "image/png": "[encoded data removed]",
      "text/plain": [
       "<Figure size 600x300 with 1 Axes>"
      ]
     },
     "metadata": {},
     "output_type": "display_data"
    },
    {
     "data": {
      "text/plain": [
       "array([1.0344813e-01, 2.9450353e-02, 5.6494870e-03, 1.1214306e-02,\n",
       "       1.0828438e-03, 3.4692874e-03, 1.3189604e-04, 6.8181646e-03,\n",
       "       1.4168588e-02, 8.2456696e-01], dtype=float32)"
      ]
     },
     "execution_count": 134,
     "metadata": {},
     "output_type": "execute_result"
    }
   ],
   "source": [
    "i = 50\n",
    "plt.figure(figsize=(6,3))\n",
    "plot_image(i, predictions[i], test_labels[i], test_images[i])\n",
    "plt.show()  \n",
    "predictions[i]"
   ]
  },
  {
   "cell_type": "markdown",
   "metadata": {
    "id": "4ODJiuu3u4JE"
   },
   "source": [
    "# Homework Assignment: Deep Neural Network Classification with Fashion MNIST\n",
    "\n",
    "Redo the classification part, this time utilizing the Fashion MNIST dataset and a DNN model with three Dense layers. The first and second Dense layers should have 128 neurons each. Additionally, incorporate the following specifications:\n",
    "\n",
    "* Apply dropout after each hidden layer with a dropout rate of 0.25 (25% of neurons dropped randomly for the subsequent layer).\n",
    "*  Set the batch size to 512.\n",
    "*  Implement early stopping while fitting the model with a patience value of 20 and a maximum number of epochs set to 200.\n",
    "*  Save the best model as 'model_best'.\n",
    "*  Evaluate the saved model on the test data.\n",
    "\n",
    "**For the submission of your work, please submit your completed assignment in HTML format.**\n",
    "\n"
   ]
  },
  {
   "cell_type": "markdown",
   "metadata": {},
   "source": [
    "### Load Fashion MNIST dataset"
   ]
  },
  {
   "cell_type": "code",
   "execution_count": 164,
   "metadata": {},
   "outputs": [],
   "source": [
    "fashion_mnist_data = keras.datasets.fashion_mnist\n",
    "fashion_mnist = fashion_mnist_data.load_data()"
   ]
  },
  {
   "cell_type": "code",
   "execution_count": 165,
   "metadata": {},
   "outputs": [
    {
     "data": {
      "text/plain": [
       "tuple"
      ]
     },
     "execution_count": 165,
     "metadata": {},
     "output_type": "execute_result"
    }
   ],
   "source": [
    "type(fashion_mnist)"
   ]
  },
  {
   "cell_type": "code",
   "execution_count": 166,
   "metadata": {},
   "outputs": [
    {
     "data": {
      "text/plain": [
       "2"
      ]
     },
     "execution_count": 166,
     "metadata": {},
     "output_type": "execute_result"
    }
   ],
   "source": [
    "len(fashion_mnist)"
   ]
  },
  {
   "cell_type": "code",
   "execution_count": 167,
   "metadata": {},
   "outputs": [
    {
     "name": "stdout",
     "output_type": "stream",
     "text": [
      "[[  0   0   0   0   0   0   0   0   0   0   0   0   0   0   0   0   0   0\n",
      "    0   0   0   0   0   0   0   0   0   0]\n",
      " [  0   0   0   0   0   0   0   0   0   0   0   0   0   0   0   0   0   0\n",
      "    0   0   0   0   0   0   0   0   0   0]\n",
      " [  0   0   0   0   0   0   0   0   0   0   0   0   0   0   0   0   0   0\n",
      "    0   0   0   0   0   0   0   0   0   0]\n",
      " [  0   0   0   0   0   0   0   0   0   0   0   0   1   0   0  13  73   0\n",
      "    0   1   4   0   0   0   0   1   1   0]\n",
      " [  0   0   0   0   0   0   0   0   0   0   0   0   3   0  36 136 127  62\n",
      "   54   0   0   0   1   3   4   0   0   3]\n",
      " [  0   0   0   0   0   0   0   0   0   0   0   0   6   0 102 204 176 134\n",
      "  144 123  23   0   0   0   0  12  10   0]\n",
      " [  0   0   0   0   0   0   0   0   0   0   0   0   0   0 155 236 207 178\n",
      "  107 156 161 109  64  23  77 130  72  15]\n",
      " [  0   0   0   0   0   0   0   0   0   0   0   1   0  69 207 223 218 216\n",
      "  216 163 127 121 122 146 141  88 172  66]\n",
      " [  0   0   0   0   0   0   0   0   0   1   1   1   0 200 232 232 233 229\n",
      "  223 223 215 213 164 127 123 196 229   0]\n",
      " [  0   0   0   0   0   0   0   0   0   0   0   0   0 183 225 216 223 228\n",
      "  235 227 224 222 224 221 223 245 173   0]\n",
      " [  0   0   0   0   0   0   0   0   0   0   0   0   0 193 228 218 213 198\n",
      "  180 212 210 211 213 223 220 243 202   0]\n",
      " [  0   0   0   0   0   0   0   0   0   1   3   0  12 219 220 212 218 192\n",
      "  169 227 208 218 224 212 226 197 209  52]\n",
      " [  0   0   0   0   0   0   0   0   0   0   6   0  99 244 222 220 218 203\n",
      "  198 221 215 213 222 220 245 119 167  56]\n",
      " [  0   0   0   0   0   0   0   0   0   4   0   0  55 236 228 230 228 240\n",
      "  232 213 218 223 234 217 217 209  92   0]\n",
      " [  0   0   1   4   6   7   2   0   0   0   0   0 237 226 217 223 222 219\n",
      "  222 221 216 223 229 215 218 255  77   0]\n",
      " [  0   3   0   0   0   0   0   0   0  62 145 204 228 207 213 221 218 208\n",
      "  211 218 224 223 219 215 224 244 159   0]\n",
      " [  0   0   0   0  18  44  82 107 189 228 220 222 217 226 200 205 211 230\n",
      "  224 234 176 188 250 248 233 238 215   0]\n",
      " [  0  57 187 208 224 221 224 208 204 214 208 209 200 159 245 193 206 223\n",
      "  255 255 221 234 221 211 220 232 246   0]\n",
      " [  3 202 228 224 221 211 211 214 205 205 205 220 240  80 150 255 229 221\n",
      "  188 154 191 210 204 209 222 228 225   0]\n",
      " [ 98 233 198 210 222 229 229 234 249 220 194 215 217 241  65  73 106 117\n",
      "  168 219 221 215 217 223 223 224 229  29]\n",
      " [ 75 204 212 204 193 205 211 225 216 185 197 206 198 213 240 195 227 245\n",
      "  239 223 218 212 209 222 220 221 230  67]\n",
      " [ 48 203 183 194 213 197 185 190 194 192 202 214 219 221 220 236 225 216\n",
      "  199 206 186 181 177 172 181 205 206 115]\n",
      " [  0 122 219 193 179 171 183 196 204 210 213 207 211 210 200 196 194 191\n",
      "  195 191 198 192 176 156 167 177 210  92]\n",
      " [  0   0  74 189 212 191 175 172 175 181 185 188 189 188 193 198 204 209\n",
      "  210 210 211 188 188 194 192 216 170   0]\n",
      " [  2   0   0   0  66 200 222 237 239 242 246 243 244 221 220 193 191 179\n",
      "  182 182 181 176 166 168  99  58   0   0]\n",
      " [  0   0   0   0   0   0   0  40  61  44  72  41  35   0   0   0   0   0\n",
      "    0   0   0   0   0   0   0   0   0   0]\n",
      " [  0   0   0   0   0   0   0   0   0   0   0   0   0   0   0   0   0   0\n",
      "    0   0   0   0   0   0   0   0   0   0]\n",
      " [  0   0   0   0   0   0   0   0   0   0   0   0   0   0   0   0   0   0\n",
      "    0   0   0   0   0   0   0   0   0   0]]\n",
      "(28, 28)\n"
     ]
    }
   ],
   "source": [
    "(train_images, train_labels),(test_images, test_labels) = fashion_mnist\n",
    "print (train_images[0])\n",
    "print (train_images[0].shape )"
   ]
  },
  {
   "cell_type": "code",
   "execution_count": 168,
   "metadata": {},
   "outputs": [
    {
     "data": {
      "text/plain": [
       "array([0, 1, 2, 3, 4, 5, 6, 7, 8, 9], dtype=uint8)"
      ]
     },
     "execution_count": 168,
     "metadata": {},
     "output_type": "execute_result"
    }
   ],
   "source": [
    "np.unique(train_labels)"
   ]
  },
  {
   "cell_type": "code",
   "execution_count": 169,
   "metadata": {},
   "outputs": [
    {
     "name": "stdout",
     "output_type": "stream",
     "text": [
      "train_images shape :  (60000, 28, 28)\n",
      "train_labels size 60000\n",
      "train_labels [9 0 0 ... 3 0 5]\n",
      "test_images shape :  (10000, 28, 28)\n",
      "test_labels [9 2 1 ... 8 1 5]\n"
     ]
    }
   ],
   "source": [
    "print(\"train_images shape : \",train_images.shape)\n",
    "\n",
    "print(\"train_labels size\", len(train_labels))\n",
    "\n",
    "print(\"train_labels\",train_labels)\n",
    "\n",
    "print(\"test_images shape : \",test_images.shape)\n",
    "\n",
    "print(\"test_labels\",test_labels)"
   ]
  },
  {
   "cell_type": "code",
   "execution_count": 170,
   "metadata": {},
   "outputs": [
    {
     "data": {
      "image/png": "[encoded data removed]",
      "text/plain": [
       "<Figure size 640x480 with 2 Axes>"
      ]
     },
     "metadata": {},
     "output_type": "display_data"
    },
    {
     "data": {
      "text/plain": [
       "np.uint8(3)"
      ]
     },
     "execution_count": 170,
     "metadata": {},
     "output_type": "execute_result"
    }
   ],
   "source": [
    "index = 50\n",
    "plt.figure()\n",
    "plt.imshow(train_images[10])\n",
    "plt.colorbar()\n",
    "plt.show()\n",
    "\n",
    "train_labels[index]"
   ]
  },
  {
   "cell_type": "code",
   "execution_count": 171,
   "metadata": {},
   "outputs": [],
   "source": [
    "class_names = ['T-shirt/top', 'Trouser', 'Pullover', 'Dress', 'Coat', 'Sandal', 'Shirt', 'Sneaker', 'Bag', 'Ankle boot']"
   ]
  },
  {
   "cell_type": "code",
   "execution_count": 172,
   "metadata": {},
   "outputs": [
    {
     "data": {
      "image/png": "[encoded data removed]",
      "text/plain": [
       "<Figure size 2000x2000 with 25 Axes>"
      ]
     },
     "metadata": {},
     "output_type": "display_data"
    }
   ],
   "source": [
    "plt.figure(figsize=(20,20))\n",
    "for i in range(25):\n",
    "    plt.subplot(5,5,i+1)\n",
    "    plt.xticks([])\n",
    "    plt.yticks([])\n",
    "   # plt.   grid(False)\n",
    "    plt.imshow(train_images[i])\n",
    "    plt.xlabel(class_names[train_labels[i]])\n",
    "plt.show()"
   ]
  },
  {
   "cell_type": "code",
   "execution_count": 173,
   "metadata": {},
   "outputs": [],
   "source": [
    "train_images_before = train_images\n",
    "test_images_before = test_images"
   ]
  },
  {
   "cell_type": "code",
   "execution_count": 174,
   "metadata": {},
   "outputs": [],
   "source": [
    "train_images = train_images / 255.0\n",
    "test_images = test_images / 255.0"
   ]
  },
  {
   "cell_type": "code",
   "execution_count": 175,
   "metadata": {},
   "outputs": [
    {
     "data": {
      "text/plain": [
       "array([[[0., 0., 0., ..., 0., 0., 0.],\n",
       "        [0., 0., 0., ..., 0., 0., 0.],\n",
       "        [0., 0., 0., ..., 0., 0., 0.],\n",
       "        ...,\n",
       "        [0., 0., 0., ..., 0., 0., 0.],\n",
       "        [0., 0., 0., ..., 0., 0., 0.],\n",
       "        [0., 0., 0., ..., 0., 0., 0.]],\n",
       "\n",
       "       [[0., 0., 0., ..., 0., 0., 0.],\n",
       "        [0., 0., 0., ..., 0., 0., 0.],\n",
       "        [0., 0., 0., ..., 0., 0., 0.],\n",
       "        ...,\n",
       "        [0., 0., 0., ..., 0., 0., 0.],\n",
       "        [0., 0., 0., ..., 0., 0., 0.],\n",
       "        [0., 0., 0., ..., 0., 0., 0.]],\n",
       "\n",
       "       [[0., 0., 0., ..., 0., 0., 0.],\n",
       "        [0., 0., 0., ..., 0., 0., 0.],\n",
       "        [0., 0., 0., ..., 0., 0., 0.],\n",
       "        ...,\n",
       "        [0., 0., 0., ..., 0., 0., 0.],\n",
       "        [0., 0., 0., ..., 0., 0., 0.],\n",
       "        [0., 0., 0., ..., 0., 0., 0.]],\n",
       "\n",
       "       ...,\n",
       "\n",
       "       [[0., 0., 0., ..., 0., 0., 0.],\n",
       "        [0., 0., 0., ..., 0., 0., 0.],\n",
       "        [0., 0., 0., ..., 0., 0., 0.],\n",
       "        ...,\n",
       "        [0., 0., 0., ..., 0., 0., 0.],\n",
       "        [0., 0., 0., ..., 0., 0., 0.],\n",
       "        [0., 0., 0., ..., 0., 0., 0.]],\n",
       "\n",
       "       [[0., 0., 0., ..., 0., 0., 0.],\n",
       "        [0., 0., 0., ..., 0., 0., 0.],\n",
       "        [0., 0., 0., ..., 0., 0., 0.],\n",
       "        ...,\n",
       "        [0., 0., 0., ..., 0., 0., 0.],\n",
       "        [0., 0., 0., ..., 0., 0., 0.],\n",
       "        [0., 0., 0., ..., 0., 0., 0.]],\n",
       "\n",
       "       [[0., 0., 0., ..., 0., 0., 0.],\n",
       "        [0., 0., 0., ..., 0., 0., 0.],\n",
       "        [0., 0., 0., ..., 0., 0., 0.],\n",
       "        ...,\n",
       "        [0., 0., 0., ..., 0., 0., 0.],\n",
       "        [0., 0., 0., ..., 0., 0., 0.],\n",
       "        [0., 0., 0., ..., 0., 0., 0.]]])"
      ]
     },
     "execution_count": 175,
     "metadata": {},
     "output_type": "execute_result"
    }
   ],
   "source": [
    "train_images"
   ]
  },
  {
   "cell_type": "code",
   "execution_count": 185,
   "metadata": {},
   "outputs": [],
   "source": [
    "model = keras.Sequential([\n",
    "    keras.layers.Flatten(input_shape=(28,28,1)),\n",
    "    keras.layers.Dense(128, activation='relu'),\n",
    "    Dropout(0.25),\n",
    "    keras.layers.Dense(128, activation='relu'),\n",
    "    Dropout(0.25),\n",
    "    keras.layers.Dense(128, activation='relu'),\n",
    "    Dropout(0.25),\n",
    "    keras.layers.Dense(10, activation='softmax')\n",
    "])"
   ]
  },
  {
   "cell_type": "code",
   "execution_count": 186,
   "metadata": {},
   "outputs": [],
   "source": [
    "model.compile(optimizer='adam',\n",
    "              loss='sparse_categorical_crossentropy',\n",
    "              metrics=['accuracy'])"
   ]
  },
  {
   "cell_type": "code",
   "execution_count": 189,
   "metadata": {},
   "outputs": [
    {
     "name": "stdout",
     "output_type": "stream",
     "text": [
      "Epoch 1/200\n",
      "\u001b[1m118/118\u001b[0m \u001b[32m━━━━━━━━━━━━━━━━━━━━\u001b[0m\u001b[37m\u001b[0m \u001b[1m1s\u001b[0m 5ms/step - accuracy: 0.8980 - loss: 0.2767\n",
      "Epoch 2/200\n",
      "\u001b[1m118/118\u001b[0m \u001b[32m━━━━━━━━━━━━━━━━━━━━\u001b[0m\u001b[37m\u001b[0m \u001b[1m1s\u001b[0m 5ms/step - accuracy: 0.8989 - loss: 0.2693\n",
      "Epoch 3/200\n",
      "\u001b[1m118/118\u001b[0m \u001b[32m━━━━━━━━━━━━━━━━━━━━\u001b[0m\u001b[37m\u001b[0m \u001b[1m1s\u001b[0m 5ms/step - accuracy: 0.9000 - loss: 0.2688\n",
      "Epoch 4/200\n",
      "\u001b[1m118/118\u001b[0m \u001b[32m━━━━━━━━━━━━━━━━━━━━\u001b[0m\u001b[37m\u001b[0m \u001b[1m1s\u001b[0m 4ms/step - accuracy: 0.9023 - loss: 0.2651\n",
      "Epoch 5/200\n",
      "\u001b[1m118/118\u001b[0m \u001b[32m━━━━━━━━━━━━━━━━━━━━\u001b[0m\u001b[37m\u001b[0m \u001b[1m1s\u001b[0m 5ms/step - accuracy: 0.9026 - loss: 0.2609\n",
      "Epoch 6/200\n",
      "\u001b[1m118/118\u001b[0m \u001b[32m━━━━━━━━━━━━━━━━━━━━\u001b[0m\u001b[37m\u001b[0m \u001b[1m1s\u001b[0m 5ms/step - accuracy: 0.9017 - loss: 0.2636\n",
      "Epoch 7/200\n",
      "\u001b[1m118/118\u001b[0m \u001b[32m━━━━━━━━━━━━━━━━━━━━\u001b[0m\u001b[37m\u001b[0m \u001b[1m1s\u001b[0m 5ms/step - accuracy: 0.9052 - loss: 0.2599\n",
      "Epoch 8/200\n",
      "\u001b[1m118/118\u001b[0m \u001b[32m━━━━━━━━━━━━━━━━━━━━\u001b[0m\u001b[37m\u001b[0m \u001b[1m1s\u001b[0m 4ms/step - accuracy: 0.9016 - loss: 0.2628\n",
      "Epoch 9/200\n",
      "\u001b[1m118/118\u001b[0m \u001b[32m━━━━━━━━━━━━━━━━━━━━\u001b[0m\u001b[37m\u001b[0m \u001b[1m1s\u001b[0m 5ms/step - accuracy: 0.9053 - loss: 0.2582\n",
      "Epoch 10/200\n",
      "\u001b[1m118/118\u001b[0m \u001b[32m━━━━━━━━━━━━━━━━━━━━\u001b[0m\u001b[37m\u001b[0m \u001b[1m1s\u001b[0m 5ms/step - accuracy: 0.9078 - loss: 0.2485\n",
      "Epoch 11/200\n",
      "\u001b[1m118/118\u001b[0m \u001b[32m━━━━━━━━━━━━━━━━━━━━\u001b[0m\u001b[37m\u001b[0m \u001b[1m1s\u001b[0m 4ms/step - accuracy: 0.9070 - loss: 0.2478\n",
      "Epoch 12/200\n",
      "\u001b[1m118/118\u001b[0m \u001b[32m━━━━━━━━━━━━━━━━━━━━\u001b[0m\u001b[37m\u001b[0m \u001b[1m1s\u001b[0m 5ms/step - accuracy: 0.9087 - loss: 0.2478\n",
      "Epoch 13/200\n",
      "\u001b[1m118/118\u001b[0m \u001b[32m━━━━━━━━━━━━━━━━━━━━\u001b[0m\u001b[37m\u001b[0m \u001b[1m1s\u001b[0m 5ms/step - accuracy: 0.9100 - loss: 0.2410\n",
      "Epoch 14/200\n",
      "\u001b[1m118/118\u001b[0m \u001b[32m━━━━━━━━━━━━━━━━━━━━\u001b[0m\u001b[37m\u001b[0m \u001b[1m1s\u001b[0m 5ms/step - accuracy: 0.9094 - loss: 0.2420\n",
      "Epoch 15/200\n",
      "\u001b[1m118/118\u001b[0m \u001b[32m━━━━━━━━━━━━━━━━━━━━\u001b[0m\u001b[37m\u001b[0m \u001b[1m1s\u001b[0m 6ms/step - accuracy: 0.9092 - loss: 0.2410\n",
      "Epoch 16/200\n",
      "\u001b[1m118/118\u001b[0m \u001b[32m━━━━━━━━━━━━━━━━━━━━\u001b[0m\u001b[37m\u001b[0m \u001b[1m1s\u001b[0m 5ms/step - accuracy: 0.9110 - loss: 0.2420\n",
      "Epoch 17/200\n",
      "\u001b[1m118/118\u001b[0m \u001b[32m━━━━━━━━━━━━━━━━━━━━\u001b[0m\u001b[37m\u001b[0m \u001b[1m1s\u001b[0m 5ms/step - accuracy: 0.9104 - loss: 0.2385\n",
      "Epoch 18/200\n",
      "\u001b[1m118/118\u001b[0m \u001b[32m━━━━━━━━━━━━━━━━━━━━\u001b[0m\u001b[37m\u001b[0m \u001b[1m1s\u001b[0m 5ms/step - accuracy: 0.9144 - loss: 0.2293\n",
      "Epoch 19/200\n",
      "\u001b[1m118/118\u001b[0m \u001b[32m━━━━━━━━━━━━━━━━━━━━\u001b[0m\u001b[37m\u001b[0m \u001b[1m1s\u001b[0m 5ms/step - accuracy: 0.9138 - loss: 0.2318\n",
      "Epoch 20/200\n",
      "\u001b[1m118/118\u001b[0m \u001b[32m━━━━━━━━━━━━━━━━━━━━\u001b[0m\u001b[37m\u001b[0m \u001b[1m1s\u001b[0m 5ms/step - accuracy: 0.9136 - loss: 0.2359\n",
      "Epoch 21/200\n",
      "\u001b[1m118/118\u001b[0m \u001b[32m━━━━━━━━━━━━━━━━━━━━\u001b[0m\u001b[37m\u001b[0m \u001b[1m1s\u001b[0m 4ms/step - accuracy: 0.9115 - loss: 0.2318\n",
      "Epoch 22/200\n",
      "\u001b[1m118/118\u001b[0m \u001b[32m━━━━━━━━━━━━━━━━━━━━\u001b[0m\u001b[37m\u001b[0m \u001b[1m1s\u001b[0m 5ms/step - accuracy: 0.9135 - loss: 0.2285\n",
      "Epoch 23/200\n",
      "\u001b[1m118/118\u001b[0m \u001b[32m━━━━━━━━━━━━━━━━━━━━\u001b[0m\u001b[37m\u001b[0m \u001b[1m1s\u001b[0m 5ms/step - accuracy: 0.9132 - loss: 0.2317\n",
      "Epoch 24/200\n",
      "\u001b[1m118/118\u001b[0m \u001b[32m━━━━━━━━━━━━━━━━━━━━\u001b[0m\u001b[37m\u001b[0m \u001b[1m1s\u001b[0m 5ms/step - accuracy: 0.9166 - loss: 0.2246\n",
      "Epoch 25/200\n",
      "\u001b[1m118/118\u001b[0m \u001b[32m━━━━━━━━━━━━━━━━━━━━\u001b[0m\u001b[37m\u001b[0m \u001b[1m1s\u001b[0m 5ms/step - accuracy: 0.9171 - loss: 0.2259\n",
      "Epoch 26/200\n",
      "\u001b[1m118/118\u001b[0m \u001b[32m━━━━━━━━━━━━━━━━━━━━\u001b[0m\u001b[37m\u001b[0m \u001b[1m1s\u001b[0m 5ms/step - accuracy: 0.9169 - loss: 0.2227\n",
      "Epoch 27/200\n",
      "\u001b[1m118/118\u001b[0m \u001b[32m━━━━━━━━━━━━━━━━━━━━\u001b[0m\u001b[37m\u001b[0m \u001b[1m1s\u001b[0m 4ms/step - accuracy: 0.9171 - loss: 0.2203\n",
      "Epoch 28/200\n",
      "\u001b[1m118/118\u001b[0m \u001b[32m━━━━━━━━━━━━━━━━━━━━\u001b[0m\u001b[37m\u001b[0m \u001b[1m1s\u001b[0m 4ms/step - accuracy: 0.9187 - loss: 0.2192\n",
      "Epoch 29/200\n",
      "\u001b[1m118/118\u001b[0m \u001b[32m━━━━━━━━━━━━━━━━━━━━\u001b[0m\u001b[37m\u001b[0m \u001b[1m1s\u001b[0m 5ms/step - accuracy: 0.9193 - loss: 0.2208\n",
      "Epoch 30/200\n",
      "\u001b[1m118/118\u001b[0m \u001b[32m━━━━━━━━━━━━━━━━━━━━\u001b[0m\u001b[37m\u001b[0m \u001b[1m1s\u001b[0m 5ms/step - accuracy: 0.9191 - loss: 0.2156\n",
      "Epoch 31/200\n",
      "\u001b[1m118/118\u001b[0m \u001b[32m━━━━━━━━━━━━━━━━━━━━\u001b[0m\u001b[37m\u001b[0m \u001b[1m1s\u001b[0m 5ms/step - accuracy: 0.9201 - loss: 0.2192\n",
      "Epoch 32/200\n",
      "\u001b[1m118/118\u001b[0m \u001b[32m━━━━━━━━━━━━━━━━━━━━\u001b[0m\u001b[37m\u001b[0m \u001b[1m1s\u001b[0m 5ms/step - accuracy: 0.9207 - loss: 0.2146\n",
      "Epoch 33/200\n",
      "\u001b[1m118/118\u001b[0m \u001b[32m━━━━━━━━━━━━━━━━━━━━\u001b[0m\u001b[37m\u001b[0m \u001b[1m1s\u001b[0m 5ms/step - accuracy: 0.9225 - loss: 0.2098\n",
      "Epoch 34/200\n",
      "\u001b[1m118/118\u001b[0m \u001b[32m━━━━━━━━━━━━━━━━━━━━\u001b[0m\u001b[37m\u001b[0m \u001b[1m1s\u001b[0m 5ms/step - accuracy: 0.9194 - loss: 0.2143\n",
      "Epoch 35/200\n",
      "\u001b[1m118/118\u001b[0m \u001b[32m━━━━━━━━━━━━━━━━━━━━\u001b[0m\u001b[37m\u001b[0m \u001b[1m1s\u001b[0m 5ms/step - accuracy: 0.9238 - loss: 0.2039\n",
      "Epoch 36/200\n",
      "\u001b[1m118/118\u001b[0m \u001b[32m━━━━━━━━━━━━━━━━━━━━\u001b[0m\u001b[37m\u001b[0m \u001b[1m1s\u001b[0m 4ms/step - accuracy: 0.9227 - loss: 0.2078\n",
      "Epoch 37/200\n",
      "\u001b[1m118/118\u001b[0m \u001b[32m━━━━━━━━━━━━━━━━━━━━\u001b[0m\u001b[37m\u001b[0m \u001b[1m1s\u001b[0m 5ms/step - accuracy: 0.9195 - loss: 0.2169\n",
      "Epoch 38/200\n",
      "\u001b[1m118/118\u001b[0m \u001b[32m━━━━━━━━━━━━━━━━━━━━\u001b[0m\u001b[37m\u001b[0m \u001b[1m1s\u001b[0m 5ms/step - accuracy: 0.9221 - loss: 0.2105\n",
      "Epoch 39/200\n",
      "\u001b[1m118/118\u001b[0m \u001b[32m━━━━━━━━━━━━━━━━━━━━\u001b[0m\u001b[37m\u001b[0m \u001b[1m1s\u001b[0m 5ms/step - accuracy: 0.9238 - loss: 0.2076\n",
      "Epoch 40/200\n",
      "\u001b[1m118/118\u001b[0m \u001b[32m━━━━━━━━━━━━━━━━━━━━\u001b[0m\u001b[37m\u001b[0m \u001b[1m1s\u001b[0m 5ms/step - accuracy: 0.9255 - loss: 0.2030\n",
      "Epoch 41/200\n",
      "\u001b[1m118/118\u001b[0m \u001b[32m━━━━━━━━━━━━━━━━━━━━\u001b[0m\u001b[37m\u001b[0m \u001b[1m1s\u001b[0m 5ms/step - accuracy: 0.9221 - loss: 0.2077\n",
      "Epoch 42/200\n",
      "\u001b[1m118/118\u001b[0m \u001b[32m━━━━━━━━━━━━━━━━━━━━\u001b[0m\u001b[37m\u001b[0m \u001b[1m1s\u001b[0m 5ms/step - accuracy: 0.9251 - loss: 0.2059\n",
      "Epoch 43/200\n",
      "\u001b[1m118/118\u001b[0m \u001b[32m━━━━━━━━━━━━━━━━━━━━\u001b[0m\u001b[37m\u001b[0m \u001b[1m1s\u001b[0m 4ms/step - accuracy: 0.9243 - loss: 0.2032\n",
      "Epoch 44/200\n",
      "\u001b[1m118/118\u001b[0m \u001b[32m━━━━━━━━━━━━━━━━━━━━\u001b[0m\u001b[37m\u001b[0m \u001b[1m1s\u001b[0m 5ms/step - accuracy: 0.9232 - loss: 0.2015\n",
      "Epoch 45/200\n",
      "\u001b[1m118/118\u001b[0m \u001b[32m━━━━━━━━━━━━━━━━━━━━\u001b[0m\u001b[37m\u001b[0m \u001b[1m1s\u001b[0m 5ms/step - accuracy: 0.9265 - loss: 0.1997\n",
      "Epoch 46/200\n",
      "\u001b[1m118/118\u001b[0m \u001b[32m━━━━━━━━━━━━━━━━━━━━\u001b[0m\u001b[37m\u001b[0m \u001b[1m1s\u001b[0m 5ms/step - accuracy: 0.9258 - loss: 0.1997\n",
      "Epoch 47/200\n",
      "\u001b[1m118/118\u001b[0m \u001b[32m━━━━━━━━━━━━━━━━━━━━\u001b[0m\u001b[37m\u001b[0m \u001b[1m1s\u001b[0m 5ms/step - accuracy: 0.9268 - loss: 0.1978\n",
      "Epoch 48/200\n",
      "\u001b[1m118/118\u001b[0m \u001b[32m━━━━━━━━━━━━━━━━━━━━\u001b[0m\u001b[37m\u001b[0m \u001b[1m1s\u001b[0m 5ms/step - accuracy: 0.9263 - loss: 0.1977\n",
      "Epoch 49/200\n",
      "\u001b[1m118/118\u001b[0m \u001b[32m━━━━━━━━━━━━━━━━━━━━\u001b[0m\u001b[37m\u001b[0m \u001b[1m1s\u001b[0m 5ms/step - accuracy: 0.9238 - loss: 0.2064\n",
      "Epoch 50/200\n",
      "\u001b[1m118/118\u001b[0m \u001b[32m━━━━━━━━━━━━━━━━━━━━\u001b[0m\u001b[37m\u001b[0m \u001b[1m1s\u001b[0m 5ms/step - accuracy: 0.9281 - loss: 0.1937\n",
      "Epoch 51/200\n",
      "\u001b[1m118/118\u001b[0m \u001b[32m━━━━━━━━━━━━━━━━━━━━\u001b[0m\u001b[37m\u001b[0m \u001b[1m1s\u001b[0m 4ms/step - accuracy: 0.9280 - loss: 0.1940\n",
      "Epoch 52/200\n",
      "\u001b[1m118/118\u001b[0m \u001b[32m━━━━━━━━━━━━━━━━━━━━\u001b[0m\u001b[37m\u001b[0m \u001b[1m1s\u001b[0m 5ms/step - accuracy: 0.9304 - loss: 0.1860\n",
      "Epoch 53/200\n",
      "\u001b[1m118/118\u001b[0m \u001b[32m━━━━━━━━━━━━━━━━━━━━\u001b[0m\u001b[37m\u001b[0m \u001b[1m1s\u001b[0m 5ms/step - accuracy: 0.9291 - loss: 0.1922\n",
      "Epoch 54/200\n",
      "\u001b[1m118/118\u001b[0m \u001b[32m━━━━━━━━━━━━━━━━━━━━\u001b[0m\u001b[37m\u001b[0m \u001b[1m1s\u001b[0m 5ms/step - accuracy: 0.9271 - loss: 0.1954\n",
      "Epoch 55/200\n",
      "\u001b[1m118/118\u001b[0m \u001b[32m━━━━━━━━━━━━━━━━━━━━\u001b[0m\u001b[37m\u001b[0m \u001b[1m1s\u001b[0m 5ms/step - accuracy: 0.9255 - loss: 0.1986\n",
      "Epoch 56/200\n",
      "\u001b[1m118/118\u001b[0m \u001b[32m━━━━━━━━━━━━━━━━━━━━\u001b[0m\u001b[37m\u001b[0m \u001b[1m1s\u001b[0m 5ms/step - accuracy: 0.9300 - loss: 0.1863\n",
      "Epoch 57/200\n",
      "\u001b[1m118/118\u001b[0m \u001b[32m━━━━━━━━━━━━━━━━━━━━\u001b[0m\u001b[37m\u001b[0m \u001b[1m1s\u001b[0m 4ms/step - accuracy: 0.9291 - loss: 0.1887\n",
      "Epoch 58/200\n",
      "\u001b[1m118/118\u001b[0m \u001b[32m━━━━━━━━━━━━━━━━━━━━\u001b[0m\u001b[37m\u001b[0m \u001b[1m1s\u001b[0m 5ms/step - accuracy: 0.9258 - loss: 0.1967\n",
      "Epoch 59/200\n",
      "\u001b[1m118/118\u001b[0m \u001b[32m━━━━━━━━━━━━━━━━━━━━\u001b[0m\u001b[37m\u001b[0m \u001b[1m1s\u001b[0m 5ms/step - accuracy: 0.9300 - loss: 0.1862\n",
      "Epoch 60/200\n",
      "\u001b[1m118/118\u001b[0m \u001b[32m━━━━━━━━━━━━━━━━━━━━\u001b[0m\u001b[37m\u001b[0m \u001b[1m1s\u001b[0m 5ms/step - accuracy: 0.9301 - loss: 0.1858\n",
      "Epoch 61/200\n",
      "\u001b[1m118/118\u001b[0m \u001b[32m━━━━━━━━━━━━━━━━━━━━\u001b[0m\u001b[37m\u001b[0m \u001b[1m1s\u001b[0m 4ms/step - accuracy: 0.9321 - loss: 0.1832\n",
      "Epoch 62/200\n",
      "\u001b[1m118/118\u001b[0m \u001b[32m━━━━━━━━━━━━━━━━━━━━\u001b[0m\u001b[37m\u001b[0m \u001b[1m1s\u001b[0m 5ms/step - accuracy: 0.9322 - loss: 0.1831\n",
      "Epoch 63/200\n",
      "\u001b[1m118/118\u001b[0m \u001b[32m━━━━━━━━━━━━━━━━━━━━\u001b[0m\u001b[37m\u001b[0m \u001b[1m1s\u001b[0m 5ms/step - accuracy: 0.9306 - loss: 0.1840\n",
      "Epoch 64/200\n",
      "\u001b[1m118/118\u001b[0m \u001b[32m━━━━━━━━━━━━━━━━━━━━\u001b[0m\u001b[37m\u001b[0m \u001b[1m1s\u001b[0m 4ms/step - accuracy: 0.9336 - loss: 0.1798\n",
      "Epoch 65/200\n",
      "\u001b[1m118/118\u001b[0m \u001b[32m━━━━━━━━━━━━━━━━━━━━\u001b[0m\u001b[37m\u001b[0m \u001b[1m1s\u001b[0m 5ms/step - accuracy: 0.9283 - loss: 0.1899\n",
      "Epoch 66/200\n",
      "\u001b[1m118/118\u001b[0m \u001b[32m━━━━━━━━━━━━━━━━━━━━\u001b[0m\u001b[37m\u001b[0m \u001b[1m1s\u001b[0m 5ms/step - accuracy: 0.9327 - loss: 0.1827\n",
      "Epoch 67/200\n",
      "\u001b[1m118/118\u001b[0m \u001b[32m━━━━━━━━━━━━━━━━━━━━\u001b[0m\u001b[37m\u001b[0m \u001b[1m1s\u001b[0m 5ms/step - accuracy: 0.9316 - loss: 0.1822\n",
      "Epoch 68/200\n",
      "\u001b[1m118/118\u001b[0m \u001b[32m━━━━━━━━━━━━━━━━━━━━\u001b[0m\u001b[37m\u001b[0m \u001b[1m1s\u001b[0m 5ms/step - accuracy: 0.9303 - loss: 0.1865\n",
      "Epoch 69/200\n",
      "\u001b[1m118/118\u001b[0m \u001b[32m━━━━━━━━━━━━━━━━━━━━\u001b[0m\u001b[37m\u001b[0m \u001b[1m1s\u001b[0m 5ms/step - accuracy: 0.9312 - loss: 0.1856\n",
      "Epoch 70/200\n",
      "\u001b[1m118/118\u001b[0m \u001b[32m━━━━━━━━━━━━━━━━━━━━\u001b[0m\u001b[37m\u001b[0m \u001b[1m1s\u001b[0m 5ms/step - accuracy: 0.9334 - loss: 0.1779\n",
      "Epoch 71/200\n",
      "\u001b[1m118/118\u001b[0m \u001b[32m━━━━━━━━━━━━━━━━━━━━\u001b[0m\u001b[37m\u001b[0m \u001b[1m1s\u001b[0m 5ms/step - accuracy: 0.9337 - loss: 0.1789\n",
      "Epoch 72/200\n",
      "\u001b[1m118/118\u001b[0m \u001b[32m━━━━━━━━━━━━━━━━━━━━\u001b[0m\u001b[37m\u001b[0m \u001b[1m1s\u001b[0m 5ms/step - accuracy: 0.9304 - loss: 0.1820\n",
      "Epoch 73/200\n",
      "\u001b[1m118/118\u001b[0m \u001b[32m━━━━━━━━━━━━━━━━━━━━\u001b[0m\u001b[37m\u001b[0m \u001b[1m1s\u001b[0m 5ms/step - accuracy: 0.9312 - loss: 0.1809\n",
      "Epoch 74/200\n",
      "\u001b[1m118/118\u001b[0m \u001b[32m━━━━━━━━━━━━━━━━━━━━\u001b[0m\u001b[37m\u001b[0m \u001b[1m1s\u001b[0m 4ms/step - accuracy: 0.9319 - loss: 0.1813\n",
      "Epoch 75/200\n",
      "\u001b[1m118/118\u001b[0m \u001b[32m━━━━━━━━━━━━━━━━━━━━\u001b[0m\u001b[37m\u001b[0m \u001b[1m1s\u001b[0m 4ms/step - accuracy: 0.9345 - loss: 0.1800\n",
      "Epoch 76/200\n",
      "\u001b[1m118/118\u001b[0m \u001b[32m━━━━━━━━━━━━━━━━━━━━\u001b[0m\u001b[37m\u001b[0m \u001b[1m1s\u001b[0m 5ms/step - accuracy: 0.9346 - loss: 0.1744\n",
      "Epoch 77/200\n",
      "\u001b[1m118/118\u001b[0m \u001b[32m━━━━━━━━━━━━━━━━━━━━\u001b[0m\u001b[37m\u001b[0m \u001b[1m1s\u001b[0m 5ms/step - accuracy: 0.9349 - loss: 0.1715\n",
      "Epoch 78/200\n",
      "\u001b[1m118/118\u001b[0m \u001b[32m━━━━━━━━━━━━━━━━━━━━\u001b[0m\u001b[37m\u001b[0m \u001b[1m1s\u001b[0m 4ms/step - accuracy: 0.9349 - loss: 0.1760\n",
      "Epoch 79/200\n",
      "\u001b[1m118/118\u001b[0m \u001b[32m━━━━━━━━━━━━━━━━━━━━\u001b[0m\u001b[37m\u001b[0m \u001b[1m1s\u001b[0m 5ms/step - accuracy: 0.9357 - loss: 0.1744\n",
      "Epoch 80/200\n",
      "\u001b[1m118/118\u001b[0m \u001b[32m━━━━━━━━━━━━━━━━━━━━\u001b[0m\u001b[37m\u001b[0m \u001b[1m1s\u001b[0m 6ms/step - accuracy: 0.9350 - loss: 0.1721\n",
      "Epoch 81/200\n",
      "\u001b[1m118/118\u001b[0m \u001b[32m━━━━━━━━━━━━━━━━━━━━\u001b[0m\u001b[37m\u001b[0m \u001b[1m1s\u001b[0m 5ms/step - accuracy: 0.9355 - loss: 0.1755\n",
      "Epoch 82/200\n",
      "\u001b[1m118/118\u001b[0m \u001b[32m━━━━━━━━━━━━━━━━━━━━\u001b[0m\u001b[37m\u001b[0m \u001b[1m1s\u001b[0m 6ms/step - accuracy: 0.9347 - loss: 0.1729\n",
      "Epoch 83/200\n",
      "\u001b[1m118/118\u001b[0m \u001b[32m━━━━━━━━━━━━━━━━━━━━\u001b[0m\u001b[37m\u001b[0m \u001b[1m1s\u001b[0m 5ms/step - accuracy: 0.9340 - loss: 0.1742\n",
      "Epoch 84/200\n",
      "\u001b[1m118/118\u001b[0m \u001b[32m━━━━━━━━━━━━━━━━━━━━\u001b[0m\u001b[37m\u001b[0m \u001b[1m1s\u001b[0m 5ms/step - accuracy: 0.9364 - loss: 0.1712\n",
      "Epoch 85/200\n",
      "\u001b[1m118/118\u001b[0m \u001b[32m━━━━━━━━━━━━━━━━━━━━\u001b[0m\u001b[37m\u001b[0m \u001b[1m1s\u001b[0m 5ms/step - accuracy: 0.9387 - loss: 0.1678\n",
      "Epoch 86/200\n",
      "\u001b[1m118/118\u001b[0m \u001b[32m━━━━━━━━━━━━━━━━━━━━\u001b[0m\u001b[37m\u001b[0m \u001b[1m1s\u001b[0m 5ms/step - accuracy: 0.9368 - loss: 0.1726\n",
      "Epoch 87/200\n",
      "\u001b[1m118/118\u001b[0m \u001b[32m━━━━━━━━━━━━━━━━━━━━\u001b[0m\u001b[37m\u001b[0m \u001b[1m1s\u001b[0m 5ms/step - accuracy: 0.9391 - loss: 0.1653\n",
      "Epoch 88/200\n",
      "\u001b[1m118/118\u001b[0m \u001b[32m━━━━━━━━━━━━━━━━━━━━\u001b[0m\u001b[37m\u001b[0m \u001b[1m1s\u001b[0m 5ms/step - accuracy: 0.9355 - loss: 0.1749\n",
      "Epoch 89/200\n",
      "\u001b[1m118/118\u001b[0m \u001b[32m━━━━━━━━━━━━━━━━━━━━\u001b[0m\u001b[37m\u001b[0m \u001b[1m1s\u001b[0m 5ms/step - accuracy: 0.9387 - loss: 0.1652\n",
      "Epoch 90/200\n",
      "\u001b[1m118/118\u001b[0m \u001b[32m━━━━━━━━━━━━━━━━━━━━\u001b[0m\u001b[37m\u001b[0m \u001b[1m1s\u001b[0m 4ms/step - accuracy: 0.9379 - loss: 0.1639\n",
      "Epoch 91/200\n",
      "\u001b[1m118/118\u001b[0m \u001b[32m━━━━━━━━━━━━━━━━━━━━\u001b[0m\u001b[37m\u001b[0m \u001b[1m1s\u001b[0m 5ms/step - accuracy: 0.9397 - loss: 0.1635\n",
      "Epoch 92/200\n",
      "\u001b[1m118/118\u001b[0m \u001b[32m━━━━━━━━━━━━━━━━━━━━\u001b[0m\u001b[37m\u001b[0m \u001b[1m1s\u001b[0m 6ms/step - accuracy: 0.9382 - loss: 0.1662\n",
      "Epoch 93/200\n",
      "\u001b[1m118/118\u001b[0m \u001b[32m━━━━━━━━━━━━━━━━━━━━\u001b[0m\u001b[37m\u001b[0m \u001b[1m1s\u001b[0m 5ms/step - accuracy: 0.9391 - loss: 0.1635\n",
      "Epoch 94/200\n",
      "\u001b[1m118/118\u001b[0m \u001b[32m━━━━━━━━━━━━━━━━━━━━\u001b[0m\u001b[37m\u001b[0m \u001b[1m1s\u001b[0m 5ms/step - accuracy: 0.9360 - loss: 0.1689\n",
      "Epoch 95/200\n",
      "\u001b[1m118/118\u001b[0m \u001b[32m━━━━━━━━━━━━━━━━━━━━\u001b[0m\u001b[37m\u001b[0m \u001b[1m1s\u001b[0m 6ms/step - accuracy: 0.9405 - loss: 0.1587\n",
      "Epoch 96/200\n",
      "\u001b[1m118/118\u001b[0m \u001b[32m━━━━━━━━━━━━━━━━━━━━\u001b[0m\u001b[37m\u001b[0m \u001b[1m1s\u001b[0m 6ms/step - accuracy: 0.9338 - loss: 0.1778\n",
      "Epoch 97/200\n",
      "\u001b[1m118/118\u001b[0m \u001b[32m━━━━━━━━━━━━━━━━━━━━\u001b[0m\u001b[37m\u001b[0m \u001b[1m1s\u001b[0m 6ms/step - accuracy: 0.9344 - loss: 0.1783\n",
      "Epoch 98/200\n",
      "\u001b[1m118/118\u001b[0m \u001b[32m━━━━━━━━━━━━━━━━━━━━\u001b[0m\u001b[37m\u001b[0m \u001b[1m1s\u001b[0m 5ms/step - accuracy: 0.9382 - loss: 0.1684\n",
      "Epoch 99/200\n",
      "\u001b[1m118/118\u001b[0m \u001b[32m━━━━━━━━━━━━━━━━━━━━\u001b[0m\u001b[37m\u001b[0m \u001b[1m1s\u001b[0m 5ms/step - accuracy: 0.9389 - loss: 0.1640\n",
      "Epoch 100/200\n",
      "\u001b[1m118/118\u001b[0m \u001b[32m━━━━━━━━━━━━━━━━━━━━\u001b[0m\u001b[37m\u001b[0m \u001b[1m1s\u001b[0m 5ms/step - accuracy: 0.9395 - loss: 0.1623\n",
      "Epoch 101/200\n",
      "\u001b[1m118/118\u001b[0m \u001b[32m━━━━━━━━━━━━━━━━━━━━\u001b[0m\u001b[37m\u001b[0m \u001b[1m1s\u001b[0m 5ms/step - accuracy: 0.9400 - loss: 0.1617\n",
      "Epoch 102/200\n",
      "\u001b[1m118/118\u001b[0m \u001b[32m━━━━━━━━━━━━━━━━━━━━\u001b[0m\u001b[37m\u001b[0m \u001b[1m1s\u001b[0m 5ms/step - accuracy: 0.9396 - loss: 0.1594\n",
      "Epoch 103/200\n",
      "\u001b[1m118/118\u001b[0m \u001b[32m━━━━━━━━━━━━━━━━━━━━\u001b[0m\u001b[37m\u001b[0m \u001b[1m1s\u001b[0m 5ms/step - accuracy: 0.9359 - loss: 0.1730\n",
      "Epoch 104/200\n",
      "\u001b[1m118/118\u001b[0m \u001b[32m━━━━━━━━━━━━━━━━━━━━\u001b[0m\u001b[37m\u001b[0m \u001b[1m1s\u001b[0m 5ms/step - accuracy: 0.9419 - loss: 0.1572\n",
      "Epoch 105/200\n",
      "\u001b[1m118/118\u001b[0m \u001b[32m━━━━━━━━━━━━━━━━━━━━\u001b[0m\u001b[37m\u001b[0m \u001b[1m1s\u001b[0m 5ms/step - accuracy: 0.9392 - loss: 0.1625\n",
      "Epoch 106/200\n",
      "\u001b[1m118/118\u001b[0m \u001b[32m━━━━━━━━━━━━━━━━━━━━\u001b[0m\u001b[37m\u001b[0m \u001b[1m1s\u001b[0m 5ms/step - accuracy: 0.9402 - loss: 0.1614\n",
      "Epoch 107/200\n",
      "\u001b[1m118/118\u001b[0m \u001b[32m━━━━━━━━━━━━━━━━━━━━\u001b[0m\u001b[37m\u001b[0m \u001b[1m1s\u001b[0m 5ms/step - accuracy: 0.9414 - loss: 0.1568\n",
      "Epoch 108/200\n",
      "\u001b[1m118/118\u001b[0m \u001b[32m━━━━━━━━━━━━━━━━━━━━\u001b[0m\u001b[37m\u001b[0m \u001b[1m1s\u001b[0m 5ms/step - accuracy: 0.9407 - loss: 0.1597\n",
      "Epoch 109/200\n",
      "\u001b[1m118/118\u001b[0m \u001b[32m━━━━━━━━━━━━━━━━━━━━\u001b[0m\u001b[37m\u001b[0m \u001b[1m1s\u001b[0m 5ms/step - accuracy: 0.9427 - loss: 0.1560\n",
      "Epoch 110/200\n",
      "\u001b[1m118/118\u001b[0m \u001b[32m━━━━━━━━━━━━━━━━━━━━\u001b[0m\u001b[37m\u001b[0m \u001b[1m1s\u001b[0m 5ms/step - accuracy: 0.9394 - loss: 0.1652\n",
      "Epoch 111/200\n",
      "\u001b[1m118/118\u001b[0m \u001b[32m━━━━━━━━━━━━━━━━━━━━\u001b[0m\u001b[37m\u001b[0m \u001b[1m1s\u001b[0m 5ms/step - accuracy: 0.9396 - loss: 0.1585\n",
      "Epoch 112/200\n",
      "\u001b[1m118/118\u001b[0m \u001b[32m━━━━━━━━━━━━━━━━━━━━\u001b[0m\u001b[37m\u001b[0m \u001b[1m1s\u001b[0m 5ms/step - accuracy: 0.9405 - loss: 0.1563\n",
      "Epoch 113/200\n",
      "\u001b[1m118/118\u001b[0m \u001b[32m━━━━━━━━━━━━━━━━━━━━\u001b[0m\u001b[37m\u001b[0m \u001b[1m1s\u001b[0m 5ms/step - accuracy: 0.9411 - loss: 0.1573\n",
      "Epoch 114/200\n",
      "\u001b[1m118/118\u001b[0m \u001b[32m━━━━━━━━━━━━━━━━━━━━\u001b[0m\u001b[37m\u001b[0m \u001b[1m1s\u001b[0m 5ms/step - accuracy: 0.9428 - loss: 0.1551\n",
      "Epoch 115/200\n",
      "\u001b[1m118/118\u001b[0m \u001b[32m━━━━━━━━━━━━━━━━━━━━\u001b[0m\u001b[37m\u001b[0m \u001b[1m1s\u001b[0m 5ms/step - accuracy: 0.9419 - loss: 0.1526\n",
      "Epoch 116/200\n",
      "\u001b[1m118/118\u001b[0m \u001b[32m━━━━━━━━━━━━━━━━━━━━\u001b[0m\u001b[37m\u001b[0m \u001b[1m1s\u001b[0m 5ms/step - accuracy: 0.9408 - loss: 0.1589\n",
      "Epoch 117/200\n",
      "\u001b[1m118/118\u001b[0m \u001b[32m━━━━━━━━━━━━━━━━━━━━\u001b[0m\u001b[37m\u001b[0m \u001b[1m1s\u001b[0m 5ms/step - accuracy: 0.9394 - loss: 0.1612\n",
      "Epoch 118/200\n",
      "\u001b[1m118/118\u001b[0m \u001b[32m━━━━━━━━━━━━━━━━━━━━\u001b[0m\u001b[37m\u001b[0m \u001b[1m1s\u001b[0m 5ms/step - accuracy: 0.9427 - loss: 0.1552\n",
      "Epoch 119/200\n",
      "\u001b[1m118/118\u001b[0m \u001b[32m━━━━━━━━━━━━━━━━━━━━\u001b[0m\u001b[37m\u001b[0m \u001b[1m1s\u001b[0m 5ms/step - accuracy: 0.9406 - loss: 0.1563\n",
      "Epoch 120/200\n",
      "\u001b[1m118/118\u001b[0m \u001b[32m━━━━━━━━━━━━━━━━━━━━\u001b[0m\u001b[37m\u001b[0m \u001b[1m1s\u001b[0m 5ms/step - accuracy: 0.9428 - loss: 0.1537\n",
      "Epoch 121/200\n",
      "\u001b[1m118/118\u001b[0m \u001b[32m━━━━━━━━━━━━━━━━━━━━\u001b[0m\u001b[37m\u001b[0m \u001b[1m1s\u001b[0m 5ms/step - accuracy: 0.9423 - loss: 0.1592\n",
      "Epoch 122/200\n",
      "\u001b[1m118/118\u001b[0m \u001b[32m━━━━━━━━━━━━━━━━━━━━\u001b[0m\u001b[37m\u001b[0m \u001b[1m1s\u001b[0m 5ms/step - accuracy: 0.9413 - loss: 0.1550\n",
      "Epoch 123/200\n",
      "\u001b[1m118/118\u001b[0m \u001b[32m━━━━━━━━━━━━━━━━━━━━\u001b[0m\u001b[37m\u001b[0m \u001b[1m1s\u001b[0m 5ms/step - accuracy: 0.9427 - loss: 0.1520\n",
      "Epoch 124/200\n",
      "\u001b[1m118/118\u001b[0m \u001b[32m━━━━━━━━━━━━━━━━━━━━\u001b[0m\u001b[37m\u001b[0m \u001b[1m1s\u001b[0m 5ms/step - accuracy: 0.9451 - loss: 0.1502\n",
      "Epoch 125/200\n",
      "\u001b[1m118/118\u001b[0m \u001b[32m━━━━━━━━━━━━━━━━━━━━\u001b[0m\u001b[37m\u001b[0m \u001b[1m1s\u001b[0m 5ms/step - accuracy: 0.9404 - loss: 0.1606\n",
      "Epoch 126/200\n",
      "\u001b[1m118/118\u001b[0m \u001b[32m━━━━━━━━━━━━━━━━━━━━\u001b[0m\u001b[37m\u001b[0m \u001b[1m1s\u001b[0m 5ms/step - accuracy: 0.9431 - loss: 0.1526\n",
      "Epoch 127/200\n",
      "\u001b[1m118/118\u001b[0m \u001b[32m━━━━━━━━━━━━━━━━━━━━\u001b[0m\u001b[37m\u001b[0m \u001b[1m1s\u001b[0m 5ms/step - accuracy: 0.9464 - loss: 0.1469\n",
      "Epoch 128/200\n",
      "\u001b[1m118/118\u001b[0m \u001b[32m━━━━━━━━━━━━━━━━━━━━\u001b[0m\u001b[37m\u001b[0m \u001b[1m1s\u001b[0m 5ms/step - accuracy: 0.9443 - loss: 0.1453\n",
      "Epoch 129/200\n",
      "\u001b[1m118/118\u001b[0m \u001b[32m━━━━━━━━━━━━━━━━━━━━\u001b[0m\u001b[37m\u001b[0m \u001b[1m1s\u001b[0m 5ms/step - accuracy: 0.9432 - loss: 0.1536\n",
      "Epoch 130/200\n",
      "\u001b[1m118/118\u001b[0m \u001b[32m━━━━━━━━━━━━━━━━━━━━\u001b[0m\u001b[37m\u001b[0m \u001b[1m1s\u001b[0m 5ms/step - accuracy: 0.9455 - loss: 0.1431\n",
      "Epoch 131/200\n",
      "\u001b[1m118/118\u001b[0m \u001b[32m━━━━━━━━━━━━━━━━━━━━\u001b[0m\u001b[37m\u001b[0m \u001b[1m1s\u001b[0m 5ms/step - accuracy: 0.9463 - loss: 0.1454\n",
      "Epoch 132/200\n",
      "\u001b[1m118/118\u001b[0m \u001b[32m━━━━━━━━━━━━━━━━━━━━\u001b[0m\u001b[37m\u001b[0m \u001b[1m1s\u001b[0m 5ms/step - accuracy: 0.9445 - loss: 0.1489\n",
      "Epoch 133/200\n",
      "\u001b[1m118/118\u001b[0m \u001b[32m━━━━━━━━━━━━━━━━━━━━\u001b[0m\u001b[37m\u001b[0m \u001b[1m1s\u001b[0m 6ms/step - accuracy: 0.9449 - loss: 0.1485\n",
      "Epoch 134/200\n",
      "\u001b[1m118/118\u001b[0m \u001b[32m━━━━━━━━━━━━━━━━━━━━\u001b[0m\u001b[37m\u001b[0m \u001b[1m1s\u001b[0m 6ms/step - accuracy: 0.9446 - loss: 0.1469\n",
      "Epoch 135/200\n",
      "\u001b[1m118/118\u001b[0m \u001b[32m━━━━━━━━━━━━━━━━━━━━\u001b[0m\u001b[37m\u001b[0m \u001b[1m1s\u001b[0m 6ms/step - accuracy: 0.9461 - loss: 0.1468\n",
      "Epoch 136/200\n",
      "\u001b[1m118/118\u001b[0m \u001b[32m━━━━━━━━━━━━━━━━━━━━\u001b[0m\u001b[37m\u001b[0m \u001b[1m1s\u001b[0m 5ms/step - accuracy: 0.9461 - loss: 0.1457\n",
      "Epoch 137/200\n",
      "\u001b[1m118/118\u001b[0m \u001b[32m━━━━━━━━━━━━━━━━━━━━\u001b[0m\u001b[37m\u001b[0m \u001b[1m1s\u001b[0m 6ms/step - accuracy: 0.9417 - loss: 0.1536\n",
      "Epoch 138/200\n",
      "\u001b[1m118/118\u001b[0m \u001b[32m━━━━━━━━━━━━━━━━━━━━\u001b[0m\u001b[37m\u001b[0m \u001b[1m1s\u001b[0m 6ms/step - accuracy: 0.9460 - loss: 0.1455\n",
      "Epoch 139/200\n",
      "\u001b[1m118/118\u001b[0m \u001b[32m━━━━━━━━━━━━━━━━━━━━\u001b[0m\u001b[37m\u001b[0m \u001b[1m1s\u001b[0m 5ms/step - accuracy: 0.9440 - loss: 0.1520\n",
      "Epoch 140/200\n",
      "\u001b[1m118/118\u001b[0m \u001b[32m━━━━━━━━━━━━━━━━━━━━\u001b[0m\u001b[37m\u001b[0m \u001b[1m1s\u001b[0m 5ms/step - accuracy: 0.9457 - loss: 0.1448\n",
      "Epoch 141/200\n",
      "\u001b[1m118/118\u001b[0m \u001b[32m━━━━━━━━━━━━━━━━━━━━\u001b[0m\u001b[37m\u001b[0m \u001b[1m1s\u001b[0m 5ms/step - accuracy: 0.9460 - loss: 0.1450\n",
      "Epoch 142/200\n",
      "\u001b[1m118/118\u001b[0m \u001b[32m━━━━━━━━━━━━━━━━━━━━\u001b[0m\u001b[37m\u001b[0m \u001b[1m1s\u001b[0m 5ms/step - accuracy: 0.9443 - loss: 0.1496\n",
      "Epoch 143/200\n",
      "\u001b[1m118/118\u001b[0m \u001b[32m━━━━━━━━━━━━━━━━━━━━\u001b[0m\u001b[37m\u001b[0m \u001b[1m1s\u001b[0m 5ms/step - accuracy: 0.9463 - loss: 0.1434\n",
      "Epoch 144/200\n",
      "\u001b[1m118/118\u001b[0m \u001b[32m━━━━━━━━━━━━━━━━━━━━\u001b[0m\u001b[37m\u001b[0m \u001b[1m1s\u001b[0m 4ms/step - accuracy: 0.9449 - loss: 0.1496\n",
      "Epoch 145/200\n",
      "\u001b[1m118/118\u001b[0m \u001b[32m━━━━━━━━━━━━━━━━━━━━\u001b[0m\u001b[37m\u001b[0m \u001b[1m1s\u001b[0m 5ms/step - accuracy: 0.9484 - loss: 0.1402\n",
      "Epoch 146/200\n",
      "\u001b[1m118/118\u001b[0m \u001b[32m━━━━━━━━━━━━━━━━━━━━\u001b[0m\u001b[37m\u001b[0m \u001b[1m1s\u001b[0m 5ms/step - accuracy: 0.9429 - loss: 0.1505\n",
      "Epoch 147/200\n",
      "\u001b[1m118/118\u001b[0m \u001b[32m━━━━━━━━━━━━━━━━━━━━\u001b[0m\u001b[37m\u001b[0m \u001b[1m1s\u001b[0m 5ms/step - accuracy: 0.9457 - loss: 0.1490\n",
      "Epoch 148/200\n",
      "\u001b[1m118/118\u001b[0m \u001b[32m━━━━━━━━━━━━━━━━━━━━\u001b[0m\u001b[37m\u001b[0m \u001b[1m1s\u001b[0m 5ms/step - accuracy: 0.9435 - loss: 0.1482\n",
      "Epoch 149/200\n",
      "\u001b[1m118/118\u001b[0m \u001b[32m━━━━━━━━━━━━━━━━━━━━\u001b[0m\u001b[37m\u001b[0m \u001b[1m1s\u001b[0m 4ms/step - accuracy: 0.9440 - loss: 0.1493\n",
      "Epoch 150/200\n",
      "\u001b[1m118/118\u001b[0m \u001b[32m━━━━━━━━━━━━━━━━━━━━\u001b[0m\u001b[37m\u001b[0m \u001b[1m1s\u001b[0m 4ms/step - accuracy: 0.9481 - loss: 0.1417\n",
      "Epoch 151/200\n",
      "\u001b[1m118/118\u001b[0m \u001b[32m━━━━━━━━━━━━━━━━━━━━\u001b[0m\u001b[37m\u001b[0m \u001b[1m1s\u001b[0m 5ms/step - accuracy: 0.9501 - loss: 0.1382\n",
      "Epoch 152/200\n",
      "\u001b[1m118/118\u001b[0m \u001b[32m━━━━━━━━━━━━━━━━━━━━\u001b[0m\u001b[37m\u001b[0m \u001b[1m1s\u001b[0m 5ms/step - accuracy: 0.9498 - loss: 0.1372\n",
      "Epoch 153/200\n",
      "\u001b[1m118/118\u001b[0m \u001b[32m━━━━━━━━━━━━━━━━━━━━\u001b[0m\u001b[37m\u001b[0m \u001b[1m1s\u001b[0m 5ms/step - accuracy: 0.9466 - loss: 0.1421\n",
      "Epoch 154/200\n",
      "\u001b[1m118/118\u001b[0m \u001b[32m━━━━━━━━━━━━━━━━━━━━\u001b[0m\u001b[37m\u001b[0m \u001b[1m1s\u001b[0m 5ms/step - accuracy: 0.9498 - loss: 0.1377\n",
      "Epoch 155/200\n",
      "\u001b[1m118/118\u001b[0m \u001b[32m━━━━━━━━━━━━━━━━━━━━\u001b[0m\u001b[37m\u001b[0m \u001b[1m1s\u001b[0m 5ms/step - accuracy: 0.9483 - loss: 0.1369\n",
      "Epoch 156/200\n",
      "\u001b[1m118/118\u001b[0m \u001b[32m━━━━━━━━━━━━━━━━━━━━\u001b[0m\u001b[37m\u001b[0m \u001b[1m1s\u001b[0m 5ms/step - accuracy: 0.9482 - loss: 0.1424\n",
      "Epoch 157/200\n",
      "\u001b[1m118/118\u001b[0m \u001b[32m━━━━━━━━━━━━━━━━━━━━\u001b[0m\u001b[37m\u001b[0m \u001b[1m1s\u001b[0m 5ms/step - accuracy: 0.9456 - loss: 0.1457\n",
      "Epoch 158/200\n",
      "\u001b[1m118/118\u001b[0m \u001b[32m━━━━━━━━━━━━━━━━━━━━\u001b[0m\u001b[37m\u001b[0m \u001b[1m1s\u001b[0m 5ms/step - accuracy: 0.9463 - loss: 0.1407\n",
      "Epoch 159/200\n",
      "\u001b[1m118/118\u001b[0m \u001b[32m━━━━━━━━━━━━━━━━━━━━\u001b[0m\u001b[37m\u001b[0m \u001b[1m1s\u001b[0m 4ms/step - accuracy: 0.9462 - loss: 0.1442\n",
      "Epoch 160/200\n",
      "\u001b[1m118/118\u001b[0m \u001b[32m━━━━━━━━━━━━━━━━━━━━\u001b[0m\u001b[37m\u001b[0m \u001b[1m1s\u001b[0m 5ms/step - accuracy: 0.9463 - loss: 0.1432\n",
      "Epoch 161/200\n",
      "\u001b[1m118/118\u001b[0m \u001b[32m━━━━━━━━━━━━━━━━━━━━\u001b[0m\u001b[37m\u001b[0m \u001b[1m1s\u001b[0m 5ms/step - accuracy: 0.9450 - loss: 0.1475\n",
      "Epoch 162/200\n",
      "\u001b[1m118/118\u001b[0m \u001b[32m━━━━━━━━━━━━━━━━━━━━\u001b[0m\u001b[37m\u001b[0m \u001b[1m1s\u001b[0m 5ms/step - accuracy: 0.9492 - loss: 0.1342\n",
      "Epoch 163/200\n",
      "\u001b[1m118/118\u001b[0m \u001b[32m━━━━━━━━━━━━━━━━━━━━\u001b[0m\u001b[37m\u001b[0m \u001b[1m1s\u001b[0m 5ms/step - accuracy: 0.9510 - loss: 0.1301\n",
      "Epoch 164/200\n",
      "\u001b[1m118/118\u001b[0m \u001b[32m━━━━━━━━━━━━━━━━━━━━\u001b[0m\u001b[37m\u001b[0m \u001b[1m1s\u001b[0m 4ms/step - accuracy: 0.9483 - loss: 0.1373\n",
      "Epoch 165/200\n",
      "\u001b[1m118/118\u001b[0m \u001b[32m━━━━━━━━━━━━━━━━━━━━\u001b[0m\u001b[37m\u001b[0m \u001b[1m1s\u001b[0m 5ms/step - accuracy: 0.9484 - loss: 0.1377\n",
      "Epoch 166/200\n",
      "\u001b[1m118/118\u001b[0m \u001b[32m━━━━━━━━━━━━━━━━━━━━\u001b[0m\u001b[37m\u001b[0m \u001b[1m1s\u001b[0m 5ms/step - accuracy: 0.9466 - loss: 0.1400\n",
      "Epoch 167/200\n",
      "\u001b[1m118/118\u001b[0m \u001b[32m━━━━━━━━━━━━━━━━━━━━\u001b[0m\u001b[37m\u001b[0m \u001b[1m1s\u001b[0m 5ms/step - accuracy: 0.9482 - loss: 0.1405\n",
      "Epoch 168/200\n",
      "\u001b[1m118/118\u001b[0m \u001b[32m━━━━━━━━━━━━━━━━━━━━\u001b[0m\u001b[37m\u001b[0m \u001b[1m1s\u001b[0m 5ms/step - accuracy: 0.9501 - loss: 0.1313\n",
      "Epoch 169/200\n",
      "\u001b[1m118/118\u001b[0m \u001b[32m━━━━━━━━━━━━━━━━━━━━\u001b[0m\u001b[37m\u001b[0m \u001b[1m1s\u001b[0m 5ms/step - accuracy: 0.9494 - loss: 0.1368\n",
      "Epoch 170/200\n",
      "\u001b[1m118/118\u001b[0m \u001b[32m━━━━━━━━━━━━━━━━━━━━\u001b[0m\u001b[37m\u001b[0m \u001b[1m1s\u001b[0m 5ms/step - accuracy: 0.9482 - loss: 0.1378\n",
      "Epoch 171/200\n",
      "\u001b[1m118/118\u001b[0m \u001b[32m━━━━━━━━━━━━━━━━━━━━\u001b[0m\u001b[37m\u001b[0m \u001b[1m1s\u001b[0m 5ms/step - accuracy: 0.9486 - loss: 0.1416\n",
      "Epoch 172/200\n",
      "\u001b[1m118/118\u001b[0m \u001b[32m━━━━━━━━━━━━━━━━━━━━\u001b[0m\u001b[37m\u001b[0m \u001b[1m1s\u001b[0m 5ms/step - accuracy: 0.9502 - loss: 0.1343\n",
      "Epoch 173/200\n",
      "\u001b[1m118/118\u001b[0m \u001b[32m━━━━━━━━━━━━━━━━━━━━\u001b[0m\u001b[37m\u001b[0m \u001b[1m1s\u001b[0m 5ms/step - accuracy: 0.9501 - loss: 0.1355\n",
      "Epoch 174/200\n",
      "\u001b[1m118/118\u001b[0m \u001b[32m━━━━━━━━━━━━━━━━━━━━\u001b[0m\u001b[37m\u001b[0m \u001b[1m1s\u001b[0m 5ms/step - accuracy: 0.9478 - loss: 0.1405\n",
      "Epoch 175/200\n",
      "\u001b[1m118/118\u001b[0m \u001b[32m━━━━━━━━━━━━━━━━━━━━\u001b[0m\u001b[37m\u001b[0m \u001b[1m1s\u001b[0m 5ms/step - accuracy: 0.9475 - loss: 0.1425\n",
      "Epoch 176/200\n",
      "\u001b[1m118/118\u001b[0m \u001b[32m━━━━━━━━━━━━━━━━━━━━\u001b[0m\u001b[37m\u001b[0m \u001b[1m1s\u001b[0m 5ms/step - accuracy: 0.9480 - loss: 0.1413\n",
      "Epoch 177/200\n",
      "\u001b[1m118/118\u001b[0m \u001b[32m━━━━━━━━━━━━━━━━━━━━\u001b[0m\u001b[37m\u001b[0m \u001b[1m1s\u001b[0m 5ms/step - accuracy: 0.9515 - loss: 0.1313\n",
      "Epoch 178/200\n",
      "\u001b[1m118/118\u001b[0m \u001b[32m━━━━━━━━━━━━━━━━━━━━\u001b[0m\u001b[37m\u001b[0m \u001b[1m1s\u001b[0m 5ms/step - accuracy: 0.9476 - loss: 0.1399\n",
      "Epoch 179/200\n",
      "\u001b[1m118/118\u001b[0m \u001b[32m━━━━━━━━━━━━━━━━━━━━\u001b[0m\u001b[37m\u001b[0m \u001b[1m1s\u001b[0m 5ms/step - accuracy: 0.9517 - loss: 0.1308\n",
      "Epoch 180/200\n",
      "\u001b[1m118/118\u001b[0m \u001b[32m━━━━━━━━━━━━━━━━━━━━\u001b[0m\u001b[37m\u001b[0m \u001b[1m1s\u001b[0m 5ms/step - accuracy: 0.9499 - loss: 0.1330\n",
      "Epoch 181/200\n",
      "\u001b[1m118/118\u001b[0m \u001b[32m━━━━━━━━━━━━━━━━━━━━\u001b[0m\u001b[37m\u001b[0m \u001b[1m1s\u001b[0m 5ms/step - accuracy: 0.9514 - loss: 0.1299\n",
      "Epoch 182/200\n",
      "\u001b[1m118/118\u001b[0m \u001b[32m━━━━━━━━━━━━━━━━━━━━\u001b[0m\u001b[37m\u001b[0m \u001b[1m1s\u001b[0m 4ms/step - accuracy: 0.9478 - loss: 0.1374\n",
      "Epoch 183/200\n",
      "\u001b[1m118/118\u001b[0m \u001b[32m━━━━━━━━━━━━━━━━━━━━\u001b[0m\u001b[37m\u001b[0m \u001b[1m1s\u001b[0m 5ms/step - accuracy: 0.9504 - loss: 0.1364\n",
      "Epoch 184/200\n",
      "\u001b[1m118/118\u001b[0m \u001b[32m━━━━━━━━━━━━━━━━━━━━\u001b[0m\u001b[37m\u001b[0m \u001b[1m1s\u001b[0m 5ms/step - accuracy: 0.9500 - loss: 0.1356\n",
      "Epoch 185/200\n",
      "\u001b[1m118/118\u001b[0m \u001b[32m━━━━━━━━━━━━━━━━━━━━\u001b[0m\u001b[37m\u001b[0m \u001b[1m1s\u001b[0m 5ms/step - accuracy: 0.9522 - loss: 0.1300\n",
      "Epoch 186/200\n",
      "\u001b[1m118/118\u001b[0m \u001b[32m━━━━━━━━━━━━━━━━━━━━\u001b[0m\u001b[37m\u001b[0m \u001b[1m1s\u001b[0m 4ms/step - accuracy: 0.9507 - loss: 0.1333\n",
      "Epoch 187/200\n",
      "\u001b[1m118/118\u001b[0m \u001b[32m━━━━━━━━━━━━━━━━━━━━\u001b[0m\u001b[37m\u001b[0m \u001b[1m1s\u001b[0m 5ms/step - accuracy: 0.9518 - loss: 0.1297\n",
      "Epoch 188/200\n",
      "\u001b[1m118/118\u001b[0m \u001b[32m━━━━━━━━━━━━━━━━━━━━\u001b[0m\u001b[37m\u001b[0m \u001b[1m1s\u001b[0m 5ms/step - accuracy: 0.9492 - loss: 0.1360\n",
      "Epoch 189/200\n",
      "\u001b[1m118/118\u001b[0m \u001b[32m━━━━━━━━━━━━━━━━━━━━\u001b[0m\u001b[37m\u001b[0m \u001b[1m1s\u001b[0m 5ms/step - accuracy: 0.9490 - loss: 0.1402\n",
      "Epoch 190/200\n",
      "\u001b[1m118/118\u001b[0m \u001b[32m━━━━━━━━━━━━━━━━━━━━\u001b[0m\u001b[37m\u001b[0m \u001b[1m1s\u001b[0m 5ms/step - accuracy: 0.9508 - loss: 0.1330\n",
      "Epoch 191/200\n",
      "\u001b[1m118/118\u001b[0m \u001b[32m━━━━━━━━━━━━━━━━━━━━\u001b[0m\u001b[37m\u001b[0m \u001b[1m1s\u001b[0m 5ms/step - accuracy: 0.9502 - loss: 0.1324\n",
      "Epoch 192/200\n",
      "\u001b[1m118/118\u001b[0m \u001b[32m━━━━━━━━━━━━━━━━━━━━\u001b[0m\u001b[37m\u001b[0m \u001b[1m1s\u001b[0m 5ms/step - accuracy: 0.9511 - loss: 0.1293\n",
      "Epoch 193/200\n",
      "\u001b[1m118/118\u001b[0m \u001b[32m━━━━━━━━━━━━━━━━━━━━\u001b[0m\u001b[37m\u001b[0m \u001b[1m1s\u001b[0m 5ms/step - accuracy: 0.9516 - loss: 0.1318\n",
      "Epoch 194/200\n",
      "\u001b[1m118/118\u001b[0m \u001b[32m━━━━━━━━━━━━━━━━━━━━\u001b[0m\u001b[37m\u001b[0m \u001b[1m1s\u001b[0m 5ms/step - accuracy: 0.9522 - loss: 0.1282\n",
      "Epoch 195/200\n",
      "\u001b[1m118/118\u001b[0m \u001b[32m━━━━━━━━━━━━━━━━━━━━\u001b[0m\u001b[37m\u001b[0m \u001b[1m1s\u001b[0m 4ms/step - accuracy: 0.9538 - loss: 0.1245\n",
      "Epoch 196/200\n",
      "\u001b[1m118/118\u001b[0m \u001b[32m━━━━━━━━━━━━━━━━━━━━\u001b[0m\u001b[37m\u001b[0m \u001b[1m1s\u001b[0m 5ms/step - accuracy: 0.9509 - loss: 0.1307\n",
      "Epoch 197/200\n",
      "\u001b[1m118/118\u001b[0m \u001b[32m━━━━━━━━━━━━━━━━━━━━\u001b[0m\u001b[37m\u001b[0m \u001b[1m1s\u001b[0m 5ms/step - accuracy: 0.9532 - loss: 0.1268\n",
      "Epoch 198/200\n",
      "\u001b[1m118/118\u001b[0m \u001b[32m━━━━━━━━━━━━━━━━━━━━\u001b[0m\u001b[37m\u001b[0m \u001b[1m1s\u001b[0m 5ms/step - accuracy: 0.9514 - loss: 0.1321\n",
      "Epoch 199/200\n",
      "\u001b[1m118/118\u001b[0m \u001b[32m━━━━━━━━━━━━━━━━━━━━\u001b[0m\u001b[37m\u001b[0m \u001b[1m1s\u001b[0m 4ms/step - accuracy: 0.9494 - loss: 0.1335\n",
      "Epoch 200/200\n",
      "\u001b[1m118/118\u001b[0m \u001b[32m━━━━━━━━━━━━━━━━━━━━\u001b[0m\u001b[37m\u001b[0m \u001b[1m1s\u001b[0m 5ms/step - accuracy: 0.9520 - loss: 0.1276\n"
     ]
    }
   ],
   "source": [
    "es = EarlyStopping(monitor='val_loss', mode='min', verbose=1, patience=20)\n",
    "mc = ModelCheckpoint('model_best.h5', monitor='val_loss', mode='min', verbose=0, save_best_only=True)\n",
    "history = model.fit(train_images, train_labels, epochs=200, batch_size=512)#, verbose=0, validation_data=(test_images, test_labels), callbacks=es)"
   ]
  },
  {
   "cell_type": "code",
   "execution_count": 190,
   "metadata": {},
   "outputs": [
    {
     "name": "stdout",
     "output_type": "stream",
     "text": [
      "313/313 - 0s - 1ms/step - accuracy: 0.8935 - loss: 0.4139\n",
      "\n",
      "Test accuracy: 0.8934999704360962\n"
     ]
    }
   ],
   "source": [
    "test_loss, test_acc = model.evaluate(test_images,  test_labels, verbose=2)\n",
    "\n",
    "print('\\nTest accuracy:', test_acc)"
   ]
  },
  {
   "cell_type": "code",
   "execution_count": 191,
   "metadata": {},
   "outputs": [
    {
     "ename": "FileNotFoundError",
     "evalue": "[Errno 2] Unable to synchronously open file (unable to open file: name = 'model_best.h5', errno = 2, error message = 'No such file or directory', flags = 0, o_flags = 0)",
     "output_type": "error",
     "traceback": [
      "\u001b[1;31m---------------------------------------------------------------------------\u001b[0m",
      "\u001b[1;31mFileNotFoundError\u001b[0m                         Traceback (most recent call last)",
      "Cell \u001b[1;32mIn[191], line 1\u001b[0m\n\u001b[1;32m----> 1\u001b[0m saved_model \u001b[38;5;241m=\u001b[39m \u001b[43mload_model\u001b[49m\u001b[43m(\u001b[49m\u001b[38;5;124;43m'\u001b[39;49m\u001b[38;5;124;43mmodel_best.h5\u001b[39;49m\u001b[38;5;124;43m'\u001b[39;49m\u001b[43m)\u001b[49m\n",
      "File \u001b[1;32mc:\\Users\\auria\\AppData\\Local\\Programs\\Python\\Python312\\Lib\\site-packages\\keras\\src\\saving\\saving_api.py:196\u001b[0m, in \u001b[0;36mload_model\u001b[1;34m(filepath, custom_objects, compile, safe_mode)\u001b[0m\n\u001b[0;32m    189\u001b[0m     \u001b[38;5;28;01mreturn\u001b[39;00m saving_lib\u001b[38;5;241m.\u001b[39mload_model(\n\u001b[0;32m    190\u001b[0m         filepath,\n\u001b[0;32m    191\u001b[0m         custom_objects\u001b[38;5;241m=\u001b[39mcustom_objects,\n\u001b[0;32m    192\u001b[0m         \u001b[38;5;28mcompile\u001b[39m\u001b[38;5;241m=\u001b[39m\u001b[38;5;28mcompile\u001b[39m,\n\u001b[0;32m    193\u001b[0m         safe_mode\u001b[38;5;241m=\u001b[39msafe_mode,\n\u001b[0;32m    194\u001b[0m     )\n\u001b[0;32m    195\u001b[0m \u001b[38;5;28;01mif\u001b[39;00m \u001b[38;5;28mstr\u001b[39m(filepath)\u001b[38;5;241m.\u001b[39mendswith((\u001b[38;5;124m\"\u001b[39m\u001b[38;5;124m.h5\u001b[39m\u001b[38;5;124m\"\u001b[39m, \u001b[38;5;124m\"\u001b[39m\u001b[38;5;124m.hdf5\u001b[39m\u001b[38;5;124m\"\u001b[39m)):\n\u001b[1;32m--> 196\u001b[0m     \u001b[38;5;28;01mreturn\u001b[39;00m \u001b[43mlegacy_h5_format\u001b[49m\u001b[38;5;241;43m.\u001b[39;49m\u001b[43mload_model_from_hdf5\u001b[49m\u001b[43m(\u001b[49m\n\u001b[0;32m    197\u001b[0m \u001b[43m        \u001b[49m\u001b[43mfilepath\u001b[49m\u001b[43m,\u001b[49m\u001b[43m \u001b[49m\u001b[43mcustom_objects\u001b[49m\u001b[38;5;241;43m=\u001b[39;49m\u001b[43mcustom_objects\u001b[49m\u001b[43m,\u001b[49m\u001b[43m \u001b[49m\u001b[38;5;28;43mcompile\u001b[39;49m\u001b[38;5;241;43m=\u001b[39;49m\u001b[38;5;28;43mcompile\u001b[39;49m\n\u001b[0;32m    198\u001b[0m \u001b[43m    \u001b[49m\u001b[43m)\u001b[49m\n\u001b[0;32m    199\u001b[0m \u001b[38;5;28;01melif\u001b[39;00m \u001b[38;5;28mstr\u001b[39m(filepath)\u001b[38;5;241m.\u001b[39mendswith(\u001b[38;5;124m\"\u001b[39m\u001b[38;5;124m.keras\u001b[39m\u001b[38;5;124m\"\u001b[39m):\n\u001b[0;32m    200\u001b[0m     \u001b[38;5;28;01mraise\u001b[39;00m \u001b[38;5;167;01mValueError\u001b[39;00m(\n\u001b[0;32m    201\u001b[0m         \u001b[38;5;124mf\u001b[39m\u001b[38;5;124m\"\u001b[39m\u001b[38;5;124mFile not found: filepath=\u001b[39m\u001b[38;5;132;01m{\u001b[39;00mfilepath\u001b[38;5;132;01m}\u001b[39;00m\u001b[38;5;124m. \u001b[39m\u001b[38;5;124m\"\u001b[39m\n\u001b[0;32m    202\u001b[0m         \u001b[38;5;124m\"\u001b[39m\u001b[38;5;124mPlease ensure the file is an accessible `.keras` \u001b[39m\u001b[38;5;124m\"\u001b[39m\n\u001b[0;32m    203\u001b[0m         \u001b[38;5;124m\"\u001b[39m\u001b[38;5;124mzip file.\u001b[39m\u001b[38;5;124m\"\u001b[39m\n\u001b[0;32m    204\u001b[0m     )\n",
      "File \u001b[1;32mc:\\Users\\auria\\AppData\\Local\\Programs\\Python\\Python312\\Lib\\site-packages\\keras\\src\\legacy\\saving\\legacy_h5_format.py:116\u001b[0m, in \u001b[0;36mload_model_from_hdf5\u001b[1;34m(filepath, custom_objects, compile)\u001b[0m\n\u001b[0;32m    114\u001b[0m opened_new_file \u001b[38;5;241m=\u001b[39m \u001b[38;5;129;01mnot\u001b[39;00m \u001b[38;5;28misinstance\u001b[39m(filepath, h5py\u001b[38;5;241m.\u001b[39mFile)\n\u001b[0;32m    115\u001b[0m \u001b[38;5;28;01mif\u001b[39;00m opened_new_file:\n\u001b[1;32m--> 116\u001b[0m     f \u001b[38;5;241m=\u001b[39m \u001b[43mh5py\u001b[49m\u001b[38;5;241;43m.\u001b[39;49m\u001b[43mFile\u001b[49m\u001b[43m(\u001b[49m\u001b[43mfilepath\u001b[49m\u001b[43m,\u001b[49m\u001b[43m \u001b[49m\u001b[43mmode\u001b[49m\u001b[38;5;241;43m=\u001b[39;49m\u001b[38;5;124;43m\"\u001b[39;49m\u001b[38;5;124;43mr\u001b[39;49m\u001b[38;5;124;43m\"\u001b[39;49m\u001b[43m)\u001b[49m\n\u001b[0;32m    117\u001b[0m \u001b[38;5;28;01melse\u001b[39;00m:\n\u001b[0;32m    118\u001b[0m     f \u001b[38;5;241m=\u001b[39m filepath\n",
      "File \u001b[1;32mc:\\Users\\auria\\AppData\\Local\\Programs\\Python\\Python312\\Lib\\site-packages\\h5py\\_hl\\files.py:561\u001b[0m, in \u001b[0;36mFile.__init__\u001b[1;34m(self, name, mode, driver, libver, userblock_size, swmr, rdcc_nslots, rdcc_nbytes, rdcc_w0, track_order, fs_strategy, fs_persist, fs_threshold, fs_page_size, page_buf_size, min_meta_keep, min_raw_keep, locking, alignment_threshold, alignment_interval, meta_block_size, **kwds)\u001b[0m\n\u001b[0;32m    552\u001b[0m     fapl \u001b[38;5;241m=\u001b[39m make_fapl(driver, libver, rdcc_nslots, rdcc_nbytes, rdcc_w0,\n\u001b[0;32m    553\u001b[0m                      locking, page_buf_size, min_meta_keep, min_raw_keep,\n\u001b[0;32m    554\u001b[0m                      alignment_threshold\u001b[38;5;241m=\u001b[39malignment_threshold,\n\u001b[0;32m    555\u001b[0m                      alignment_interval\u001b[38;5;241m=\u001b[39malignment_interval,\n\u001b[0;32m    556\u001b[0m                      meta_block_size\u001b[38;5;241m=\u001b[39mmeta_block_size,\n\u001b[0;32m    557\u001b[0m                      \u001b[38;5;241m*\u001b[39m\u001b[38;5;241m*\u001b[39mkwds)\n\u001b[0;32m    558\u001b[0m     fcpl \u001b[38;5;241m=\u001b[39m make_fcpl(track_order\u001b[38;5;241m=\u001b[39mtrack_order, fs_strategy\u001b[38;5;241m=\u001b[39mfs_strategy,\n\u001b[0;32m    559\u001b[0m                      fs_persist\u001b[38;5;241m=\u001b[39mfs_persist, fs_threshold\u001b[38;5;241m=\u001b[39mfs_threshold,\n\u001b[0;32m    560\u001b[0m                      fs_page_size\u001b[38;5;241m=\u001b[39mfs_page_size)\n\u001b[1;32m--> 561\u001b[0m     fid \u001b[38;5;241m=\u001b[39m \u001b[43mmake_fid\u001b[49m\u001b[43m(\u001b[49m\u001b[43mname\u001b[49m\u001b[43m,\u001b[49m\u001b[43m \u001b[49m\u001b[43mmode\u001b[49m\u001b[43m,\u001b[49m\u001b[43m \u001b[49m\u001b[43muserblock_size\u001b[49m\u001b[43m,\u001b[49m\u001b[43m \u001b[49m\u001b[43mfapl\u001b[49m\u001b[43m,\u001b[49m\u001b[43m \u001b[49m\u001b[43mfcpl\u001b[49m\u001b[43m,\u001b[49m\u001b[43m \u001b[49m\u001b[43mswmr\u001b[49m\u001b[38;5;241;43m=\u001b[39;49m\u001b[43mswmr\u001b[49m\u001b[43m)\u001b[49m\n\u001b[0;32m    563\u001b[0m \u001b[38;5;28;01mif\u001b[39;00m \u001b[38;5;28misinstance\u001b[39m(libver, \u001b[38;5;28mtuple\u001b[39m):\n\u001b[0;32m    564\u001b[0m     \u001b[38;5;28mself\u001b[39m\u001b[38;5;241m.\u001b[39m_libver \u001b[38;5;241m=\u001b[39m libver\n",
      "File \u001b[1;32mc:\\Users\\auria\\AppData\\Local\\Programs\\Python\\Python312\\Lib\\site-packages\\h5py\\_hl\\files.py:235\u001b[0m, in \u001b[0;36mmake_fid\u001b[1;34m(name, mode, userblock_size, fapl, fcpl, swmr)\u001b[0m\n\u001b[0;32m    233\u001b[0m     \u001b[38;5;28;01mif\u001b[39;00m swmr \u001b[38;5;129;01mand\u001b[39;00m swmr_support:\n\u001b[0;32m    234\u001b[0m         flags \u001b[38;5;241m|\u001b[39m\u001b[38;5;241m=\u001b[39m h5f\u001b[38;5;241m.\u001b[39mACC_SWMR_READ\n\u001b[1;32m--> 235\u001b[0m     fid \u001b[38;5;241m=\u001b[39m \u001b[43mh5f\u001b[49m\u001b[38;5;241;43m.\u001b[39;49m\u001b[43mopen\u001b[49m\u001b[43m(\u001b[49m\u001b[43mname\u001b[49m\u001b[43m,\u001b[49m\u001b[43m \u001b[49m\u001b[43mflags\u001b[49m\u001b[43m,\u001b[49m\u001b[43m \u001b[49m\u001b[43mfapl\u001b[49m\u001b[38;5;241;43m=\u001b[39;49m\u001b[43mfapl\u001b[49m\u001b[43m)\u001b[49m\n\u001b[0;32m    236\u001b[0m \u001b[38;5;28;01melif\u001b[39;00m mode \u001b[38;5;241m==\u001b[39m \u001b[38;5;124m'\u001b[39m\u001b[38;5;124mr+\u001b[39m\u001b[38;5;124m'\u001b[39m:\n\u001b[0;32m    237\u001b[0m     fid \u001b[38;5;241m=\u001b[39m h5f\u001b[38;5;241m.\u001b[39mopen(name, h5f\u001b[38;5;241m.\u001b[39mACC_RDWR, fapl\u001b[38;5;241m=\u001b[39mfapl)\n",
      "File \u001b[1;32mh5py\\\\_objects.pyx:54\u001b[0m, in \u001b[0;36mh5py._objects.with_phil.wrapper\u001b[1;34m()\u001b[0m\n",
      "File \u001b[1;32mh5py\\\\_objects.pyx:55\u001b[0m, in \u001b[0;36mh5py._objects.with_phil.wrapper\u001b[1;34m()\u001b[0m\n",
      "File \u001b[1;32mh5py\\\\h5f.pyx:102\u001b[0m, in \u001b[0;36mh5py.h5f.open\u001b[1;34m()\u001b[0m\n",
      "\u001b[1;31mFileNotFoundError\u001b[0m: [Errno 2] Unable to synchronously open file (unable to open file: name = 'model_best.h5', errno = 2, error message = 'No such file or directory', flags = 0, o_flags = 0)"
     ]
    }
   ],
   "source": [
    "saved_model = load_model('model_best.h5')"
   ]
  },
  {
   "cell_type": "code",
   "execution_count": 159,
   "metadata": {},
   "outputs": [
    {
     "name": "stdout",
     "output_type": "stream",
     "text": [
      "313/313 - 0s - 1ms/step - accuracy: 0.1000 - loss: 4.8520\n",
      "\n",
      "Test accuracy: 0.10000000149011612\n"
     ]
    }
   ],
   "source": [
    "test_loss, test_acc = model.evaluate(test_images, test_labels, verbose=2)\n",
    "print('\\nTest accuracy:', test_acc)"
   ]
  },
  {
   "cell_type": "code",
   "execution_count": null,
   "metadata": {},
   "outputs": [
    {
     "name": "stdout",
     "output_type": "stream",
     "text": [
      "\u001b[1m313/313\u001b[0m \u001b[32m━━━━━━━━━━━━━━━━━━━━\u001b[0m\u001b[37m\u001b[0m \u001b[1m0s\u001b[0m 802us/step\n"
     ]
    }
   ],
   "source": [
    "predictions = model.predict(test_images)"
   ]
  },
  {
   "cell_type": "code",
   "execution_count": 153,
   "metadata": {},
   "outputs": [
    {
     "data": {
      "text/plain": [
       "array([0., 0., 0., 0., 0., 0., 0., 0., 0., 0., 0., 0., 0., 0., 0., 0., 0.,\n",
       "       0., 0., 0., 0., 0., 0., 0., 0., 0., 0., 0., 0., 0., 0., 0., 0., 0.,\n",
       "       0., 0., 0., 0., 0., 0., 0., 0., 0., 0., 0., 0., 0., 0., 0., 0., 0.,\n",
       "       0., 0., 0., 0., 0., 0., 0., 0., 0., 0., 0., 0., 0., 0., 0., 0., 0.,\n",
       "       0., 0., 0., 0., 0., 0., 0., 0., 0., 0., 0., 0., 0., 0., 0., 0., 0.,\n",
       "       0., 0., 0., 0., 0., 0., 0., 0., 0., 0., 0., 0., 0., 0., 0., 0., 0.,\n",
       "       0., 0., 0., 0., 0., 0., 0., 0., 0., 0., 0., 0., 0., 0., 0., 0., 0.,\n",
       "       0., 0., 0., 0., 0., 0., 0., 0., 0.], dtype=float32)"
      ]
     },
     "execution_count": 153,
     "metadata": {},
     "output_type": "execute_result"
    }
   ],
   "source": [
    "predictions[10]"
   ]
  },
  {
   "cell_type": "code",
   "execution_count": 154,
   "metadata": {},
   "outputs": [
    {
     "data": {
      "text/plain": [
       "np.int64(0)"
      ]
     },
     "execution_count": 154,
     "metadata": {},
     "output_type": "execute_result"
    }
   ],
   "source": [
    "np.argmax(predictions[10])"
   ]
  },
  {
   "cell_type": "code",
   "execution_count": 163,
   "metadata": {},
   "outputs": [
    {
     "data": {
      "text/plain": [
       "np.uint8(4)"
      ]
     },
     "execution_count": 163,
     "metadata": {},
     "output_type": "execute_result"
    }
   ],
   "source": [
    "test_labels[10]"
   ]
  },
  {
   "cell_type": "code",
   "execution_count": 156,
   "metadata": {},
   "outputs": [],
   "source": [
    "def plot_image(i, predictions_array, true_label, img):\n",
    "\n",
    "  plt.xticks([])\n",
    "  plt.yticks([])\n",
    "  plt.imshow(img.reshape(28, 28))\n",
    "  predicted_label = np.argmax(predictions_array)\n",
    "  if predicted_label == true_label:\n",
    "    color = 'blue'\n",
    "  else:\n",
    "    color = 'red'\n",
    "\n",
    "  plt.xlabel(\"{} {:2.0f}% ({})\".format(class_names[predicted_label],\n",
    "                                100*np.max(predictions_array),\n",
    "                                class_names[true_label]),\n",
    "                                color=color)"
   ]
  },
  {
   "cell_type": "code",
   "execution_count": 157,
   "metadata": {},
   "outputs": [
    {
     "data": {
      "image/png": "[encoded data removed]",
      "text/plain": [
       "<Figure size 600x300 with 1 Axes>"
      ]
     },
     "metadata": {},
     "output_type": "display_data"
    },
    {
     "data": {
      "text/plain": [
       "array([0., 0., 0., 0., 0., 0., 0., 0., 0., 0., 0., 0., 0., 0., 0., 0., 0.,\n",
       "       0., 0., 0., 0., 0., 0., 0., 0., 0., 0., 0., 0., 0., 0., 0., 0., 0.,\n",
       "       0., 0., 0., 0., 0., 0., 0., 0., 0., 0., 0., 0., 0., 0., 0., 0., 0.,\n",
       "       0., 0., 0., 0., 0., 0., 0., 0., 0., 0., 0., 0., 0., 0., 0., 0., 0.,\n",
       "       0., 0., 0., 0., 0., 0., 0., 0., 0., 0., 0., 0., 0., 0., 0., 0., 0.,\n",
       "       0., 0., 0., 0., 0., 0., 0., 0., 0., 0., 0., 0., 0., 0., 0., 0., 0.,\n",
       "       0., 0., 0., 0., 0., 0., 0., 0., 0., 0., 0., 0., 0., 0., 0., 0., 0.,\n",
       "       0., 0., 0., 0., 0., 0., 0., 0., 0.], dtype=float32)"
      ]
     },
     "execution_count": 157,
     "metadata": {},
     "output_type": "execute_result"
    }
   ],
   "source": [
    "i = 50\n",
    "plt.figure(figsize=(6,3))\n",
    "plot_image(i, predictions[i], test_labels[i], test_images[i])\n",
    "plt.show()\n",
    "predictions[i]"
   ]
  },
  {
   "cell_type": "markdown",
   "metadata": {
    "id": "ajp5lR0OrInH"
   },
   "source": [
    "# Converting a notebook to html"
   ]
  },
  {
   "cell_type": "code",
   "execution_count": 158,
   "metadata": {
    "colab": {
     "base_uri": "https://localhost:8080/"
    },
    "executionInfo": {
     "elapsed": 25085,
     "status": "ok",
     "timestamp": 1687277965522,
     "user": {
      "displayName": "Walid Kheriji",
      "userId": "17231722363260848260"
     },
     "user_tz": -120
    },
    "id": "a-0EJTVlrHYe",
    "outputId": "dce01781-5f50-43d3-b6e4-b22b056ba68f"
   },
   "outputs": [],
   "source": [
    "# from google.colab import drive\n",
    "# drive.mount('/content/gdrive')\n",
    "# #%%shell\n",
    "# !jupyter nbconvert --to html '/content/gdrive/MyDrive/Colab Notebooks/DL_Lab1_NN.ipynb'"
   ]
  }
 ],
 "metadata": {
  "colab": {
   "authorship_tag": "ABX9TyOKX3xjC+PiBxFev+/qvGYo",
   "provenance": [
    {
     "file_id": "1x4JHYPDIwK2eWMMDxR00-UYkDokkshnF",
     "timestamp": 1687211070013
    }
   ]
  },
  "kernelspec": {
   "display_name": "Python 3",
   "name": "python3"
  },
  "language_info": {
   "codemirror_mode": {
    "name": "ipython",
    "version": 3
   },
   "file_extension": ".py",
   "mimetype": "text/x-python",
   "name": "python",
   "nbconvert_exporter": "python",
   "pygments_lexer": "ipython3",
   "version": "3.12.5"
  }
 },
 "nbformat": 4,
 "nbformat_minor": 0
}
